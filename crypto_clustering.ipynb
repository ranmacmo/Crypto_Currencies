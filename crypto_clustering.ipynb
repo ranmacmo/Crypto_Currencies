{
 "cells": [
  {
   "cell_type": "markdown",
   "metadata": {},
   "source": [
    "# Clustering Crypto"
   ]
  },
  {
   "cell_type": "code",
   "execution_count": 74,
   "metadata": {},
   "outputs": [],
   "source": [
    "# Initial imports\n",
    "import pandas as pd\n",
    "import hvplot.pandas\n",
    "from path import Path\n",
    "import plotly.express as px\n",
    "from sklearn.preprocessing import StandardScaler, MinMaxScaler\n",
    "from sklearn.decomposition import PCA\n",
    "from sklearn.cluster import KMeans\n"
   ]
  },
  {
   "cell_type": "markdown",
   "metadata": {},
   "source": [
    "### Deliverable 1: Preprocessing the Data for PCA"
   ]
  },
  {
   "cell_type": "code",
   "execution_count": 75,
   "metadata": {},
   "outputs": [
    {
     "data": {
      "text/plain": "  Unnamed: 0   CoinName Algorithm  IsTrading ProofType  TotalCoinsMined  \\\n0         42    42 Coin    Scrypt       True   PoW/PoS     4.199995e+01   \n1        365    365Coin       X11       True   PoW/PoS              NaN   \n2        404    404Coin    Scrypt       True   PoW/PoS     1.055185e+09   \n3        611  SixEleven   SHA-256       True       PoW              NaN   \n4        808        808   SHA-256       True   PoW/PoS     0.000000e+00   \n5       1337  EliteCoin       X13       True   PoW/PoS     2.927942e+10   \n6       2015  2015 coin       X11       True   PoW/PoS              NaN   \n7        BTC    Bitcoin   SHA-256       True       PoW     1.792718e+07   \n8        ETH   Ethereum    Ethash       True       PoW     1.076842e+08   \n9        LTC   Litecoin    Scrypt       True       PoW     6.303924e+07   \n\n  TotalCoinSupply  \n0              42  \n1      2300000000  \n2       532000000  \n3          611000  \n4               0  \n5    314159265359  \n6               0  \n7        21000000  \n8               0  \n9        84000000  ",
      "text/html": "<div>\n<style scoped>\n    .dataframe tbody tr th:only-of-type {\n        vertical-align: middle;\n    }\n\n    .dataframe tbody tr th {\n        vertical-align: top;\n    }\n\n    .dataframe thead th {\n        text-align: right;\n    }\n</style>\n<table border=\"1\" class=\"dataframe\">\n  <thead>\n    <tr style=\"text-align: right;\">\n      <th></th>\n      <th>Unnamed: 0</th>\n      <th>CoinName</th>\n      <th>Algorithm</th>\n      <th>IsTrading</th>\n      <th>ProofType</th>\n      <th>TotalCoinsMined</th>\n      <th>TotalCoinSupply</th>\n    </tr>\n  </thead>\n  <tbody>\n    <tr>\n      <th>0</th>\n      <td>42</td>\n      <td>42 Coin</td>\n      <td>Scrypt</td>\n      <td>True</td>\n      <td>PoW/PoS</td>\n      <td>4.199995e+01</td>\n      <td>42</td>\n    </tr>\n    <tr>\n      <th>1</th>\n      <td>365</td>\n      <td>365Coin</td>\n      <td>X11</td>\n      <td>True</td>\n      <td>PoW/PoS</td>\n      <td>NaN</td>\n      <td>2300000000</td>\n    </tr>\n    <tr>\n      <th>2</th>\n      <td>404</td>\n      <td>404Coin</td>\n      <td>Scrypt</td>\n      <td>True</td>\n      <td>PoW/PoS</td>\n      <td>1.055185e+09</td>\n      <td>532000000</td>\n    </tr>\n    <tr>\n      <th>3</th>\n      <td>611</td>\n      <td>SixEleven</td>\n      <td>SHA-256</td>\n      <td>True</td>\n      <td>PoW</td>\n      <td>NaN</td>\n      <td>611000</td>\n    </tr>\n    <tr>\n      <th>4</th>\n      <td>808</td>\n      <td>808</td>\n      <td>SHA-256</td>\n      <td>True</td>\n      <td>PoW/PoS</td>\n      <td>0.000000e+00</td>\n      <td>0</td>\n    </tr>\n    <tr>\n      <th>5</th>\n      <td>1337</td>\n      <td>EliteCoin</td>\n      <td>X13</td>\n      <td>True</td>\n      <td>PoW/PoS</td>\n      <td>2.927942e+10</td>\n      <td>314159265359</td>\n    </tr>\n    <tr>\n      <th>6</th>\n      <td>2015</td>\n      <td>2015 coin</td>\n      <td>X11</td>\n      <td>True</td>\n      <td>PoW/PoS</td>\n      <td>NaN</td>\n      <td>0</td>\n    </tr>\n    <tr>\n      <th>7</th>\n      <td>BTC</td>\n      <td>Bitcoin</td>\n      <td>SHA-256</td>\n      <td>True</td>\n      <td>PoW</td>\n      <td>1.792718e+07</td>\n      <td>21000000</td>\n    </tr>\n    <tr>\n      <th>8</th>\n      <td>ETH</td>\n      <td>Ethereum</td>\n      <td>Ethash</td>\n      <td>True</td>\n      <td>PoW</td>\n      <td>1.076842e+08</td>\n      <td>0</td>\n    </tr>\n    <tr>\n      <th>9</th>\n      <td>LTC</td>\n      <td>Litecoin</td>\n      <td>Scrypt</td>\n      <td>True</td>\n      <td>PoW</td>\n      <td>6.303924e+07</td>\n      <td>84000000</td>\n    </tr>\n  </tbody>\n</table>\n</div>"
     },
     "execution_count": 75,
     "metadata": {},
     "output_type": "execute_result"
    }
   ],
   "source": [
    "# Load the crypto_data.csv dataset.\n",
    "file = Path('resources/crypto_data.csv')\n",
    "crypto_df = pd.read_csv(file)\n",
    "crypto_df.head(10)"
   ]
  },
  {
   "cell_type": "markdown",
   "source": [
    "###  Explore Data"
   ],
   "metadata": {
    "collapsed": false
   }
  },
  {
   "cell_type": "code",
   "execution_count": 76,
   "outputs": [
    {
     "data": {
      "text/plain": "Unnamed: 0          object\nCoinName            object\nAlgorithm           object\nIsTrading             bool\nProofType           object\nTotalCoinsMined    float64\nTotalCoinSupply     object\ndtype: object"
     },
     "execution_count": 76,
     "metadata": {},
     "output_type": "execute_result"
    }
   ],
   "source": [
    "crypto_df.dtypes"
   ],
   "metadata": {
    "collapsed": false
   }
  },
  {
   "cell_type": "code",
   "execution_count": 77,
   "outputs": [
    {
     "data": {
      "text/plain": "0"
     },
     "execution_count": 77,
     "metadata": {},
     "output_type": "execute_result"
    }
   ],
   "source": [
    "# Check for duplicates\n",
    "crypto_df.duplicated().sum()"
   ],
   "metadata": {
    "collapsed": false
   }
  },
  {
   "cell_type": "code",
   "execution_count": 78,
   "outputs": [
    {
     "data": {
      "text/plain": "       CoinName Algorithm  IsTrading ProofType  TotalCoinsMined  \\\n                                                                  \n42      42 Coin    Scrypt       True   PoW/PoS     4.199995e+01   \n365     365Coin       X11       True   PoW/PoS              NaN   \n404     404Coin    Scrypt       True   PoW/PoS     1.055185e+09   \n611   SixEleven   SHA-256       True       PoW              NaN   \n808         808   SHA-256       True   PoW/PoS     0.000000e+00   \n1337  EliteCoin       X13       True   PoW/PoS     2.927942e+10   \n2015  2015 coin       X11       True   PoW/PoS              NaN   \nBTC     Bitcoin   SHA-256       True       PoW     1.792718e+07   \nETH    Ethereum    Ethash       True       PoW     1.076842e+08   \nLTC    Litecoin    Scrypt       True       PoW     6.303924e+07   \n\n     TotalCoinSupply  \n                      \n42                42  \n365       2300000000  \n404        532000000  \n611           611000  \n808                0  \n1337    314159265359  \n2015               0  \nBTC         21000000  \nETH                0  \nLTC         84000000  ",
      "text/html": "<div>\n<style scoped>\n    .dataframe tbody tr th:only-of-type {\n        vertical-align: middle;\n    }\n\n    .dataframe tbody tr th {\n        vertical-align: top;\n    }\n\n    .dataframe thead th {\n        text-align: right;\n    }\n</style>\n<table border=\"1\" class=\"dataframe\">\n  <thead>\n    <tr style=\"text-align: right;\">\n      <th></th>\n      <th>CoinName</th>\n      <th>Algorithm</th>\n      <th>IsTrading</th>\n      <th>ProofType</th>\n      <th>TotalCoinsMined</th>\n      <th>TotalCoinSupply</th>\n    </tr>\n    <tr>\n      <th></th>\n      <th></th>\n      <th></th>\n      <th></th>\n      <th></th>\n      <th></th>\n      <th></th>\n    </tr>\n  </thead>\n  <tbody>\n    <tr>\n      <th>42</th>\n      <td>42 Coin</td>\n      <td>Scrypt</td>\n      <td>True</td>\n      <td>PoW/PoS</td>\n      <td>4.199995e+01</td>\n      <td>42</td>\n    </tr>\n    <tr>\n      <th>365</th>\n      <td>365Coin</td>\n      <td>X11</td>\n      <td>True</td>\n      <td>PoW/PoS</td>\n      <td>NaN</td>\n      <td>2300000000</td>\n    </tr>\n    <tr>\n      <th>404</th>\n      <td>404Coin</td>\n      <td>Scrypt</td>\n      <td>True</td>\n      <td>PoW/PoS</td>\n      <td>1.055185e+09</td>\n      <td>532000000</td>\n    </tr>\n    <tr>\n      <th>611</th>\n      <td>SixEleven</td>\n      <td>SHA-256</td>\n      <td>True</td>\n      <td>PoW</td>\n      <td>NaN</td>\n      <td>611000</td>\n    </tr>\n    <tr>\n      <th>808</th>\n      <td>808</td>\n      <td>SHA-256</td>\n      <td>True</td>\n      <td>PoW/PoS</td>\n      <td>0.000000e+00</td>\n      <td>0</td>\n    </tr>\n    <tr>\n      <th>1337</th>\n      <td>EliteCoin</td>\n      <td>X13</td>\n      <td>True</td>\n      <td>PoW/PoS</td>\n      <td>2.927942e+10</td>\n      <td>314159265359</td>\n    </tr>\n    <tr>\n      <th>2015</th>\n      <td>2015 coin</td>\n      <td>X11</td>\n      <td>True</td>\n      <td>PoW/PoS</td>\n      <td>NaN</td>\n      <td>0</td>\n    </tr>\n    <tr>\n      <th>BTC</th>\n      <td>Bitcoin</td>\n      <td>SHA-256</td>\n      <td>True</td>\n      <td>PoW</td>\n      <td>1.792718e+07</td>\n      <td>21000000</td>\n    </tr>\n    <tr>\n      <th>ETH</th>\n      <td>Ethereum</td>\n      <td>Ethash</td>\n      <td>True</td>\n      <td>PoW</td>\n      <td>1.076842e+08</td>\n      <td>0</td>\n    </tr>\n    <tr>\n      <th>LTC</th>\n      <td>Litecoin</td>\n      <td>Scrypt</td>\n      <td>True</td>\n      <td>PoW</td>\n      <td>6.303924e+07</td>\n      <td>84000000</td>\n    </tr>\n  </tbody>\n</table>\n</div>"
     },
     "execution_count": 78,
     "metadata": {},
     "output_type": "execute_result"
    }
   ],
   "source": [
    "# Cleanup \"un-named\" column & set as index per screenshots\n",
    "crypto_df = crypto_df.rename(columns={'Unnamed: 0': ''})\n",
    "crypto_df = crypto_df.set_index('')\n",
    "\n",
    "crypto_df.head(10)"
   ],
   "metadata": {
    "collapsed": false
   }
  },
  {
   "cell_type": "code",
   "execution_count": 79,
   "metadata": {},
   "outputs": [
    {
     "data": {
      "text/plain": "         CoinName    Algorithm  IsTrading ProofType  TotalCoinsMined  \\\n                                                                       \n42        42 Coin       Scrypt       True   PoW/PoS     4.199995e+01   \n365       365Coin          X11       True   PoW/PoS              NaN   \n404       404Coin       Scrypt       True   PoW/PoS     1.055185e+09   \n611     SixEleven      SHA-256       True       PoW              NaN   \n808           808      SHA-256       True   PoW/PoS     0.000000e+00   \n...           ...          ...        ...       ...              ...   \nSERO   Super Zero       Ethash       True       PoW              NaN   \nUOS           UOS      SHA-256       True      DPoI              NaN   \nBDX        Beldex  CryptoNight       True       PoW     9.802226e+08   \nZEN       Horizen     Equihash       True       PoW     7.296538e+06   \nXBC   BitcoinPlus       Scrypt       True       PoS     1.283270e+05   \n\n     TotalCoinSupply  \n                      \n42                42  \n365       2300000000  \n404        532000000  \n611           611000  \n808                0  \n...              ...  \nSERO      1000000000  \nUOS       1000000000  \nBDX       1400222610  \nZEN         21000000  \nXBC          1000000  \n\n[1144 rows x 6 columns]",
      "text/html": "<div>\n<style scoped>\n    .dataframe tbody tr th:only-of-type {\n        vertical-align: middle;\n    }\n\n    .dataframe tbody tr th {\n        vertical-align: top;\n    }\n\n    .dataframe thead th {\n        text-align: right;\n    }\n</style>\n<table border=\"1\" class=\"dataframe\">\n  <thead>\n    <tr style=\"text-align: right;\">\n      <th></th>\n      <th>CoinName</th>\n      <th>Algorithm</th>\n      <th>IsTrading</th>\n      <th>ProofType</th>\n      <th>TotalCoinsMined</th>\n      <th>TotalCoinSupply</th>\n    </tr>\n    <tr>\n      <th></th>\n      <th></th>\n      <th></th>\n      <th></th>\n      <th></th>\n      <th></th>\n      <th></th>\n    </tr>\n  </thead>\n  <tbody>\n    <tr>\n      <th>42</th>\n      <td>42 Coin</td>\n      <td>Scrypt</td>\n      <td>True</td>\n      <td>PoW/PoS</td>\n      <td>4.199995e+01</td>\n      <td>42</td>\n    </tr>\n    <tr>\n      <th>365</th>\n      <td>365Coin</td>\n      <td>X11</td>\n      <td>True</td>\n      <td>PoW/PoS</td>\n      <td>NaN</td>\n      <td>2300000000</td>\n    </tr>\n    <tr>\n      <th>404</th>\n      <td>404Coin</td>\n      <td>Scrypt</td>\n      <td>True</td>\n      <td>PoW/PoS</td>\n      <td>1.055185e+09</td>\n      <td>532000000</td>\n    </tr>\n    <tr>\n      <th>611</th>\n      <td>SixEleven</td>\n      <td>SHA-256</td>\n      <td>True</td>\n      <td>PoW</td>\n      <td>NaN</td>\n      <td>611000</td>\n    </tr>\n    <tr>\n      <th>808</th>\n      <td>808</td>\n      <td>SHA-256</td>\n      <td>True</td>\n      <td>PoW/PoS</td>\n      <td>0.000000e+00</td>\n      <td>0</td>\n    </tr>\n    <tr>\n      <th>...</th>\n      <td>...</td>\n      <td>...</td>\n      <td>...</td>\n      <td>...</td>\n      <td>...</td>\n      <td>...</td>\n    </tr>\n    <tr>\n      <th>SERO</th>\n      <td>Super Zero</td>\n      <td>Ethash</td>\n      <td>True</td>\n      <td>PoW</td>\n      <td>NaN</td>\n      <td>1000000000</td>\n    </tr>\n    <tr>\n      <th>UOS</th>\n      <td>UOS</td>\n      <td>SHA-256</td>\n      <td>True</td>\n      <td>DPoI</td>\n      <td>NaN</td>\n      <td>1000000000</td>\n    </tr>\n    <tr>\n      <th>BDX</th>\n      <td>Beldex</td>\n      <td>CryptoNight</td>\n      <td>True</td>\n      <td>PoW</td>\n      <td>9.802226e+08</td>\n      <td>1400222610</td>\n    </tr>\n    <tr>\n      <th>ZEN</th>\n      <td>Horizen</td>\n      <td>Equihash</td>\n      <td>True</td>\n      <td>PoW</td>\n      <td>7.296538e+06</td>\n      <td>21000000</td>\n    </tr>\n    <tr>\n      <th>XBC</th>\n      <td>BitcoinPlus</td>\n      <td>Scrypt</td>\n      <td>True</td>\n      <td>PoS</td>\n      <td>1.283270e+05</td>\n      <td>1000000</td>\n    </tr>\n  </tbody>\n</table>\n<p>1144 rows × 6 columns</p>\n</div>"
     },
     "execution_count": 79,
     "metadata": {},
     "output_type": "execute_result"
    }
   ],
   "source": [
    "# Keep all the cryptocurrencies that are being traded.\n",
    "trading_crypto_df =  crypto_df[crypto_df['IsTrading'] == True]\n",
    "trading_crypto_df"
   ]
  },
  {
   "cell_type": "code",
   "execution_count": 80,
   "metadata": {},
   "outputs": [
    {
     "data": {
      "text/plain": "         CoinName    Algorithm ProofType  TotalCoinsMined TotalCoinSupply\n                                                                         \n42        42 Coin       Scrypt   PoW/PoS     4.199995e+01              42\n365       365Coin          X11   PoW/PoS              NaN      2300000000\n404       404Coin       Scrypt   PoW/PoS     1.055185e+09       532000000\n611     SixEleven      SHA-256       PoW              NaN          611000\n808           808      SHA-256   PoW/PoS     0.000000e+00               0\n...           ...          ...       ...              ...             ...\nSERO   Super Zero       Ethash       PoW              NaN      1000000000\nUOS           UOS      SHA-256      DPoI              NaN      1000000000\nBDX        Beldex  CryptoNight       PoW     9.802226e+08      1400222610\nZEN       Horizen     Equihash       PoW     7.296538e+06        21000000\nXBC   BitcoinPlus       Scrypt       PoS     1.283270e+05         1000000\n\n[1144 rows x 5 columns]",
      "text/html": "<div>\n<style scoped>\n    .dataframe tbody tr th:only-of-type {\n        vertical-align: middle;\n    }\n\n    .dataframe tbody tr th {\n        vertical-align: top;\n    }\n\n    .dataframe thead th {\n        text-align: right;\n    }\n</style>\n<table border=\"1\" class=\"dataframe\">\n  <thead>\n    <tr style=\"text-align: right;\">\n      <th></th>\n      <th>CoinName</th>\n      <th>Algorithm</th>\n      <th>ProofType</th>\n      <th>TotalCoinsMined</th>\n      <th>TotalCoinSupply</th>\n    </tr>\n    <tr>\n      <th></th>\n      <th></th>\n      <th></th>\n      <th></th>\n      <th></th>\n      <th></th>\n    </tr>\n  </thead>\n  <tbody>\n    <tr>\n      <th>42</th>\n      <td>42 Coin</td>\n      <td>Scrypt</td>\n      <td>PoW/PoS</td>\n      <td>4.199995e+01</td>\n      <td>42</td>\n    </tr>\n    <tr>\n      <th>365</th>\n      <td>365Coin</td>\n      <td>X11</td>\n      <td>PoW/PoS</td>\n      <td>NaN</td>\n      <td>2300000000</td>\n    </tr>\n    <tr>\n      <th>404</th>\n      <td>404Coin</td>\n      <td>Scrypt</td>\n      <td>PoW/PoS</td>\n      <td>1.055185e+09</td>\n      <td>532000000</td>\n    </tr>\n    <tr>\n      <th>611</th>\n      <td>SixEleven</td>\n      <td>SHA-256</td>\n      <td>PoW</td>\n      <td>NaN</td>\n      <td>611000</td>\n    </tr>\n    <tr>\n      <th>808</th>\n      <td>808</td>\n      <td>SHA-256</td>\n      <td>PoW/PoS</td>\n      <td>0.000000e+00</td>\n      <td>0</td>\n    </tr>\n    <tr>\n      <th>...</th>\n      <td>...</td>\n      <td>...</td>\n      <td>...</td>\n      <td>...</td>\n      <td>...</td>\n    </tr>\n    <tr>\n      <th>SERO</th>\n      <td>Super Zero</td>\n      <td>Ethash</td>\n      <td>PoW</td>\n      <td>NaN</td>\n      <td>1000000000</td>\n    </tr>\n    <tr>\n      <th>UOS</th>\n      <td>UOS</td>\n      <td>SHA-256</td>\n      <td>DPoI</td>\n      <td>NaN</td>\n      <td>1000000000</td>\n    </tr>\n    <tr>\n      <th>BDX</th>\n      <td>Beldex</td>\n      <td>CryptoNight</td>\n      <td>PoW</td>\n      <td>9.802226e+08</td>\n      <td>1400222610</td>\n    </tr>\n    <tr>\n      <th>ZEN</th>\n      <td>Horizen</td>\n      <td>Equihash</td>\n      <td>PoW</td>\n      <td>7.296538e+06</td>\n      <td>21000000</td>\n    </tr>\n    <tr>\n      <th>XBC</th>\n      <td>BitcoinPlus</td>\n      <td>Scrypt</td>\n      <td>PoS</td>\n      <td>1.283270e+05</td>\n      <td>1000000</td>\n    </tr>\n  </tbody>\n</table>\n<p>1144 rows × 5 columns</p>\n</div>"
     },
     "execution_count": 80,
     "metadata": {},
     "output_type": "execute_result"
    }
   ],
   "source": [
    "# Remove the \"IsTrading\" column.\n",
    "del trading_crypto_df['IsTrading']\n",
    "trading_crypto_df"
   ]
  },
  {
   "cell_type": "code",
   "execution_count": 81,
   "metadata": {},
   "outputs": [
    {
     "data": {
      "text/plain": "CoinName           685\nAlgorithm          685\nProofType          685\nTotalCoinsMined    685\nTotalCoinSupply    685\ndtype: int64"
     },
     "execution_count": 81,
     "metadata": {},
     "output_type": "execute_result"
    }
   ],
   "source": [
    "# Remove rows that have at least 1 null value.\n",
    "trading_crypto_df = trading_crypto_df.dropna(how='any',axis=0)\n",
    "trading_crypto_df.count()"
   ]
  },
  {
   "cell_type": "code",
   "execution_count": 82,
   "metadata": {},
   "outputs": [
    {
     "data": {
      "text/plain": "CoinName           532\nAlgorithm          532\nProofType          532\nTotalCoinsMined    532\nTotalCoinSupply    532\ndtype: int64"
     },
     "execution_count": 82,
     "metadata": {},
     "output_type": "execute_result"
    }
   ],
   "source": [
    "# Keep the rows where coins are mined.\n",
    "trading_crypto_df = trading_crypto_df[trading_crypto_df['TotalCoinsMined'] > 0]\n",
    "trading_crypto_df.count()"
   ]
  },
  {
   "cell_type": "code",
   "execution_count": 83,
   "metadata": {},
   "outputs": [
    {
     "data": {
      "text/plain": "       CoinName\n               \n42      42 Coin\n404     404Coin\n1337  EliteCoin\nBTC     Bitcoin\nETH    Ethereum",
      "text/html": "<div>\n<style scoped>\n    .dataframe tbody tr th:only-of-type {\n        vertical-align: middle;\n    }\n\n    .dataframe tbody tr th {\n        vertical-align: top;\n    }\n\n    .dataframe thead th {\n        text-align: right;\n    }\n</style>\n<table border=\"1\" class=\"dataframe\">\n  <thead>\n    <tr style=\"text-align: right;\">\n      <th></th>\n      <th>CoinName</th>\n    </tr>\n    <tr>\n      <th></th>\n      <th></th>\n    </tr>\n  </thead>\n  <tbody>\n    <tr>\n      <th>42</th>\n      <td>42 Coin</td>\n    </tr>\n    <tr>\n      <th>404</th>\n      <td>404Coin</td>\n    </tr>\n    <tr>\n      <th>1337</th>\n      <td>EliteCoin</td>\n    </tr>\n    <tr>\n      <th>BTC</th>\n      <td>Bitcoin</td>\n    </tr>\n    <tr>\n      <th>ETH</th>\n      <td>Ethereum</td>\n    </tr>\n  </tbody>\n</table>\n</div>"
     },
     "execution_count": 83,
     "metadata": {},
     "output_type": "execute_result"
    }
   ],
   "source": [
    "# Create a new DataFrame that holds only the cryptocurrencies names.\n",
    "crypto_names_df = trading_crypto_df.filter(['CoinName'], axis=1)\n",
    "crypto_names_df.head()"
   ]
  },
  {
   "cell_type": "code",
   "execution_count": 84,
   "metadata": {},
   "outputs": [
    {
     "data": {
      "text/plain": "     Algorithm ProofType  TotalCoinsMined TotalCoinSupply\n                                                         \n42      Scrypt   PoW/PoS     4.199995e+01              42\n404     Scrypt   PoW/PoS     1.055185e+09       532000000\n1337       X13   PoW/PoS     2.927942e+10    314159265359\nBTC    SHA-256       PoW     1.792718e+07        21000000\nETH     Ethash       PoW     1.076842e+08               0",
      "text/html": "<div>\n<style scoped>\n    .dataframe tbody tr th:only-of-type {\n        vertical-align: middle;\n    }\n\n    .dataframe tbody tr th {\n        vertical-align: top;\n    }\n\n    .dataframe thead th {\n        text-align: right;\n    }\n</style>\n<table border=\"1\" class=\"dataframe\">\n  <thead>\n    <tr style=\"text-align: right;\">\n      <th></th>\n      <th>Algorithm</th>\n      <th>ProofType</th>\n      <th>TotalCoinsMined</th>\n      <th>TotalCoinSupply</th>\n    </tr>\n    <tr>\n      <th></th>\n      <th></th>\n      <th></th>\n      <th></th>\n      <th></th>\n    </tr>\n  </thead>\n  <tbody>\n    <tr>\n      <th>42</th>\n      <td>Scrypt</td>\n      <td>PoW/PoS</td>\n      <td>4.199995e+01</td>\n      <td>42</td>\n    </tr>\n    <tr>\n      <th>404</th>\n      <td>Scrypt</td>\n      <td>PoW/PoS</td>\n      <td>1.055185e+09</td>\n      <td>532000000</td>\n    </tr>\n    <tr>\n      <th>1337</th>\n      <td>X13</td>\n      <td>PoW/PoS</td>\n      <td>2.927942e+10</td>\n      <td>314159265359</td>\n    </tr>\n    <tr>\n      <th>BTC</th>\n      <td>SHA-256</td>\n      <td>PoW</td>\n      <td>1.792718e+07</td>\n      <td>21000000</td>\n    </tr>\n    <tr>\n      <th>ETH</th>\n      <td>Ethash</td>\n      <td>PoW</td>\n      <td>1.076842e+08</td>\n      <td>0</td>\n    </tr>\n  </tbody>\n</table>\n</div>"
     },
     "execution_count": 84,
     "metadata": {},
     "output_type": "execute_result"
    }
   ],
   "source": [
    "# Drop the 'CoinName' column since it's not going to be used on the clustering algorithm.\n",
    "del trading_crypto_df['CoinName']\n",
    "trading_crypto_df.head()"
   ]
  },
  {
   "cell_type": "code",
   "execution_count": 85,
   "metadata": {},
   "outputs": [
    {
     "data": {
      "text/plain": "      TotalCoinsMined TotalCoinSupply  Algorithm_1GB AES Pattern Search  \\\n                                                                          \n42       4.199995e+01              42                                 0   \n404      1.055185e+09       532000000                                 0   \n1337     2.927942e+10    314159265359                                 0   \nBTC      1.792718e+07        21000000                                 0   \nETH      1.076842e+08               0                                 0   \n...               ...             ...                               ...   \nZEPH     2.000000e+09      2000000000                                 0   \nGAP      1.493105e+07       250000000                                 0   \nBDX      9.802226e+08      1400222610                                 0   \nZEN      7.296538e+06        21000000                                 0   \nXBC      1.283270e+05         1000000                                 0   \n\n      Algorithm_536  Algorithm_Argon2d  Algorithm_BLAKE256  Algorithm_Blake  \\\n                                                                              \n42                0                  0                   0                0   \n404               0                  0                   0                0   \n1337              0                  0                   0                0   \nBTC               0                  0                   0                0   \nETH               0                  0                   0                0   \n...             ...                ...                 ...              ...   \nZEPH              0                  0                   0                0   \nGAP               0                  0                   0                0   \nBDX               0                  0                   0                0   \nZEN               0                  0                   0                0   \nXBC               0                  0                   0                0   \n\n      Algorithm_Blake2S  Algorithm_Blake2b  Algorithm_C11  ...  \\\n                                                           ...   \n42                    0                  0              0  ...   \n404                   0                  0              0  ...   \n1337                  0                  0              0  ...   \nBTC                   0                  0              0  ...   \nETH                   0                  0              0  ...   \n...                 ...                ...            ...  ...   \nZEPH                  0                  0              0  ...   \nGAP                   0                  0              0  ...   \nBDX                   0                  0              0  ...   \nZEN                   0                  0              0  ...   \nXBC                   0                  0              0  ...   \n\n      ProofType_PoW/PoS  ProofType_PoW/PoS   ProofType_PoW/PoW  \\\n                                                                 \n42                    1                   0                  0   \n404                   1                   0                  0   \n1337                  1                   0                  0   \nBTC                   0                   0                  0   \nETH                   0                   0                  0   \n...                 ...                 ...                ...   \nZEPH                  0                   0                  0   \nGAP                   1                   0                  0   \nBDX                   0                   0                  0   \nZEN                   0                   0                  0   \nXBC                   0                   0                  0   \n\n      ProofType_PoW/nPoS  ProofType_Pos  ProofType_Proof of Authority  \\\n                                                                        \n42                     0              0                             0   \n404                    0              0                             0   \n1337                   0              0                             0   \nBTC                    0              0                             0   \nETH                    0              0                             0   \n...                  ...            ...                           ...   \nZEPH                   0              0                             0   \nGAP                    0              0                             0   \nBDX                    0              0                             0   \nZEN                    0              0                             0   \nXBC                    0              0                             0   \n\n      ProofType_Proof of Trust  ProofType_TPoS  \\\n                                                 \n42                           0               0   \n404                          0               0   \n1337                         0               0   \nBTC                          0               0   \nETH                          0               0   \n...                        ...             ...   \nZEPH                         0               0   \nGAP                          0               0   \nBDX                          0               0   \nZEN                          0               0   \nXBC                          0               0   \n\n      ProofType_Zero-Knowledge Proof  ProofType_dPoW/PoW  \n                                                          \n42                                 0                   0  \n404                                0                   0  \n1337                               0                   0  \nBTC                                0                   0  \nETH                                0                   0  \n...                              ...                 ...  \nZEPH                               0                   0  \nGAP                                0                   0  \nBDX                                0                   0  \nZEN                                0                   0  \nXBC                                0                   0  \n\n[532 rows x 98 columns]",
      "text/html": "<div>\n<style scoped>\n    .dataframe tbody tr th:only-of-type {\n        vertical-align: middle;\n    }\n\n    .dataframe tbody tr th {\n        vertical-align: top;\n    }\n\n    .dataframe thead th {\n        text-align: right;\n    }\n</style>\n<table border=\"1\" class=\"dataframe\">\n  <thead>\n    <tr style=\"text-align: right;\">\n      <th></th>\n      <th>TotalCoinsMined</th>\n      <th>TotalCoinSupply</th>\n      <th>Algorithm_1GB AES Pattern Search</th>\n      <th>Algorithm_536</th>\n      <th>Algorithm_Argon2d</th>\n      <th>Algorithm_BLAKE256</th>\n      <th>Algorithm_Blake</th>\n      <th>Algorithm_Blake2S</th>\n      <th>Algorithm_Blake2b</th>\n      <th>Algorithm_C11</th>\n      <th>...</th>\n      <th>ProofType_PoW/PoS</th>\n      <th>ProofType_PoW/PoS</th>\n      <th>ProofType_PoW/PoW</th>\n      <th>ProofType_PoW/nPoS</th>\n      <th>ProofType_Pos</th>\n      <th>ProofType_Proof of Authority</th>\n      <th>ProofType_Proof of Trust</th>\n      <th>ProofType_TPoS</th>\n      <th>ProofType_Zero-Knowledge Proof</th>\n      <th>ProofType_dPoW/PoW</th>\n    </tr>\n    <tr>\n      <th></th>\n      <th></th>\n      <th></th>\n      <th></th>\n      <th></th>\n      <th></th>\n      <th></th>\n      <th></th>\n      <th></th>\n      <th></th>\n      <th></th>\n      <th></th>\n      <th></th>\n      <th></th>\n      <th></th>\n      <th></th>\n      <th></th>\n      <th></th>\n      <th></th>\n      <th></th>\n      <th></th>\n      <th></th>\n    </tr>\n  </thead>\n  <tbody>\n    <tr>\n      <th>42</th>\n      <td>4.199995e+01</td>\n      <td>42</td>\n      <td>0</td>\n      <td>0</td>\n      <td>0</td>\n      <td>0</td>\n      <td>0</td>\n      <td>0</td>\n      <td>0</td>\n      <td>0</td>\n      <td>...</td>\n      <td>1</td>\n      <td>0</td>\n      <td>0</td>\n      <td>0</td>\n      <td>0</td>\n      <td>0</td>\n      <td>0</td>\n      <td>0</td>\n      <td>0</td>\n      <td>0</td>\n    </tr>\n    <tr>\n      <th>404</th>\n      <td>1.055185e+09</td>\n      <td>532000000</td>\n      <td>0</td>\n      <td>0</td>\n      <td>0</td>\n      <td>0</td>\n      <td>0</td>\n      <td>0</td>\n      <td>0</td>\n      <td>0</td>\n      <td>...</td>\n      <td>1</td>\n      <td>0</td>\n      <td>0</td>\n      <td>0</td>\n      <td>0</td>\n      <td>0</td>\n      <td>0</td>\n      <td>0</td>\n      <td>0</td>\n      <td>0</td>\n    </tr>\n    <tr>\n      <th>1337</th>\n      <td>2.927942e+10</td>\n      <td>314159265359</td>\n      <td>0</td>\n      <td>0</td>\n      <td>0</td>\n      <td>0</td>\n      <td>0</td>\n      <td>0</td>\n      <td>0</td>\n      <td>0</td>\n      <td>...</td>\n      <td>1</td>\n      <td>0</td>\n      <td>0</td>\n      <td>0</td>\n      <td>0</td>\n      <td>0</td>\n      <td>0</td>\n      <td>0</td>\n      <td>0</td>\n      <td>0</td>\n    </tr>\n    <tr>\n      <th>BTC</th>\n      <td>1.792718e+07</td>\n      <td>21000000</td>\n      <td>0</td>\n      <td>0</td>\n      <td>0</td>\n      <td>0</td>\n      <td>0</td>\n      <td>0</td>\n      <td>0</td>\n      <td>0</td>\n      <td>...</td>\n      <td>0</td>\n      <td>0</td>\n      <td>0</td>\n      <td>0</td>\n      <td>0</td>\n      <td>0</td>\n      <td>0</td>\n      <td>0</td>\n      <td>0</td>\n      <td>0</td>\n    </tr>\n    <tr>\n      <th>ETH</th>\n      <td>1.076842e+08</td>\n      <td>0</td>\n      <td>0</td>\n      <td>0</td>\n      <td>0</td>\n      <td>0</td>\n      <td>0</td>\n      <td>0</td>\n      <td>0</td>\n      <td>0</td>\n      <td>...</td>\n      <td>0</td>\n      <td>0</td>\n      <td>0</td>\n      <td>0</td>\n      <td>0</td>\n      <td>0</td>\n      <td>0</td>\n      <td>0</td>\n      <td>0</td>\n      <td>0</td>\n    </tr>\n    <tr>\n      <th>...</th>\n      <td>...</td>\n      <td>...</td>\n      <td>...</td>\n      <td>...</td>\n      <td>...</td>\n      <td>...</td>\n      <td>...</td>\n      <td>...</td>\n      <td>...</td>\n      <td>...</td>\n      <td>...</td>\n      <td>...</td>\n      <td>...</td>\n      <td>...</td>\n      <td>...</td>\n      <td>...</td>\n      <td>...</td>\n      <td>...</td>\n      <td>...</td>\n      <td>...</td>\n      <td>...</td>\n    </tr>\n    <tr>\n      <th>ZEPH</th>\n      <td>2.000000e+09</td>\n      <td>2000000000</td>\n      <td>0</td>\n      <td>0</td>\n      <td>0</td>\n      <td>0</td>\n      <td>0</td>\n      <td>0</td>\n      <td>0</td>\n      <td>0</td>\n      <td>...</td>\n      <td>0</td>\n      <td>0</td>\n      <td>0</td>\n      <td>0</td>\n      <td>0</td>\n      <td>0</td>\n      <td>0</td>\n      <td>0</td>\n      <td>0</td>\n      <td>0</td>\n    </tr>\n    <tr>\n      <th>GAP</th>\n      <td>1.493105e+07</td>\n      <td>250000000</td>\n      <td>0</td>\n      <td>0</td>\n      <td>0</td>\n      <td>0</td>\n      <td>0</td>\n      <td>0</td>\n      <td>0</td>\n      <td>0</td>\n      <td>...</td>\n      <td>1</td>\n      <td>0</td>\n      <td>0</td>\n      <td>0</td>\n      <td>0</td>\n      <td>0</td>\n      <td>0</td>\n      <td>0</td>\n      <td>0</td>\n      <td>0</td>\n    </tr>\n    <tr>\n      <th>BDX</th>\n      <td>9.802226e+08</td>\n      <td>1400222610</td>\n      <td>0</td>\n      <td>0</td>\n      <td>0</td>\n      <td>0</td>\n      <td>0</td>\n      <td>0</td>\n      <td>0</td>\n      <td>0</td>\n      <td>...</td>\n      <td>0</td>\n      <td>0</td>\n      <td>0</td>\n      <td>0</td>\n      <td>0</td>\n      <td>0</td>\n      <td>0</td>\n      <td>0</td>\n      <td>0</td>\n      <td>0</td>\n    </tr>\n    <tr>\n      <th>ZEN</th>\n      <td>7.296538e+06</td>\n      <td>21000000</td>\n      <td>0</td>\n      <td>0</td>\n      <td>0</td>\n      <td>0</td>\n      <td>0</td>\n      <td>0</td>\n      <td>0</td>\n      <td>0</td>\n      <td>...</td>\n      <td>0</td>\n      <td>0</td>\n      <td>0</td>\n      <td>0</td>\n      <td>0</td>\n      <td>0</td>\n      <td>0</td>\n      <td>0</td>\n      <td>0</td>\n      <td>0</td>\n    </tr>\n    <tr>\n      <th>XBC</th>\n      <td>1.283270e+05</td>\n      <td>1000000</td>\n      <td>0</td>\n      <td>0</td>\n      <td>0</td>\n      <td>0</td>\n      <td>0</td>\n      <td>0</td>\n      <td>0</td>\n      <td>0</td>\n      <td>...</td>\n      <td>0</td>\n      <td>0</td>\n      <td>0</td>\n      <td>0</td>\n      <td>0</td>\n      <td>0</td>\n      <td>0</td>\n      <td>0</td>\n      <td>0</td>\n      <td>0</td>\n    </tr>\n  </tbody>\n</table>\n<p>532 rows × 98 columns</p>\n</div>"
     },
     "execution_count": 85,
     "metadata": {},
     "output_type": "execute_result"
    }
   ],
   "source": [
    "# Use get_dummies() to create variables for text features.\n",
    "X = pd.get_dummies(trading_crypto_df,columns=['Algorithm','ProofType'])\n",
    "X"
   ]
  },
  {
   "cell_type": "code",
   "execution_count": 86,
   "metadata": {},
   "outputs": [
    {
     "name": "stdout",
     "output_type": "stream",
     "text": [
      "[[-0.11710817 -0.1528703  -0.0433963  ... -0.0433963  -0.0433963\n",
      "  -0.0433963 ]\n",
      " [-0.09396955 -0.145009   -0.0433963  ... -0.0433963  -0.0433963\n",
      "  -0.0433963 ]\n",
      " [ 0.52494561  4.48942416 -0.0433963  ... -0.0433963  -0.0433963\n",
      "  -0.0433963 ]\n",
      " ...\n",
      " [-0.09561336 -0.13217937 -0.0433963  ... -0.0433963  -0.0433963\n",
      "  -0.0433963 ]\n",
      " [-0.11694817 -0.15255998 -0.0433963  ... -0.0433963  -0.0433963\n",
      "  -0.0433963 ]\n",
      " [-0.11710536 -0.15285552 -0.0433963  ... -0.0433963  -0.0433963\n",
      "  -0.0433963 ]]\n"
     ]
    }
   ],
   "source": [
    "# Standardize the data with StandardScaler().\n",
    "X_scaled = StandardScaler().fit_transform(X)\n",
    "print(X_scaled)"
   ]
  },
  {
   "cell_type": "markdown",
   "metadata": {},
   "source": [
    "### Deliverable 2: Reducing Data Dimensions Using PCA"
   ]
  },
  {
   "cell_type": "code",
   "execution_count": 87,
   "metadata": {},
   "outputs": [
    {
     "data": {
      "text/plain": "array([[-0.33110883,  0.96663609, -0.57437474],\n       [-0.31446701,  0.96695272, -0.574769  ],\n       [ 2.30350202,  1.71104903, -0.68962661],\n       ...,\n       [ 0.32316363, -2.25582724,  0.38646395],\n       [-0.16018247, -2.06490677,  0.42717687],\n       [-0.3046009 ,  0.72581359, -0.28200247]])"
     },
     "execution_count": 87,
     "metadata": {},
     "output_type": "execute_result"
    }
   ],
   "source": [
    "# Using PCA to reduce dimension to three principal components.\n",
    "pca = PCA(n_components=3)\n",
    "X_pca = pca.fit_transform(X_scaled)\n",
    "X_pca"
   ]
  },
  {
   "cell_type": "code",
   "execution_count": 88,
   "metadata": {},
   "outputs": [
    {
     "data": {
      "text/plain": "          PC 1      PC 2      PC 3\n                                  \n42   -0.331109  0.966636 -0.574375\n404  -0.314467  0.966953 -0.574769\n1337  2.303502  1.711049 -0.689627\nBTC  -0.139564 -1.313799  0.208151\nETH  -0.143149 -2.009129  0.376493",
      "text/html": "<div>\n<style scoped>\n    .dataframe tbody tr th:only-of-type {\n        vertical-align: middle;\n    }\n\n    .dataframe tbody tr th {\n        vertical-align: top;\n    }\n\n    .dataframe thead th {\n        text-align: right;\n    }\n</style>\n<table border=\"1\" class=\"dataframe\">\n  <thead>\n    <tr style=\"text-align: right;\">\n      <th></th>\n      <th>PC 1</th>\n      <th>PC 2</th>\n      <th>PC 3</th>\n    </tr>\n    <tr>\n      <th></th>\n      <th></th>\n      <th></th>\n      <th></th>\n    </tr>\n  </thead>\n  <tbody>\n    <tr>\n      <th>42</th>\n      <td>-0.331109</td>\n      <td>0.966636</td>\n      <td>-0.574375</td>\n    </tr>\n    <tr>\n      <th>404</th>\n      <td>-0.314467</td>\n      <td>0.966953</td>\n      <td>-0.574769</td>\n    </tr>\n    <tr>\n      <th>1337</th>\n      <td>2.303502</td>\n      <td>1.711049</td>\n      <td>-0.689627</td>\n    </tr>\n    <tr>\n      <th>BTC</th>\n      <td>-0.139564</td>\n      <td>-1.313799</td>\n      <td>0.208151</td>\n    </tr>\n    <tr>\n      <th>ETH</th>\n      <td>-0.143149</td>\n      <td>-2.009129</td>\n      <td>0.376493</td>\n    </tr>\n  </tbody>\n</table>\n</div>"
     },
     "execution_count": 88,
     "metadata": {},
     "output_type": "execute_result"
    }
   ],
   "source": [
    "# Create a DataFrame with the three principal components.\n",
    "# create dataframe from numpy array\n",
    "reduced_dim_df = pd.DataFrame(data=X_pca, columns=[\"PC 1\",\"PC 2\", \"PC 3\"], index= trading_crypto_df.index)\n",
    "\n",
    "reduced_dim_df.head()"
   ]
  },
  {
   "cell_type": "markdown",
   "metadata": {},
   "source": [
    "### Deliverable 3: Clustering Crytocurrencies Using K-Means\n",
    "\n",
    "#### Finding the Best Value for `k` Using the Elbow Curve"
   ]
  },
  {
   "cell_type": "code",
   "execution_count": 89,
   "metadata": {},
   "outputs": [
    {
     "data": {},
     "metadata": {},
     "output_type": "display_data"
    },
    {
     "data": {
      "text/html": "<div id='2232'>\n  <div class=\"bk-root\" id=\"377f936a-596a-40dc-bef7-18bddb7fc95e\" data-root-id=\"2232\"></div>\n</div>\n<script type=\"application/javascript\">(function(root) {\n  function embed_document(root) {\n    var docs_json = {\"e6390a30-2e34-4c00-9c02-c6dfe66ad234\":{\"defs\":[{\"extends\":null,\"module\":null,\"name\":\"ReactiveHTML1\",\"overrides\":[],\"properties\":[]},{\"extends\":null,\"module\":null,\"name\":\"FlexBox1\",\"overrides\":[],\"properties\":[{\"default\":\"flex-start\",\"kind\":null,\"name\":\"align_content\"},{\"default\":\"flex-start\",\"kind\":null,\"name\":\"align_items\"},{\"default\":\"row\",\"kind\":null,\"name\":\"flex_direction\"},{\"default\":\"wrap\",\"kind\":null,\"name\":\"flex_wrap\"},{\"default\":\"flex-start\",\"kind\":null,\"name\":\"justify_content\"}]},{\"extends\":null,\"module\":null,\"name\":\"GridStack1\",\"overrides\":[],\"properties\":[{\"default\":\"warn\",\"kind\":null,\"name\":\"mode\"},{\"default\":null,\"kind\":null,\"name\":\"ncols\"},{\"default\":null,\"kind\":null,\"name\":\"nrows\"},{\"default\":true,\"kind\":null,\"name\":\"allow_resize\"},{\"default\":true,\"kind\":null,\"name\":\"allow_drag\"},{\"default\":[],\"kind\":null,\"name\":\"state\"}]},{\"extends\":null,\"module\":null,\"name\":\"click1\",\"overrides\":[],\"properties\":[{\"default\":\"\",\"kind\":null,\"name\":\"terminal_output\"},{\"default\":\"\",\"kind\":null,\"name\":\"debug_name\"},{\"default\":0,\"kind\":null,\"name\":\"clears\"}]},{\"extends\":null,\"module\":null,\"name\":\"NotificationAreaBase1\",\"overrides\":[],\"properties\":[{\"default\":\"bottom-right\",\"kind\":null,\"name\":\"position\"},{\"default\":0,\"kind\":null,\"name\":\"_clear\"}]},{\"extends\":null,\"module\":null,\"name\":\"NotificationArea1\",\"overrides\":[],\"properties\":[{\"default\":[],\"kind\":null,\"name\":\"notifications\"},{\"default\":\"bottom-right\",\"kind\":null,\"name\":\"position\"},{\"default\":0,\"kind\":null,\"name\":\"_clear\"},{\"default\":[{\"background\":\"#ffc107\",\"icon\":{\"className\":\"fas fa-exclamation-triangle\",\"color\":\"white\",\"tagName\":\"i\"},\"type\":\"warning\"},{\"background\":\"#007bff\",\"icon\":{\"className\":\"fas fa-info-circle\",\"color\":\"white\",\"tagName\":\"i\"},\"type\":\"info\"}],\"kind\":null,\"name\":\"types\"}]},{\"extends\":null,\"module\":null,\"name\":\"Notification\",\"overrides\":[],\"properties\":[{\"default\":null,\"kind\":null,\"name\":\"background\"},{\"default\":3000,\"kind\":null,\"name\":\"duration\"},{\"default\":null,\"kind\":null,\"name\":\"icon\"},{\"default\":\"\",\"kind\":null,\"name\":\"message\"},{\"default\":null,\"kind\":null,\"name\":\"notification_type\"},{\"default\":false,\"kind\":null,\"name\":\"_destroyed\"}]},{\"extends\":null,\"module\":null,\"name\":\"TemplateActions1\",\"overrides\":[],\"properties\":[{\"default\":0,\"kind\":null,\"name\":\"open_modal\"},{\"default\":0,\"kind\":null,\"name\":\"close_modal\"}]},{\"extends\":null,\"module\":null,\"name\":\"MaterialTemplateActions1\",\"overrides\":[],\"properties\":[{\"default\":0,\"kind\":null,\"name\":\"open_modal\"},{\"default\":0,\"kind\":null,\"name\":\"close_modal\"}]}],\"roots\":{\"references\":[{\"attributes\":{\"line_alpha\":0.2,\"line_color\":\"#30a2da\",\"line_width\":2,\"x\":{\"field\":\"k\"},\"y\":{\"field\":\"inertia\"}},\"id\":\"2272\",\"type\":\"Line\"},{\"attributes\":{},\"id\":\"2255\",\"type\":\"PanTool\"},{\"attributes\":{},\"id\":\"2284\",\"type\":\"AllLabels\"},{\"attributes\":{\"axis_label\":\"inertia\",\"coordinates\":null,\"formatter\":{\"id\":\"2283\"},\"group\":null,\"major_label_policy\":{\"id\":\"2284\"},\"ticker\":{\"id\":\"2251\"}},\"id\":\"2250\",\"type\":\"LinearAxis\"},{\"attributes\":{\"end\":3994.1278312726135,\"reset_end\":3994.1278312726135,\"reset_start\":-254.36335909327056,\"start\":-254.36335909327056,\"tags\":[[[\"inertia\",\"inertia\",null]]]},\"id\":\"2235\",\"type\":\"Range1d\"},{\"attributes\":{\"axis\":{\"id\":\"2250\"},\"coordinates\":null,\"dimension\":1,\"grid_line_color\":null,\"group\":null,\"ticker\":null},\"id\":\"2253\",\"type\":\"Grid\"},{\"attributes\":{},\"id\":\"2251\",\"type\":\"BasicTicker\"},{\"attributes\":{\"margin\":[5,5,5,5],\"name\":\"HSpacer02148\",\"sizing_mode\":\"stretch_width\"},\"id\":\"2233\",\"type\":\"Spacer\"},{\"attributes\":{},\"id\":\"2256\",\"type\":\"WheelZoomTool\"},{\"attributes\":{},\"id\":\"2254\",\"type\":\"SaveTool\"},{\"attributes\":{},\"id\":\"2279\",\"type\":\"AllLabels\"},{\"attributes\":{\"overlay\":{\"id\":\"2259\"}},\"id\":\"2257\",\"type\":\"BoxZoomTool\"},{\"attributes\":{\"margin\":[5,5,5,5],\"name\":\"HSpacer02149\",\"sizing_mode\":\"stretch_width\"},\"id\":\"2294\",\"type\":\"Spacer\"},{\"attributes\":{\"below\":[{\"id\":\"2246\"}],\"center\":[{\"id\":\"2249\"},{\"id\":\"2253\"}],\"height\":300,\"left\":[{\"id\":\"2250\"}],\"margin\":[5,5,5,5],\"min_border_bottom\":10,\"min_border_left\":10,\"min_border_right\":10,\"min_border_top\":10,\"renderers\":[{\"id\":\"2273\"}],\"sizing_mode\":\"fixed\",\"title\":{\"id\":\"2238\"},\"toolbar\":{\"id\":\"2260\"},\"width\":700,\"x_range\":{\"id\":\"2234\"},\"x_scale\":{\"id\":\"2242\"},\"y_range\":{\"id\":\"2235\"},\"y_scale\":{\"id\":\"2244\"}},\"id\":\"2237\",\"subtype\":\"Figure\",\"type\":\"Plot\"},{\"attributes\":{},\"id\":\"2258\",\"type\":\"ResetTool\"},{\"attributes\":{\"bottom_units\":\"screen\",\"coordinates\":null,\"fill_alpha\":0.5,\"fill_color\":\"lightgrey\",\"group\":null,\"left_units\":\"screen\",\"level\":\"overlay\",\"line_alpha\":1.0,\"line_color\":\"black\",\"line_dash\":[4,4],\"line_width\":2,\"right_units\":\"screen\",\"syncable\":false,\"top_units\":\"screen\"},\"id\":\"2259\",\"type\":\"BoxAnnotation\"},{\"attributes\":{\"line_color\":\"#30a2da\",\"line_width\":2,\"x\":{\"field\":\"k\"},\"y\":{\"field\":\"inertia\"}},\"id\":\"2275\",\"type\":\"Line\"},{\"attributes\":{\"coordinates\":null,\"data_source\":{\"id\":\"2267\"},\"glyph\":{\"id\":\"2270\"},\"group\":null,\"hover_glyph\":null,\"muted_glyph\":{\"id\":\"2272\"},\"nonselection_glyph\":{\"id\":\"2271\"},\"selection_glyph\":{\"id\":\"2275\"},\"view\":{\"id\":\"2274\"}},\"id\":\"2273\",\"type\":\"GlyphRenderer\"},{\"attributes\":{\"source\":{\"id\":\"2267\"}},\"id\":\"2274\",\"type\":\"CDSView\"},{\"attributes\":{\"ticks\":[1,2,3,4,5,6,7,8,9,10]},\"id\":\"2276\",\"type\":\"FixedTicker\"},{\"attributes\":{\"line_color\":\"#30a2da\",\"line_width\":2,\"x\":{\"field\":\"k\"},\"y\":{\"field\":\"inertia\"}},\"id\":\"2270\",\"type\":\"Line\"},{\"attributes\":{\"line_alpha\":0.1,\"line_color\":\"#30a2da\",\"line_width\":2,\"x\":{\"field\":\"k\"},\"y\":{\"field\":\"inertia\"}},\"id\":\"2271\",\"type\":\"Line\"},{\"attributes\":{},\"id\":\"2242\",\"type\":\"LinearScale\"},{\"attributes\":{\"end\":10.0,\"reset_end\":10.0,\"reset_start\":1.0,\"start\":1.0,\"tags\":[[[\"k\",\"k\",null]]]},\"id\":\"2234\",\"type\":\"Range1d\"},{\"attributes\":{\"children\":[{\"id\":\"2233\"},{\"id\":\"2237\"},{\"id\":\"2294\"}],\"margin\":[0,0,0,0],\"name\":\"Row02144\",\"tags\":[\"embedded\"]},\"id\":\"2232\",\"type\":\"Row\"},{\"attributes\":{},\"id\":\"2291\",\"type\":\"UnionRenderers\"},{\"attributes\":{\"tools\":[{\"id\":\"2236\"},{\"id\":\"2254\"},{\"id\":\"2255\"},{\"id\":\"2256\"},{\"id\":\"2257\"},{\"id\":\"2258\"}]},\"id\":\"2260\",\"type\":\"Toolbar\"},{\"attributes\":{\"callback\":null,\"renderers\":[{\"id\":\"2273\"}],\"tags\":[\"hv_created\"],\"tooltips\":[[\"k\",\"@{k}\"],[\"inertia\",\"@{inertia}\"]]},\"id\":\"2236\",\"type\":\"HoverTool\"},{\"attributes\":{},\"id\":\"2244\",\"type\":\"LinearScale\"},{\"attributes\":{},\"id\":\"2283\",\"type\":\"BasicTickFormatter\"},{\"attributes\":{},\"id\":\"2278\",\"type\":\"BasicTickFormatter\"},{\"attributes\":{\"data\":{\"inertia\":{\"__ndarray__\":\"9+79fSxwrEAo0y0yW1ejQM6eqArM+pZAj0lxfhxlfkAmcAd5J/BxQP74jXjZSmxAl7hmZ6HyZkCoHWFIJJFiQDbIGXbw415A1F/6XF3rWEA=\",\"dtype\":\"float64\",\"order\":\"little\",\"shape\":[10]},\"k\":[1,2,3,4,5,6,7,8,9,10]},\"selected\":{\"id\":\"2268\"},\"selection_policy\":{\"id\":\"2291\"}},\"id\":\"2267\",\"type\":\"ColumnDataSource\"},{\"attributes\":{\"coordinates\":null,\"group\":null,\"text\":\"Elbow Curve\",\"text_color\":\"black\",\"text_font_size\":\"12pt\"},\"id\":\"2238\",\"type\":\"Title\"},{\"attributes\":{},\"id\":\"2268\",\"type\":\"Selection\"},{\"attributes\":{\"axis_label\":\"k\",\"coordinates\":null,\"formatter\":{\"id\":\"2278\"},\"group\":null,\"major_label_policy\":{\"id\":\"2279\"},\"ticker\":{\"id\":\"2276\"}},\"id\":\"2246\",\"type\":\"LinearAxis\"},{\"attributes\":{\"axis\":{\"id\":\"2246\"},\"coordinates\":null,\"grid_line_color\":null,\"group\":null,\"ticker\":null},\"id\":\"2249\",\"type\":\"Grid\"}],\"root_ids\":[\"2232\"]},\"title\":\"Bokeh Application\",\"version\":\"2.4.3\"}};\n    var render_items = [{\"docid\":\"e6390a30-2e34-4c00-9c02-c6dfe66ad234\",\"root_ids\":[\"2232\"],\"roots\":{\"2232\":\"377f936a-596a-40dc-bef7-18bddb7fc95e\"}}];\n    root.Bokeh.embed.embed_items_notebook(docs_json, render_items);\n  }\n  if (root.Bokeh !== undefined && root.Bokeh.Panel !== undefined) {\n    embed_document(root);\n  } else {\n    var attempts = 0;\n    var timer = setInterval(function(root) {\n      if (root.Bokeh !== undefined && root.Bokeh.Panel !== undefined) {\n        clearInterval(timer);\n        embed_document(root);\n      } else if (document.readyState == \"complete\") {\n        attempts++;\n        if (attempts > 200) {\n          clearInterval(timer);\n          console.log(\"Bokeh: ERROR: Unable to run BokehJS code because BokehJS library is missing\");\n        }\n      }\n    }, 25, root)\n  }\n})(window);</script>",
      "application/vnd.holoviews_exec.v0+json": "",
      "text/plain": ":Curve   [k]   (inertia)"
     },
     "execution_count": 89,
     "metadata": {
      "application/vnd.holoviews_exec.v0+json": {
       "id": "2232"
      }
     },
     "output_type": "execute_result"
    }
   ],
   "source": [
    "# Create an elbow curve to find the best value for K.\n",
    "inertia = []\n",
    "k = list(range(1,11))\n",
    "for i in k:\n",
    "    kmeans = KMeans(n_clusters=i, random_state=0)\n",
    "    kmeans.fit(reduced_dim_df)\n",
    "    inertia.append(kmeans.inertia_)\n",
    "\n",
    "elbow_data = {'k' : k, 'inertia' : inertia}\n",
    "elbow_data_df = pd.DataFrame(elbow_data)\n",
    "elbow_data_df.hvplot.line(x='k',y='inertia',title = 'Elbow Curve',xticks=k )"
   ]
  },
  {
   "cell_type": "markdown",
   "metadata": {},
   "source": [
    "Running K-Means with `k=4`"
   ]
  },
  {
   "cell_type": "code",
   "execution_count": 90,
   "metadata": {},
   "outputs": [
    {
     "data": {
      "text/plain": "array([0, 0, 0, 3, 3, 3, 0, 3, 3, 3, 0, 3, 0, 0, 3, 0, 3, 3, 0, 0, 3, 3,\n       3, 3, 3, 0, 3, 3, 3, 0, 3, 0, 3, 3, 0, 0, 3, 3, 3, 3, 3, 3, 0, 0,\n       3, 3, 3, 3, 3, 0, 0, 3, 0, 3, 3, 3, 3, 0, 3, 3, 0, 3, 0, 0, 0, 3,\n       3, 3, 0, 0, 0, 0, 0, 3, 3, 3, 0, 0, 3, 0, 3, 0, 0, 3, 3, 3, 3, 0,\n       0, 3, 0, 3, 3, 0, 0, 3, 0, 0, 3, 3, 0, 0, 3, 0, 0, 3, 0, 3, 0, 3,\n       0, 3, 0, 0, 3, 3, 0, 3, 3, 3, 0, 3, 3, 3, 3, 3, 0, 0, 3, 3, 3, 0,\n       3, 0, 3, 3, 0, 3, 0, 3, 0, 0, 3, 3, 0, 3, 3, 0, 0, 3, 0, 3, 0, 0,\n       0, 3, 3, 3, 3, 0, 0, 0, 0, 0, 3, 3, 0, 0, 0, 0, 0, 3, 0, 0, 0, 0,\n       0, 3, 0, 3, 0, 0, 3, 0, 3, 0, 0, 3, 0, 3, 0, 3, 0, 3, 0, 0, 0, 0,\n       3, 0, 0, 0, 0, 0, 3, 3, 0, 0, 3, 3, 0, 0, 0, 0, 0, 3, 0, 0, 0, 0,\n       0, 0, 0, 0, 3, 0, 0, 0, 0, 0, 0, 3, 3, 3, 0, 0, 0, 0, 3, 0, 3, 0,\n       0, 3, 0, 3, 3, 0, 3, 3, 0, 3, 0, 0, 0, 3, 0, 0, 3, 0, 0, 0, 0, 0,\n       0, 0, 3, 0, 3, 0, 0, 0, 0, 3, 0, 3, 0, 3, 3, 3, 3, 0, 3, 0, 0, 3,\n       0, 3, 3, 3, 0, 3, 0, 3, 3, 3, 0, 3, 0, 3, 0, 0, 0, 3, 0, 3, 3, 3,\n       3, 3, 0, 0, 3, 0, 0, 0, 3, 0, 3, 0, 3, 0, 3, 0, 0, 0, 0, 3, 0, 0,\n       3, 0, 0, 0, 3, 3, 3, 3, 0, 0, 0, 0, 3, 0, 3, 3, 3, 0, 0, 3, 3, 0,\n       0, 3, 0, 3, 3, 3, 0, 3, 3, 0, 0, 0, 3, 3, 3, 0, 0, 0, 3, 3, 0, 3,\n       3, 3, 3, 0, 1, 1, 3, 3, 3, 0, 1, 0, 0, 0, 0, 3, 3, 3, 3, 0, 0, 0,\n       3, 0, 3, 0, 0, 0, 0, 3, 0, 0, 3, 0, 0, 3, 3, 0, 3, 0, 3, 3, 3, 3,\n       0, 0, 3, 0, 3, 0, 0, 0, 0, 0, 0, 3, 3, 3, 0, 0, 0, 0, 0, 0, 3, 0,\n       3, 3, 3, 3, 0, 0, 0, 0, 3, 0, 0, 3, 0, 0, 3, 1, 3, 0, 3, 3, 0, 0,\n       3, 0, 3, 3, 3, 3, 3, 0, 3, 0, 3, 0, 0, 3, 0, 0, 0, 0, 0, 3, 3, 3,\n       0, 0, 0, 3, 0, 3, 0, 3, 0, 0, 0, 0, 3, 0, 0, 0, 3, 0, 3, 0, 3, 0,\n       0, 0, 3, 3, 0, 0, 0, 0, 0, 0, 3, 0, 3, 0, 3, 0, 0, 1, 0, 2, 0, 0,\n       0, 3, 3, 0], dtype=int32)"
     },
     "execution_count": 90,
     "metadata": {},
     "output_type": "execute_result"
    }
   ],
   "source": [
    "# Initialize the K-Means model.\n",
    "model = KMeans(n_clusters=4,random_state=0)\n",
    "\n",
    "# Fit the model\n",
    "model.fit(reduced_dim_df)\n",
    "\n",
    "# Predict clusters\n",
    "predictions = model.predict(reduced_dim_df)\n",
    "\n",
    "predictions"
   ]
  },
  {
   "cell_type": "code",
   "execution_count": 91,
   "metadata": {},
   "outputs": [
    {
     "name": "stdout",
     "output_type": "stream",
     "text": [
      "(532, 9)\n"
     ]
    },
    {
     "data": {
      "text/plain": "           Algorithm ProofType  TotalCoinsMined TotalCoinSupply      PC 1  \\\n                                                                            \n42            Scrypt   PoW/PoS     4.199995e+01              42 -0.331109   \n404           Scrypt   PoW/PoS     1.055185e+09       532000000 -0.314467   \n1337             X13   PoW/PoS     2.927942e+10    314159265359  2.303502   \nBTC          SHA-256       PoW     1.792718e+07        21000000 -0.139564   \nETH           Ethash       PoW     1.076842e+08               0 -0.143149   \nLTC           Scrypt       PoW     6.303924e+07        84000000 -0.166020   \nDASH             X11   PoW/PoS     9.031294e+06        22000000 -0.391961   \nXMR   CryptoNight-V7       PoW     1.720114e+07               0 -0.154399   \nETC           Ethash       PoW     1.133597e+08       210000000 -0.141592   \nZEC         Equihash       PoW     7.383056e+06        21000000 -0.160181   \n\n          PC 2      PC 3          CoinName  Class  \n                                                   \n42    0.966636 -0.574375           42 Coin      0  \n404   0.966953 -0.574769           404Coin      0  \n1337  1.711049 -0.689627         EliteCoin      0  \nBTC  -1.313799  0.208151           Bitcoin      3  \nETH  -2.009129  0.376493          Ethereum      3  \nLTC  -1.196263 -0.011892          Litecoin      3  \nDASH  1.361125 -0.559093              Dash      0  \nXMR  -2.215772  0.424774            Monero      3  \nETC  -2.009207  0.376471  Ethereum Classic      3  \nZEC  -2.064907  0.427177             ZCash      3  ",
      "text/html": "<div>\n<style scoped>\n    .dataframe tbody tr th:only-of-type {\n        vertical-align: middle;\n    }\n\n    .dataframe tbody tr th {\n        vertical-align: top;\n    }\n\n    .dataframe thead th {\n        text-align: right;\n    }\n</style>\n<table border=\"1\" class=\"dataframe\">\n  <thead>\n    <tr style=\"text-align: right;\">\n      <th></th>\n      <th>Algorithm</th>\n      <th>ProofType</th>\n      <th>TotalCoinsMined</th>\n      <th>TotalCoinSupply</th>\n      <th>PC 1</th>\n      <th>PC 2</th>\n      <th>PC 3</th>\n      <th>CoinName</th>\n      <th>Class</th>\n    </tr>\n    <tr>\n      <th></th>\n      <th></th>\n      <th></th>\n      <th></th>\n      <th></th>\n      <th></th>\n      <th></th>\n      <th></th>\n      <th></th>\n      <th></th>\n    </tr>\n  </thead>\n  <tbody>\n    <tr>\n      <th>42</th>\n      <td>Scrypt</td>\n      <td>PoW/PoS</td>\n      <td>4.199995e+01</td>\n      <td>42</td>\n      <td>-0.331109</td>\n      <td>0.966636</td>\n      <td>-0.574375</td>\n      <td>42 Coin</td>\n      <td>0</td>\n    </tr>\n    <tr>\n      <th>404</th>\n      <td>Scrypt</td>\n      <td>PoW/PoS</td>\n      <td>1.055185e+09</td>\n      <td>532000000</td>\n      <td>-0.314467</td>\n      <td>0.966953</td>\n      <td>-0.574769</td>\n      <td>404Coin</td>\n      <td>0</td>\n    </tr>\n    <tr>\n      <th>1337</th>\n      <td>X13</td>\n      <td>PoW/PoS</td>\n      <td>2.927942e+10</td>\n      <td>314159265359</td>\n      <td>2.303502</td>\n      <td>1.711049</td>\n      <td>-0.689627</td>\n      <td>EliteCoin</td>\n      <td>0</td>\n    </tr>\n    <tr>\n      <th>BTC</th>\n      <td>SHA-256</td>\n      <td>PoW</td>\n      <td>1.792718e+07</td>\n      <td>21000000</td>\n      <td>-0.139564</td>\n      <td>-1.313799</td>\n      <td>0.208151</td>\n      <td>Bitcoin</td>\n      <td>3</td>\n    </tr>\n    <tr>\n      <th>ETH</th>\n      <td>Ethash</td>\n      <td>PoW</td>\n      <td>1.076842e+08</td>\n      <td>0</td>\n      <td>-0.143149</td>\n      <td>-2.009129</td>\n      <td>0.376493</td>\n      <td>Ethereum</td>\n      <td>3</td>\n    </tr>\n    <tr>\n      <th>LTC</th>\n      <td>Scrypt</td>\n      <td>PoW</td>\n      <td>6.303924e+07</td>\n      <td>84000000</td>\n      <td>-0.166020</td>\n      <td>-1.196263</td>\n      <td>-0.011892</td>\n      <td>Litecoin</td>\n      <td>3</td>\n    </tr>\n    <tr>\n      <th>DASH</th>\n      <td>X11</td>\n      <td>PoW/PoS</td>\n      <td>9.031294e+06</td>\n      <td>22000000</td>\n      <td>-0.391961</td>\n      <td>1.361125</td>\n      <td>-0.559093</td>\n      <td>Dash</td>\n      <td>0</td>\n    </tr>\n    <tr>\n      <th>XMR</th>\n      <td>CryptoNight-V7</td>\n      <td>PoW</td>\n      <td>1.720114e+07</td>\n      <td>0</td>\n      <td>-0.154399</td>\n      <td>-2.215772</td>\n      <td>0.424774</td>\n      <td>Monero</td>\n      <td>3</td>\n    </tr>\n    <tr>\n      <th>ETC</th>\n      <td>Ethash</td>\n      <td>PoW</td>\n      <td>1.133597e+08</td>\n      <td>210000000</td>\n      <td>-0.141592</td>\n      <td>-2.009207</td>\n      <td>0.376471</td>\n      <td>Ethereum Classic</td>\n      <td>3</td>\n    </tr>\n    <tr>\n      <th>ZEC</th>\n      <td>Equihash</td>\n      <td>PoW</td>\n      <td>7.383056e+06</td>\n      <td>21000000</td>\n      <td>-0.160181</td>\n      <td>-2.064907</td>\n      <td>0.427177</td>\n      <td>ZCash</td>\n      <td>3</td>\n    </tr>\n  </tbody>\n</table>\n</div>"
     },
     "execution_count": 91,
     "metadata": {},
     "output_type": "execute_result"
    }
   ],
   "source": [
    "# Create a new DataFrame including predicted clusters and cryptocurrencies features.\n",
    "# Concatentate the crypto_df and pcs_df DataFrames on the same columns.\n",
    "clustered_df = pd.concat((trading_crypto_df,reduced_dim_df),axis=1)\n",
    "\n",
    "# #  Add a new column, \"CoinName\" to the clustered_df DataFrame that holds the names of the cryptocurrencies.\n",
    "clustered_df['CoinName'] = crypto_names_df\n",
    "#\n",
    "# #  Add a new column, \"Class\" to the clustered_df DataFrame that holds the predictions.\n",
    "clustered_df['Class'] = predictions\n",
    "#\n",
    "# # Print the shape of the clustered_df\n",
    "print(clustered_df.shape)\n",
    "clustered_df.head(10)"
   ]
  },
  {
   "cell_type": "markdown",
   "metadata": {},
   "source": [
    "### Deliverable 4: Visualizing Cryptocurrencies Results\n",
    "\n",
    "#### 3D-Scatter with Clusters"
   ]
  },
  {
   "cell_type": "code",
   "execution_count": 92,
   "metadata": {},
   "outputs": [
    {
     "data": {
      "application/vnd.plotly.v1+json": {
       "data": [
        {
         "customdata": [
          [
           "Scrypt"
          ],
          [
           "Scrypt"
          ],
          [
           "X13"
          ],
          [
           "X11"
          ],
          [
           "SHA-512"
          ],
          [
           "SHA-256"
          ],
          [
           "SHA-256"
          ],
          [
           "X15"
          ],
          [
           "Scrypt"
          ],
          [
           "Scrypt"
          ],
          [
           "Scrypt"
          ],
          [
           "Scrypt"
          ],
          [
           "Scrypt"
          ],
          [
           "Scrypt"
          ],
          [
           "Groestl"
          ],
          [
           "PoS"
          ],
          [
           "Scrypt"
          ],
          [
           "Scrypt"
          ],
          [
           "X11"
          ],
          [
           "X11"
          ],
          [
           "SHA3"
          ],
          [
           "Scrypt"
          ],
          [
           "SHA-256"
          ],
          [
           "Scrypt"
          ],
          [
           "X13"
          ],
          [
           "X13"
          ],
          [
           "NeoScrypt"
          ],
          [
           "Scrypt"
          ],
          [
           "Scrypt"
          ],
          [
           "Scrypt"
          ],
          [
           "X11"
          ],
          [
           "X11"
          ],
          [
           "Multiple"
          ],
          [
           "PHI1612"
          ],
          [
           "X11"
          ],
          [
           "Scrypt"
          ],
          [
           "Scrypt"
          ],
          [
           "Scrypt"
          ],
          [
           "X11"
          ],
          [
           "Multiple"
          ],
          [
           "X13"
          ],
          [
           "Scrypt"
          ],
          [
           "Shabal256"
          ],
          [
           "Counterparty"
          ],
          [
           "SHA-256"
          ],
          [
           "Groestl"
          ],
          [
           "Scrypt"
          ],
          [
           "X13"
          ],
          [
           "Scrypt"
          ],
          [
           "Scrypt"
          ],
          [
           "X13"
          ],
          [
           "X11"
          ],
          [
           "Scrypt"
          ],
          [
           "X11"
          ],
          [
           "SHA3"
          ],
          [
           "QUAIT"
          ],
          [
           "X11"
          ],
          [
           "Scrypt"
          ],
          [
           "X13"
          ],
          [
           "SHA-256"
          ],
          [
           "X15"
          ],
          [
           "BLAKE256"
          ],
          [
           "SHA-256"
          ],
          [
           "X11"
          ],
          [
           "SHA-256"
          ],
          [
           "NIST5"
          ],
          [
           "Scrypt"
          ],
          [
           "Scrypt"
          ],
          [
           "X11"
          ],
          [
           "Scrypt"
          ],
          [
           "SHA-256"
          ],
          [
           "Scrypt"
          ],
          [
           "PoS"
          ],
          [
           "X11"
          ],
          [
           "SHA-256"
          ],
          [
           "SHA-256"
          ],
          [
           "NIST5"
          ],
          [
           "X11"
          ],
          [
           "POS 3.0"
          ],
          [
           "Scrypt"
          ],
          [
           "Scrypt"
          ],
          [
           "Scrypt"
          ],
          [
           "X13"
          ],
          [
           "X11"
          ],
          [
           "X11"
          ],
          [
           "Scrypt"
          ],
          [
           "SHA-256"
          ],
          [
           "X11"
          ],
          [
           "Scrypt"
          ],
          [
           "Scrypt"
          ],
          [
           "Scrypt"
          ],
          [
           "Scrypt"
          ],
          [
           "SHA-256D"
          ],
          [
           "PoS"
          ],
          [
           "Scrypt"
          ],
          [
           "X11"
          ],
          [
           "PoS"
          ],
          [
           "X13"
          ],
          [
           "X14"
          ],
          [
           "PoS"
          ],
          [
           "SHA-256D"
          ],
          [
           "DPoS"
          ],
          [
           "X11"
          ],
          [
           "X13"
          ],
          [
           "X11"
          ],
          [
           "PoS"
          ],
          [
           "Scrypt"
          ],
          [
           "Scrypt"
          ],
          [
           "PoS"
          ],
          [
           "X11"
          ],
          [
           "SHA-256"
          ],
          [
           "Scrypt"
          ],
          [
           "X11"
          ],
          [
           "Scrypt"
          ],
          [
           "Scrypt"
          ],
          [
           "X11"
          ],
          [
           "Scrypt"
          ],
          [
           "Scrypt"
          ],
          [
           "Scrypt"
          ],
          [
           "Scrypt"
          ],
          [
           "Quark"
          ],
          [
           "QuBit"
          ],
          [
           "Scrypt"
          ],
          [
           "SHA-256"
          ],
          [
           "X11"
          ],
          [
           "Scrypt"
          ],
          [
           "Scrypt"
          ],
          [
           "Scrypt"
          ],
          [
           "Scrypt"
          ],
          [
           "X13"
          ],
          [
           "Scrypt"
          ],
          [
           "Scrypt"
          ],
          [
           "X11"
          ],
          [
           "Blake2S"
          ],
          [
           "X11"
          ],
          [
           "PoS"
          ],
          [
           "X11"
          ],
          [
           "PoS"
          ],
          [
           "X11"
          ],
          [
           "Scrypt"
          ],
          [
           "Scrypt"
          ],
          [
           "Scrypt"
          ],
          [
           "SHA-256"
          ],
          [
           "X11"
          ],
          [
           "Scrypt"
          ],
          [
           "PoS"
          ],
          [
           "Scrypt"
          ],
          [
           "X15"
          ],
          [
           "SHA-256"
          ],
          [
           "POS 3.0"
          ],
          [
           "536"
          ],
          [
           "NIST5"
          ],
          [
           "NIST5"
          ],
          [
           "Skein"
          ],
          [
           "X13"
          ],
          [
           "Scrypt"
          ],
          [
           "X13"
          ],
          [
           "SkunkHash v2 Raptor"
          ],
          [
           "Skein"
          ],
          [
           "X11"
          ],
          [
           "Scrypt"
          ],
          [
           "VeChainThor Authority"
          ],
          [
           "PoS"
          ],
          [
           "Scrypt"
          ],
          [
           "Scrypt"
          ],
          [
           "SHA-512"
          ],
          [
           "Ouroboros"
          ],
          [
           "X11"
          ],
          [
           "NeoScrypt"
          ],
          [
           "Scrypt"
          ],
          [
           "Lyra2REv2"
          ],
          [
           "Scrypt"
          ],
          [
           "SHA-256"
          ],
          [
           "NIST5"
          ],
          [
           "PHI1612"
          ],
          [
           "Scrypt"
          ],
          [
           "Quark"
          ],
          [
           "POS 2.0"
          ],
          [
           "Scrypt"
          ],
          [
           "SHA-256"
          ],
          [
           "X11"
          ],
          [
           "DPoS"
          ],
          [
           "NIST5"
          ],
          [
           "X13"
          ],
          [
           "Scrypt"
          ],
          [
           "NIST5"
          ],
          [
           "Quark"
          ],
          [
           "Scrypt"
          ],
          [
           "Scrypt"
          ],
          [
           "X11"
          ],
          [
           "Quark"
          ],
          [
           "Scrypt"
          ],
          [
           "Scrypt"
          ],
          [
           "X11"
          ],
          [
           "POS 3.0"
          ],
          [
           "Ethash"
          ],
          [
           "Scrypt"
          ],
          [
           "Scrypt"
          ],
          [
           "X13"
          ],
          [
           "C11"
          ],
          [
           "X11"
          ],
          [
           "XEVAN"
          ],
          [
           "Scrypt"
          ],
          [
           "VBFT"
          ],
          [
           "NIST5"
          ],
          [
           "Scrypt"
          ],
          [
           "Scrypt"
          ],
          [
           "Scrypt"
          ],
          [
           "Green Protocol"
          ],
          [
           "PoS"
          ],
          [
           "Scrypt"
          ],
          [
           "Semux BFT consensus"
          ],
          [
           "Quark"
          ],
          [
           "PoS"
          ],
          [
           "X16R"
          ],
          [
           "Scrypt"
          ],
          [
           "XEVAN"
          ],
          [
           "Scrypt"
          ],
          [
           "Scrypt"
          ],
          [
           "Scrypt"
          ],
          [
           "SHA-256D"
          ],
          [
           "Scrypt"
          ],
          [
           "X15"
          ],
          [
           "Scrypt"
          ],
          [
           "Quark"
          ],
          [
           "SHA-256"
          ],
          [
           "DPoS"
          ],
          [
           "X16R"
          ],
          [
           "Quark"
          ],
          [
           "Quark"
          ],
          [
           "Scrypt"
          ],
          [
           "Lyra2REv2"
          ],
          [
           "Quark"
          ],
          [
           "Scrypt"
          ],
          [
           "X11"
          ],
          [
           "X11"
          ],
          [
           "Scrypt"
          ],
          [
           "PoS"
          ],
          [
           "Keccak"
          ],
          [
           "X11"
          ],
          [
           "Scrypt"
          ],
          [
           "SHA-512"
          ],
          [
           "XEVAN"
          ],
          [
           "XEVAN"
          ],
          [
           "X11"
          ],
          [
           "Quark"
          ],
          [
           "Scrypt"
          ],
          [
           "Quark"
          ],
          [
           "Quark"
          ],
          [
           "Scrypt"
          ],
          [
           "X11"
          ],
          [
           "Scrypt"
          ],
          [
           "XEVAN"
          ],
          [
           "SHA-256D"
          ],
          [
           "X11"
          ],
          [
           "X11"
          ],
          [
           "DPoS"
          ],
          [
           "Scrypt"
          ],
          [
           "X11"
          ],
          [
           "Scrypt"
          ],
          [
           "Scrypt"
          ],
          [
           "SHA-256"
          ],
          [
           "Scrypt"
          ],
          [
           "X11"
          ],
          [
           "Scrypt"
          ],
          [
           "SHA-256"
          ],
          [
           "X11"
          ],
          [
           "Scrypt"
          ],
          [
           "Scrypt"
          ],
          [
           "X11"
          ],
          [
           "Scrypt"
          ],
          [
           "PoS"
          ],
          [
           "X11"
          ],
          [
           "SHA-256"
          ],
          [
           "DPoS"
          ],
          [
           "Scrypt"
          ],
          [
           "Scrypt"
          ],
          [
           "NeoScrypt"
          ],
          [
           "X13"
          ],
          [
           "DPoS"
          ],
          [
           "DPoS"
          ],
          [
           "SHA-256"
          ],
          [
           "PoS"
          ],
          [
           "PoS"
          ],
          [
           "SHA-256"
          ],
          [
           "Scrypt"
          ],
          [
           "Scrypt"
          ]
         ],
         "hovertemplate": "<b>%{hovertext}</b><br><br>Class=%{marker.color}<br>PC 1=%{x}<br>PC 2=%{y}<br>PC 3=%{z}<br>Algorithm=%{customdata[0]}<extra></extra>",
         "hovertext": [
          "42 Coin",
          "404Coin",
          "EliteCoin",
          "Dash",
          "Bitshares",
          "BitcoinDark",
          "PayCoin",
          "KoboCoin",
          "Aurora Coin",
          "BlueCoin",
          "EnergyCoin",
          "BitBar",
          "CryptoBullion",
          "CasinoCoin",
          "Diamond",
          "Exclusive Coin",
          "FlutterCoin",
          "HoboNickels",
          "HyperStake",
          "IOCoin",
          "MaxCoin",
          "MintCoin",
          "MazaCoin",
          "Nautilus Coin",
          "NavCoin",
          "OpalCoin",
          "Orbitcoin",
          "PotCoin",
          "PhoenixCoin",
          "Reddcoin",
          "SuperCoin",
          "SyncCoin",
          "TeslaCoin",
          "TittieCoin",
          "TorCoin",
          "UnitaryStatus Dollar",
          "UltraCoin",
          "VeriCoin",
          "X11 Coin",
          "Crypti",
          "StealthCoin",
          "ZCC Coin",
          "BurstCoin",
          "StorjCoin",
          "Neutron",
          "FairCoin",
          "RubyCoin",
          "Kore",
          "Dnotes",
          "8BIT Coin",
          "Sativa Coin",
          "Ucoin",
          "Vtorrent",
          "IslaCoin",
          "Nexus",
          "Droidz",
          "Squall Coin",
          "Diggits",
          "Paycon",
          "Emercoin",
          "EverGreenCoin",
          "Decred",
          "EDRCoin",
          "Hitcoin",
          "DubaiCoin",
          "PWR Coin",
          "BillaryCoin",
          "GPU Coin",
          "EuropeCoin",
          "ZeitCoin",
          "SwingCoin",
          "SafeExchangeCoin",
          "Nebuchadnezzar",
          "Ratecoin",
          "Revenu",
          "Clockcoin",
          "VIP Tokens",
          "BitSend",
          "Let it Ride",
          "PutinCoin",
          "iBankCoin",
          "Frankywillcoin",
          "MudraCoin",
          "Lutetium Coin",
          "GoldBlocks",
          "CarterCoin",
          "BitTokens",
          "MustangCoin",
          "ZoneCoin",
          "RootCoin",
          "BitCurrency",
          "Swiscoin",
          "BuzzCoin",
          "Opair",
          "PesoBit",
          "Halloween Coin",
          "CoffeeCoin",
          "RoyalCoin",
          "GanjaCoin V2",
          "TeamUP",
          "LanaCoin",
          "ARK",
          "InsaneCoin",
          "EmberCoin",
          "XenixCoin",
          "FreeCoin",
          "PLNCoin",
          "AquariusCoin",
          "Creatio",
          "Eternity",
          "Eurocoin",
          "BitcoinFast",
          "Stakenet",
          "BitConnect Coin",
          "MoneyCoin",
          "Enigma",
          "Russiacoin",
          "PandaCoin",
          "GameUnits",
          "GAKHcoin",
          "Allsafe",
          "LiteCreed",
          "Klingon Empire Darsek",
          "Internet of People",
          "KushCoin",
          "Printerium",
          "Impeach",
          "Zilbercoin",
          "FirstCoin",
          "FindCoin",
          "OpenChat",
          "RenosCoin",
          "VirtacoinPlus",
          "TajCoin",
          "Impact",
          "Atmos",
          "HappyCoin",
          "MacronCoin",
          "Condensate",
          "Independent Money System",
          "ArgusCoin",
          "LomoCoin",
          "ProCurrency",
          "GoldReserve",
          "GrowthCoin",
          "Phreak",
          "Degas Coin",
          "HTML5 Coin",
          "Ultimate Secure Cash",
          "QTUM",
          "Espers",
          "Denarius",
          "Virta Unique Coin",
          "Bitcoin Planet",
          "BritCoin",
          "Linda",
          "DeepOnion",
          "Signatum",
          "Cream",
          "Monoeci",
          "Draftcoin",
          "Vechain",
          "Stakecoin",
          "CoinonatX",
          "Ethereum Dark",
          "Obsidian",
          "Cardano",
          "Regalcoin",
          "TrezarCoin",
          "TerraNovaCoin",
          "Rupee",
          "WomenCoin",
          "Theresa May Coin",
          "NamoCoin",
          "LUXCoin",
          "Xios",
          "Bitcloud 2.0",
          "KekCoin",
          "BlackholeCoin",
          "Infinity Economics",
          "Magnet",
          "Lamden Tau",
          "Electra",
          "Bitcoin Diamond",
          "Cash & Back Coin",
          "Bulwark",
          "Kalkulus",
          "GermanCoin",
          "LiteCoin Ultra",
          "PhantomX",
          "Digiwage",
          "Trollcoin",
          "Litecoin Plus",
          "Monkey Project",
          "TokenPay",
          "1717 Masonic Commemorative Token",
          "My Big Coin",
          "Unified Society USDEX",
          "Tokyo Coin",
          "Stipend",
          "Pushi",
          "Ellerium",
          "Velox",
          "Ontology",
          "Bitspace",
          "Briacoin",
          "Ignition",
          "MedicCoin",
          "Bitcoin Green",
          "Deviant Coin",
          "Abjcoin",
          "Semux",
          "Carebit",
          "Zealium",
          "Proton",
          "iDealCash",
          "Bitcoin Incognito",
          "HollyWoodCoin",
          "Swisscoin",
          "Xt3ch",
          "TheVig",
          "EmaratCoin",
          "Dekado",
          "Lynx",
          "Poseidon Quark",
          "BitcoinWSpectrum",
          "Muse",
          "Trivechain",
          "Dystem",
          "Giant",
          "Peony Coin",
          "Absolute Coin",
          "Vitae",
          "TPCash",
          "ARENON",
          "EUNO",
          "MMOCoin",
          "Ketan",
          "XDNA",
          "PAXEX",
          "ThunderStake",
          "Kcash",
          "Bettex coin",
          "BitMoney",
          "Junson Ming Chan Coin",
          "HerbCoin",
          "Oduwa",
          "Galilel",
          "Crypto Sports",
          "Credit",
          "Dash Platinum",
          "Nasdacoin",
          "Beetle Coin",
          "Titan Coin",
          "Award",
          "Insane Coin",
          "ALAX",
          "LiteDoge",
          "TruckCoin",
          "OrangeCoin",
          "BitstarCoin",
          "NeosCoin",
          "HyperCoin",
          "PinkCoin",
          "AudioCoin",
          "IncaKoin",
          "Piggy Coin",
          "Genstake",
          "XiaoMiCoin",
          "CapriCoin",
          " ClubCoin",
          "Radium",
          "Creditbit ",
          "OKCash",
          "Lisk",
          "HiCoin",
          "WhiteCoin",
          "FriendshipCoin",
          "Triangles Coin",
          "EOS",
          "Oxycoin",
          "TigerCash",
          "Particl",
          "Nxt",
          "ZEPHYR",
          "Gapcoin",
          "BitcoinPlus"
         ],
         "legendgroup": "0",
         "marker": {
          "color": [
           0,
           0,
           0,
           0,
           0,
           0,
           0,
           0,
           0,
           0,
           0,
           0,
           0,
           0,
           0,
           0,
           0,
           0,
           0,
           0,
           0,
           0,
           0,
           0,
           0,
           0,
           0,
           0,
           0,
           0,
           0,
           0,
           0,
           0,
           0,
           0,
           0,
           0,
           0,
           0,
           0,
           0,
           0,
           0,
           0,
           0,
           0,
           0,
           0,
           0,
           0,
           0,
           0,
           0,
           0,
           0,
           0,
           0,
           0,
           0,
           0,
           0,
           0,
           0,
           0,
           0,
           0,
           0,
           0,
           0,
           0,
           0,
           0,
           0,
           0,
           0,
           0,
           0,
           0,
           0,
           0,
           0,
           0,
           0,
           0,
           0,
           0,
           0,
           0,
           0,
           0,
           0,
           0,
           0,
           0,
           0,
           0,
           0,
           0,
           0,
           0,
           0,
           0,
           0,
           0,
           0,
           0,
           0,
           0,
           0,
           0,
           0,
           0,
           0,
           0,
           0,
           0,
           0,
           0,
           0,
           0,
           0,
           0,
           0,
           0,
           0,
           0,
           0,
           0,
           0,
           0,
           0,
           0,
           0,
           0,
           0,
           0,
           0,
           0,
           0,
           0,
           0,
           0,
           0,
           0,
           0,
           0,
           0,
           0,
           0,
           0,
           0,
           0,
           0,
           0,
           0,
           0,
           0,
           0,
           0,
           0,
           0,
           0,
           0,
           0,
           0,
           0,
           0,
           0,
           0,
           0,
           0,
           0,
           0,
           0,
           0,
           0,
           0,
           0,
           0,
           0,
           0,
           0,
           0,
           0,
           0,
           0,
           0,
           0,
           0,
           0,
           0,
           0,
           0,
           0,
           0,
           0,
           0,
           0,
           0,
           0,
           0,
           0,
           0,
           0,
           0,
           0,
           0,
           0,
           0,
           0,
           0,
           0,
           0,
           0,
           0,
           0,
           0,
           0,
           0,
           0,
           0,
           0,
           0,
           0,
           0,
           0,
           0,
           0,
           0,
           0,
           0,
           0,
           0,
           0,
           0,
           0,
           0,
           0,
           0,
           0,
           0,
           0,
           0,
           0,
           0,
           0,
           0,
           0,
           0,
           0,
           0,
           0,
           0,
           0,
           0,
           0,
           0,
           0,
           0,
           0,
           0,
           0,
           0,
           0,
           0,
           0,
           0,
           0,
           0,
           0,
           0,
           0,
           0,
           0,
           0,
           0,
           0,
           0,
           0,
           0,
           0,
           0,
           0,
           0,
           0,
           0
          ],
          "coloraxis": "coloraxis",
          "symbol": "circle"
         },
         "mode": "markers",
         "name": "0",
         "scene": "scene",
         "showlegend": true,
         "x": [
          -0.3311088322239452,
          -0.314467014645377,
          2.303502015684517,
          -0.39196136947369,
          -0.2970590946638258,
          -0.30348452869710796,
          -0.27692188457828176,
          -0.21457222617226243,
          -0.3307688178921712,
          -0.32335591469350744,
          -0.3296073222346696,
          -0.3311047727975006,
          -0.3310890731561768,
          0.7300354162415799,
          -0.35350736393126436,
          -0.3623473471683442,
          -0.2676810235489357,
          -0.32916989953942133,
          -0.3452481494967927,
          -0.3918561999846713,
          -0.465372863090717,
          -0.04479863145449702,
          -0.26683394540534394,
          -0.3042975542445592,
          -0.2776329160458581,
          -0.27825433082936635,
          -0.3358436213414025,
          -0.32541770719832785,
          -0.32951246250226435,
          0.026575538551059402,
          -0.36510937416198297,
          -0.39222733196908727,
          -0.27357001867979663,
          -0.3699007990164711,
          -0.39213906881341026,
          -0.30637002662403273,
          -0.32978776109106384,
          -0.2635474819785588,
          -0.3921035972200647,
          -0.2740373164687133,
          -0.2780354739438969,
          -0.3222217449140813,
          0.18973633150968144,
          -0.3955461364567456,
          -0.30269717775334914,
          -0.35292967199066627,
          -0.30427786411985397,
          -0.27832960263819645,
          -0.2989379423654289,
          -0.3310909236485767,
          -0.27828185223812996,
          -0.36555361969434974,
          -0.3308256131214343,
          -0.3922088844435746,
          -0.5499271763417897,
          -0.37400887056006815,
          -0.3274835153486612,
          -0.3026812859990961,
          -0.27780403777257073,
          -0.29604923246363074,
          -0.21701106055555752,
          -0.059064831438638755,
          -0.3034554797750105,
          -0.0700472955489222,
          -0.30351911081260297,
          -0.23122199455605516,
          -0.33070161759236977,
          -0.3025503099002241,
          -0.38938110210347204,
          0.8475448784012378,
          -0.30331938298922045,
          1.4019516328278036E-4,
          -0.3620309940739872,
          -0.3900545175009542,
          -0.30206424681987903,
          -0.29973498739394844,
          -0.35242558453712997,
          -0.3909454752834175,
          -0.37389310375771556,
          -0.30702528435229726,
          -0.33073966302117414,
          -0.329180572182622,
          -0.2504626775674152,
          -0.3530593934354938,
          -0.39168338420499693,
          -0.32994483420839177,
          -0.30350007082793745,
          -0.3921980851751364,
          -0.33092861986622046,
          -0.33108516410821826,
          -0.3025402444200831,
          -0.2582379100041101,
          0.06728514596416743,
          -0.3609893207317186,
          -0.33069981356169326,
          -0.37837581522198416,
          -0.3603188697051208,
          -0.25189176119035234,
          -0.4474691767092115,
          -0.3600677259589402,
          -0.24685863839406524,
          3.748650519566727,
          -0.3917911065370604,
          0.8524407457112234,
          -0.39215305121959326,
          -0.36145251581863197,
          -0.3306274013906122,
          -0.3307815251121292,
          -0.3620309940739872,
          -0.39172841259925556,
          -0.30336292064385867,
          -0.3306281448555258,
          -0.36774036730417464,
          -0.330775355066281,
          -0.3263680601016961,
          -0.3921820063012099,
          -0.3299868867427868,
          0.33820276065687144,
          -0.33097439992685496,
          -0.3310448959726119,
          -0.3845585553433873,
          -0.3532271045404049,
          -0.3272757106829682,
          -0.3034765146354092,
          -0.39209206605071384,
          -0.3308229653932055,
          -0.33094975345323374,
          -0.30418440869393987,
          -0.2913806641193923,
          -0.25165989307784187,
          -0.31182622452195896,
          -0.303925901612226,
          -0.39135860907379405,
          -0.36771866437631173,
          -0.3900985750023828,
          -0.36027964693492254,
          -0.3912566246609917,
          -0.35468626007683196,
          -0.38720217527011846,
          -0.33089311350942385,
          -0.3308922931392154,
          -0.32402129915029626,
          0.25517751376746844,
          -0.39173458503898584,
          -0.28684568072095473,
          -0.36206522910248584,
          -0.330104680515777,
          0.9160544469818523,
          -0.2756136786273277,
          -0.37267291193902474,
          0.6302627997540734,
          -0.3539593964269718,
          -0.352463367241567,
          -0.4103206397854579,
          -0.27796731757032356,
          0.1333216190159455,
          -0.2780380166537148,
          -0.35238616709194415,
          -0.4098261573831392,
          -0.39200666853135524,
          -0.3042585740317509,
          4.349255584333044,
          -0.3619316255001829,
          -0.3305287337775775,
          -0.3310278460780571,
          -0.3550544763322319,
          0.5975649385497592,
          -0.3919475448725035,
          -0.33084863721053315,
          -0.33098350017905026,
          -0.33357500163431697,
          0.4371895136472852,
          -0.30182477459155077,
          -0.33874385650068783,
          -0.4319554453304755,
          -0.3309338942146453,
          -0.40950138854608054,
          -0.40867966212249507,
          -0.33080446856538903,
          -0.10361328319256445,
          -0.3907415592681186,
          3.7535009079591317,
          0.20486490002622793,
          -0.27471282449829365,
          -0.3282676824967748,
          -0.327223919326356,
          -0.38444459710648937,
          0.08288890712155315,
          -0.3299438914364894,
          -0.39132210324493594,
          -0.38361024585637027,
          -0.317524370962537,
          -0.3310499496253328,
          -0.365525583474691,
          -0.37417467341878946,
          -0.2816563934983575,
          -0.3566234351439286,
          -0.3266005400715388,
          -0.2434649059299846,
          -0.40181775179697843,
          -0.3920238675406212,
          -0.2746486394695689,
          -0.3034194649110572,
          -0.4010047084245004,
          -0.35355880682764484,
          -0.3310772709587877,
          -0.33105900220534157,
          -0.2978074844188258,
          -0.39045661618104627,
          -0.3615265600448642,
          -0.33077583629427004,
          3.974830639215811,
          -0.4081711182536593,
          -0.3617150004648022,
          -0.3273025412321251,
          -0.2777057050767767,
          -0.2100570562195096,
          -0.303953161020236,
          -0.1344262262129589,
          -0.3042048688181756,
          -0.3121018444083942,
          -0.33025045530905456,
          -0.1898562588116684,
          2.2496707923424912,
          -0.3801570327639365,
          -0.2757413974077544,
          1.0171670608756993,
          -0.3531391699983994,
          -0.3845579824229248,
          -0.4111836910196666,
          -0.185062239038939,
          -0.3600026215665024,
          -0.38327902776670497,
          -0.3239614669968194,
          -0.3651034777293997,
          -0.39149783784688247,
          -0.3014535283589347,
          -0.3608157432852063,
          -0.3281103892709925,
          -0.3649649620084638,
          -0.19071034825132524,
          -0.3343490039497153,
          -0.24814246895151268,
          0.6275087607881396,
          -0.15574677236541026,
          -0.41047914465092766,
          -0.33077981946517343,
          -0.41093473545471887,
          -0.3846748216336012,
          0.5746922663659806,
          -0.36557983110559716,
          -0.33026330084623023,
          -0.26911064531523404,
          -0.2668717064943936,
          -0.3890650064435442,
          -0.39172481575462575,
          3.765727756330974,
          0.10364975771152134,
          -0.3892676642506166,
          -0.32964938898771134,
          -0.3304735640739454,
          -0.2769544588655102,
          -0.33099132107515117,
          -0.38336260973483344,
          -0.2447876940007713,
          -0.08342484493048494,
          -0.379115603150341,
          -0.33027054102141146,
          -0.3233431235546221,
          -0.38829753384457205,
          -0.3287114950391431,
          -0.36230628965572587,
          -0.4298854847390329,
          -0.302001359611761,
          3.749041888449692,
          -0.11171790741643166,
          -0.3259096390009293,
          -0.3354698669293429,
          -0.2784366888601705,
          3.758896990360803,
          3.7601395307177956,
          -0.2578741511653353,
          -0.3622422389698738,
          -0.25903559300054374,
          2.4910365889378996,
          -0.3291562983995408,
          -0.30460089967681764
         ],
         "y": [
          0.9666360929063333,
          0.9669527235904637,
          1.711049033483207,
          1.3611249876165274,
          1.596944351517839,
          0.8490908058559369,
          0.6082775387459353,
          1.973913329069594,
          0.9666386143730917,
          0.966949460052724,
          0.9666967828433111,
          0.9666359224089573,
          0.9666362223722405,
          0.42623023873409227,
          1.0120847051965483,
          1.547482225474163,
          0.09989455522052983,
          0.9666341580711281,
          1.1211345567978375,
          1.36112923848849,
          2.0773268869183292,
          0.736315269983058,
          0.8489679673634625,
          0.7258156901338695,
          1.8169596744224246,
          1.8169345573024243,
          0.5024098650043631,
          0.9665850561999585,
          0.9666350345289434,
          0.9810934272328005,
          1.1203317809764126,
          1.361128959538647,
          0.10196790949052002,
          1.5331696637370305,
          1.3611258356493328,
          0.9665652826588331,
          0.9666225687484007,
          0.1456619584724502,
          1.3611302808246795,
          0.10201594255549508,
          1.816943403333772,
          0.9663260934303615,
          1.041518716158616,
          1.4266379653694432,
          0.8490918463811228,
          1.012110986207043,
          0.725827313794206,
          1.8169234843653206,
          0.725708544973404,
          0.966636816785639,
          1.8169267528185489,
          1.1203004407265096,
          0.966634156260079,
          1.3611297058430178,
          2.3196089936599393,
          2.0180528651088268,
          1.1835742571586456,
          0.7258249253942147,
          1.8169192973646733,
          0.848736848640331,
          1.9740313774751896,
          0.9910819512836098,
          0.8490919799916056,
          1.3563837392132125,
          0.8490971039752612,
          1.5614507363384413,
          0.9666244454703358,
          0.7257492098494694,
          1.3609870264632795,
          0.706131443529214,
          0.8490854351612542,
          0.4220596621221886,
          1.54748162805093,
          1.3611665930722023,
          0.8490138856258799,
          0.8489057474220235,
          1.5564915492318012,
          1.361087751855549,
          1.5085912790981741,
          0.9662711140662982,
          0.9666213462153606,
          0.9666471108691891,
          1.5760307665535183,
          1.1203791619125714,
          1.361117485723211,
          0.9666229120598252,
          0.8490908468635682,
          1.3611281347146111,
          0.9666293235957096,
          0.9666370495819451,
          0.7258975470806889,
          -0.0810819642128997,
          2.031721915187828,
          1.5474875944256101,
          0.9666526251623405,
          1.3606850147648248,
          1.547537446725194,
          1.5761051727418747,
          1.8923687047541102,
          1.5473729341721483,
          2.027385554958835,
          1.5398388631424094,
          1.361126515845555,
          1.8620675776292728,
          1.3611293838994694,
          1.5474849334411747,
          0.9666297606964563,
          0.9666212156682515,
          1.54748162805093,
          1.361108973620098,
          0.849097059580174,
          0.9666334380635515,
          1.2421855777759578,
          0.9666308339816947,
          0.9663922840309738,
          1.361127446192819,
          0.9665850750464713,
          0.7300366270532842,
          0.966632826871277,
          0.9666364582342591,
          1.4638685067305583,
          0.7179751991300412,
          0.9664564203778673,
          0.8490917989872224,
          1.3611281677747462,
          0.9666342632792704,
          0.9666278447971909,
          0.7257942847021736,
          0.1208909949771718,
          1.5761064976224388,
          0.9667462725765418,
          0.7258185013858939,
          1.3610971524449427,
          1.9924666704215204,
          1.361141389988971,
          1.5474919932971987,
          1.3611012745785045,
          1.5475241973088412,
          1.3609974688193271,
          0.9666306167827867,
          0.9666257059070451,
          0.9662533567963153,
          0.5796022942660716,
          1.3611221083130105,
          0.7251934917571153,
          1.547473552207575,
          0.966606413058106,
          1.9596178329170613,
          0.6082048824314149,
          1.508596095944489,
          1.9256541112477579,
          1.5564830904175206,
          1.556469945815739,
          1.9593783648260104,
          1.8169260818958766,
          0.9519475780759042,
          1.8169306537237095,
          1.4978430217025087,
          1.9593983514342583,
          1.3611315169081817,
          0.7258164453075504,
          3.2946585406439066,
          1.54745780538679,
          0.9666272494104722,
          0.9666365556563395,
          1.5969485972216915,
          1.4815696400993965,
          1.3611222003519814,
          0.5023465978723614,
          0.9666306298750893,
          0.6128293329702336,
          0.9809599136053929,
          0.8491056935780547,
          1.556301732533197,
          1.774053756162682,
          0.9666291104104978,
          1.7046297992196582,
          1.4365024325690685,
          0.9666384986393632,
          0.6092680274504354,
          1.3610926479435428,
          1.5397839588642546,
          1.5590007744571992,
          1.8169371684629334,
          0.9666103962057091,
          1.3156585958163511,
          1.4638697667925429,
          0.9499091256440844,
          0.9665827976310498,
          1.3611320884289535,
          1.463836569753482,
          0.9665828786578408,
          0.966635796089301,
          1.120300904720589,
          1.5085855865391968,
          -0.08710637029844309,
          -0.11185928759525922,
          0.9666630582574218,
          1.5759120858914513,
          0.8872412525682166,
          1.3611204538647452,
          1.5975705428064826,
          0.725779027741655,
          1.5218818386182231,
          1.5564725135924071,
          0.966635360990387,
          0.9666347609818842,
          0.7257542372366945,
          1.5584285679834669,
          1.5474565106902465,
          0.9666294761129898,
          1.5641685949748927,
          1.704683567748272,
          1.5474542477409685,
          0.7214234041506922,
          0.9653669519060016,
          1.4200357857461816,
          0.7258230386184391,
          0.967759925585036,
          0.7258008190173465,
          2.0297046346759844,
          0.9666145743373912,
          1.7331930575017551,
          0.15159161891432024,
          1.463621465314584,
          0.6082665219029758,
          1.4818859860282452,
          0.962247247246663,
          1.4638645146340832,
          1.7046921965019246,
          0.7193496735587389,
          0.8536353426873149,
          1.4638633415188298,
          0.966255775167134,
          1.120295212815467,
          1.3611249853679992,
          0.7257674770117991,
          1.5474035978834968,
          1.0392546118914445,
          1.120270697115953,
          0.9602651340007228,
          1.8816741710294682,
          1.3567553276803044,
          1.4118388816669558,
          1.1287940604917002,
          1.704687983552024,
          0.9666353379964422,
          1.7046929671342308,
          1.4638648981447442,
          0.9531910678818816,
          1.1202995820435782,
          0.966614055130402,
          1.5974999324586043,
          2.028253679280899,
          1.3609757112920973,
          1.3611291952693179,
          1.539943554457812,
          0.9607863973987323,
          1.361248587759727,
          0.9665612407536376,
          0.9666254613185987,
          0.6082705338418708,
          0.9666408426470365,
          1.3611526611817548,
          0.9630984350626135,
          0.8578730263127164,
          1.3609897175485692,
          0.9666599379030912,
          0.9666822934949127,
          1.3611486042495884,
          0.9666259180809981,
          1.5474778621078271,
          1.0639808771146189,
          0.8490952100992551,
          1.5398313142748727,
          0.7269124409456973,
          0.966645477754859,
          0.5023872297362587,
          1.816927106222367,
          1.5403366689298952,
          1.540386891480244,
          0.608386590056676,
          1.5474806958253382,
          1.8043829295800056,
          0.6664462065228923,
          0.9665477106600423,
          0.7258135877300886
         ],
         "z": [
          -0.5743747381856302,
          -0.5747690032048262,
          -0.6896266093718741,
          -0.5590930458721106,
          -0.1337031887895418,
          -0.3543555823768284,
          -0.06198575117021344,
          -0.5411300567169998,
          -0.5743822434134216,
          -0.5745815272359328,
          -0.5744147870895369,
          -0.5743747998359899,
          -0.5743751719550968,
          -0.15599694223639848,
          -0.31851094318952144,
          -0.1510765478600552,
          -0.21013652589572676,
          -0.5744152634257343,
          -0.26726184492659427,
          -0.5590958509965422,
          -0.5932039353761897,
          -0.28893211609273967,
          -0.3551095874386583,
          -0.28200914382103165,
          -0.6500789075651493,
          -0.6500623329311501,
          -0.33227624782779747,
          -0.5744873665026705,
          -0.5744081780874353,
          -0.58391504474515,
          -0.26673209806775033,
          -0.5590880035601408,
          0.054641623692164236,
          -0.2447885817401887,
          -0.55908942527971,
          -0.5748853714635916,
          -0.5744006486957105,
          -0.23911266293621097,
          -0.5590907910472325,
          0.05464476200000142,
          -0.6500681703731792,
          -0.5745185217500677,
          0.28597359952645407,
          -0.1353693624020771,
          -0.3543722931286283,
          -0.31852676009326075,
          -0.2820111778949732,
          -0.6500592061716882,
          -0.28210697824535336,
          -0.5743752158545277,
          -0.6500606663033219,
          -0.26671838383513485,
          -0.5743804271967465,
          -0.5590884956934833,
          -0.3737079937387177,
          -0.678491071524253,
          -0.23774917589111885,
          -0.28204443683830166,
          -0.6500696805084247,
          -0.3544626948046823,
          -0.5410951944370703,
          -0.39737745870017277,
          -0.35435635718178105,
          -0.5652053628139637,
          -0.354355732438386,
          -0.5441691640848269,
          -0.5743816828133921,
          -0.28203664133839657,
          -0.5591281089728278,
          -0.3035006770161582,
          -0.35435830859432693,
          -0.14005886731743591,
          -0.15108312063089185,
          -0.5591389636260226,
          -0.35437474580883965,
          -0.35440868366762457,
          -0.5409279783489425,
          -0.5591092312106353,
          -0.11708935402308492,
          -0.5748305915425745,
          -0.5743804504513146,
          -0.5744168438912433,
          -0.35770574512440184,
          -0.266992230630621,
          -0.5590978492280432,
          -0.5743973917414328,
          -0.35435526108717463,
          -0.5590885039664661,
          -0.5743775865013999,
          -0.5743753694753874,
          -0.28205752441153153,
          -0.28681163330544296,
          -0.6665984425047584,
          -0.15110586872338225,
          -0.574385647705709,
          -0.5593175722767794,
          -0.15112692200417982,
          -0.3576860461646738,
          -0.7607021545099397,
          -0.15110928064973064,
          -0.6593846157549518,
          -0.0018845265382325083,
          -0.5590968411438181,
          -0.6801414350277648,
          -0.5590896255525919,
          -0.15109575234788192,
          -0.5743839850064555,
          -0.5743795514867341,
          -0.15108312063089185,
          -0.5590957156466044,
          -0.3543590124705587,
          -0.5743844818176521,
          -0.32033259932235447,
          -0.574381021648254,
          -0.5744405077573674,
          -0.5590887463158208,
          -0.5743912342458396,
          -0.29611546031175157,
          -0.5743771114888278,
          -0.5743761343048849,
          -0.1723011211971421,
          -0.30525652737646697,
          -0.5744303485368687,
          -0.35435588938775564,
          -0.5590907392007007,
          -0.5743804978180568,
          -0.5743769357781611,
          -0.28200854146761783,
          -0.476074629797325,
          -0.35769110926315506,
          -0.5747957954009434,
          -0.2820173550966988,
          -0.5591018489389136,
          -0.44211225426183814,
          -0.5591345245272734,
          -0.1511214131561114,
          -0.5591045691096604,
          -0.1512435849528226,
          -0.559175408459081,
          -0.5743785137600719,
          -0.574377846673333,
          -0.5744705232897502,
          -0.06918505360713145,
          -0.5590974161434149,
          -0.28228962328369805,
          -0.15108127493460127,
          -0.574391729406106,
          -0.5629261540451443,
          -0.06200315073189769,
          -0.11711569792806881,
          -0.729950360999367,
          -0.5408945284019798,
          -0.5409241728968667,
          -0.7897976525913729,
          -0.6500671905723283,
          -0.5820993939388476,
          -0.6500663401734732,
          -0.08099347509300527,
          -0.7898108416320186,
          -0.5590930026653926,
          -0.28201006919514254,
          4.091007484312418,
          -0.15108189156230992,
          -0.5743857110026718,
          -0.5743765066083221,
          -0.1324835659193561,
          -0.21076361145107708,
          -0.5590929483249643,
          -0.3323725250887843,
          -0.5743766138619463,
          0.010050963919650288,
          -0.5925356983902365,
          -0.3543925780201081,
          -0.541189388345645,
          -0.5364215360524892,
          -0.5743774458217812,
          -0.4646977901535104,
          0.03696509863936173,
          -0.5743814772004754,
          -0.06577016728415244,
          -0.5591142038608771,
          -0.0019789269176739787,
          -0.5530029593772646,
          -0.650137209591178,
          -0.5744309346464506,
          -0.2485267689875272,
          -0.17230369445604013,
          -0.5807542316359475,
          -0.5743918214953534,
          -0.5591074854643269,
          -0.17231662296671654,
          -0.574653137718595,
          -0.5743759357046069,
          -0.2667190383723317,
          -0.11708263656032321,
          0.10638836060688671,
          -0.6034046959716656,
          -0.5744733497200161,
          -0.35783643868408,
          -0.505566754721394,
          -0.5590910991280319,
          -0.3603294752144876,
          -0.28202250966598835,
          -0.19815919176788124,
          -0.540901482833277,
          -0.5743753002351532,
          -0.5743756009938867,
          -0.28213713029067583,
          -0.12697362734724046,
          -0.15109023366111143,
          -0.5743808222996711,
          0.18183139312878774,
          -0.4647332716769666,
          -0.15108595355200144,
          -0.06648052354790858,
          -0.5753214732237186,
          -0.03899022402518636,
          -0.28201741384142065,
          -0.5786695219445439,
          -0.2820090215685423,
          -0.6583350796788231,
          -0.5743897996273164,
          -0.24873433094047942,
          -0.3275470961542277,
          -0.17235930254158185,
          -0.06200905321672056,
          -0.07910343937660211,
          -0.35886710381310905,
          -0.1723005769391068,
          -0.4646710900235921,
          -0.2836167764082902,
          -0.2823206968341642,
          -0.1723273224842907,
          -0.574472119157875,
          -0.26672712623044637,
          -0.5591027981978092,
          -0.28206226305602966,
          -0.15109781556462687,
          -0.4385226128003849,
          -0.2667266242353999,
          -0.5764408874215055,
          -0.08213422289980175,
          -0.06795818434873138,
          0.22793021314246023,
          -0.27231630460741774,
          -0.4646853264894017,
          -0.5743815553676899,
          -0.4646764354032487,
          -0.17229817210236226,
          -0.5915590536670653,
          -0.26671771269041455,
          -0.5743894570057975,
          -0.3604361540265237,
          -0.6590845197408013,
          -0.5591331827727107,
          -0.5590986092791852,
          -0.0022584182440227377,
          -0.5827068217133479,
          -0.5591669451438396,
          -0.5743950137606256,
          -0.57438662258866,
          -0.06198408965470827,
          -0.5743778724958623,
          -0.5592778189506761,
          -0.5756979379365426,
          -0.36020943884557793,
          -0.559344468612314,
          -0.5743956985937257,
          -0.5745445657926225,
          -0.5591734235069791,
          -0.5744237599201567,
          -0.1510768036543245,
          -0.6649734437716601,
          -0.3543874017882067,
          -0.0018917089231486202,
          -0.2862138279563106,
          -0.574485436276852,
          -0.3322809572656209,
          -0.6500574578109944,
          -0.0021694817429746814,
          -0.0022026232970425498,
          -0.062401709423406594,
          -0.15107854615973804,
          -0.1407989395871648,
          0.014435661419058011,
          -0.5744035028514877,
          -0.28200246849948013
         ],
         "type": "scatter3d"
        },
        {
         "customdata": [
          [
           "SHA-256"
          ],
          [
           "Ethash"
          ],
          [
           "Scrypt"
          ],
          [
           "CryptoNight-V7"
          ],
          [
           "Ethash"
          ],
          [
           "Equihash"
          ],
          [
           "Multiple"
          ],
          [
           "Scrypt"
          ],
          [
           "X11"
          ],
          [
           "Scrypt"
          ],
          [
           "Multiple"
          ],
          [
           "Scrypt"
          ],
          [
           "SHA-256"
          ],
          [
           "Scrypt"
          ],
          [
           "Scrypt"
          ],
          [
           "Quark"
          ],
          [
           "Groestl"
          ],
          [
           "Scrypt"
          ],
          [
           "Scrypt"
          ],
          [
           "Scrypt"
          ],
          [
           "X11"
          ],
          [
           "Multiple"
          ],
          [
           "SHA-256"
          ],
          [
           "Scrypt"
          ],
          [
           "Scrypt"
          ],
          [
           "Scrypt"
          ],
          [
           "Scrypt"
          ],
          [
           "Scrypt"
          ],
          [
           "NeoScrypt"
          ],
          [
           "Scrypt"
          ],
          [
           "Scrypt"
          ],
          [
           "Scrypt"
          ],
          [
           "Scrypt"
          ],
          [
           "SHA-256"
          ],
          [
           "Scrypt"
          ],
          [
           "Scrypt"
          ],
          [
           "Scrypt"
          ],
          [
           "Scrypt"
          ],
          [
           "HybridScryptHash256"
          ],
          [
           "Scrypt"
          ],
          [
           "Scrypt"
          ],
          [
           "SHA-256"
          ],
          [
           "Scrypt"
          ],
          [
           "Scrypt"
          ],
          [
           "Scrypt"
          ],
          [
           "Scrypt"
          ],
          [
           "SHA-256"
          ],
          [
           "SHA-256"
          ],
          [
           "SHA-256"
          ],
          [
           "SHA-256"
          ],
          [
           "SHA-256"
          ],
          [
           "X11"
          ],
          [
           "Scrypt"
          ],
          [
           "Lyra2REv2"
          ],
          [
           "Scrypt"
          ],
          [
           "SHA-256"
          ],
          [
           "CryptoNight"
          ],
          [
           "CryptoNight"
          ],
          [
           "Scrypt"
          ],
          [
           "Scrypt"
          ],
          [
           "Scrypt"
          ],
          [
           "Scrypt"
          ],
          [
           "Scrypt"
          ],
          [
           "Scrypt"
          ],
          [
           "Stanford Folding"
          ],
          [
           "Multiple"
          ],
          [
           "QuBit"
          ],
          [
           "Scrypt"
          ],
          [
           "Scrypt"
          ],
          [
           "M7 POW"
          ],
          [
           "Scrypt"
          ],
          [
           "SHA-256"
          ],
          [
           "Scrypt"
          ],
          [
           "X11"
          ],
          [
           "Lyra2RE"
          ],
          [
           "SHA-256"
          ],
          [
           "X11"
          ],
          [
           "Scrypt"
          ],
          [
           "Scrypt"
          ],
          [
           "Ethash"
          ],
          [
           "Blake2b"
          ],
          [
           "X11"
          ],
          [
           "SHA-256"
          ],
          [
           "Scrypt"
          ],
          [
           "1GB AES Pattern Search"
          ],
          [
           "Scrypt"
          ],
          [
           "SHA-256"
          ],
          [
           "X11"
          ],
          [
           "Dagger"
          ],
          [
           "Scrypt"
          ],
          [
           "X11GOST"
          ],
          [
           "Scrypt"
          ],
          [
           "X11"
          ],
          [
           "Scrypt"
          ],
          [
           "X11"
          ],
          [
           "Equihash"
          ],
          [
           "CryptoNight"
          ],
          [
           "SHA-256"
          ],
          [
           "Multiple"
          ],
          [
           "Scrypt"
          ],
          [
           "SHA-256"
          ],
          [
           "Scrypt"
          ],
          [
           "Lyra2Z"
          ],
          [
           "Ethash"
          ],
          [
           "Equihash"
          ],
          [
           "Scrypt"
          ],
          [
           "X11"
          ],
          [
           "X11"
          ],
          [
           "CryptoNight"
          ],
          [
           "Scrypt"
          ],
          [
           "CryptoNight"
          ],
          [
           "Lyra2RE"
          ],
          [
           "X11"
          ],
          [
           "CryptoNight-V7"
          ],
          [
           "Scrypt"
          ],
          [
           "X11"
          ],
          [
           "Equihash"
          ],
          [
           "Scrypt"
          ],
          [
           "Lyra2RE"
          ],
          [
           "Dagger-Hashimoto"
          ],
          [
           "Scrypt"
          ],
          [
           "NIST5"
          ],
          [
           "Scrypt"
          ],
          [
           "SHA-256"
          ],
          [
           "Scrypt"
          ],
          [
           "CryptoNight-V7"
          ],
          [
           "Argon2d"
          ],
          [
           "Blake2b"
          ],
          [
           "Cloverhash"
          ],
          [
           "CryptoNight"
          ],
          [
           "X11"
          ],
          [
           "Scrypt"
          ],
          [
           "Scrypt"
          ],
          [
           "X11"
          ],
          [
           "X11"
          ],
          [
           "CryptoNight"
          ],
          [
           "Time Travel"
          ],
          [
           "Scrypt"
          ],
          [
           "Keccak"
          ],
          [
           "X11"
          ],
          [
           "SHA-256"
          ],
          [
           "Scrypt"
          ],
          [
           "Scrypt"
          ],
          [
           "Scrypt"
          ],
          [
           "Scrypt"
          ],
          [
           "Scrypt"
          ],
          [
           "Scrypt"
          ],
          [
           "CryptoNight"
          ],
          [
           "Equihash"
          ],
          [
           "X11"
          ],
          [
           "NeoScrypt"
          ],
          [
           "Equihash"
          ],
          [
           "Dagger"
          ],
          [
           "Scrypt"
          ],
          [
           "X11"
          ],
          [
           "NeoScrypt"
          ],
          [
           "Ethash"
          ],
          [
           "NeoScrypt"
          ],
          [
           "Multiple"
          ],
          [
           "CryptoNight"
          ],
          [
           "CryptoNight"
          ],
          [
           "Ethash"
          ],
          [
           "X11"
          ],
          [
           "CryptoNight-V7"
          ],
          [
           "Scrypt"
          ],
          [
           "BLAKE256"
          ],
          [
           "X11"
          ],
          [
           "NeoScrypt"
          ],
          [
           "NeoScrypt"
          ],
          [
           "Scrypt"
          ],
          [
           "X11"
          ],
          [
           "SHA-256"
          ],
          [
           "C11"
          ],
          [
           "CryptoNight"
          ],
          [
           "SkunkHash"
          ],
          [
           "CryptoNight"
          ],
          [
           "Scrypt"
          ],
          [
           "Dagger"
          ],
          [
           "Lyra2REv2"
          ],
          [
           "Scrypt"
          ],
          [
           "Scrypt"
          ],
          [
           "X11"
          ],
          [
           "Ethash"
          ],
          [
           "CryptoNight"
          ],
          [
           "Scrypt"
          ],
          [
           "IMesh"
          ],
          [
           "Equihash"
          ],
          [
           "Lyra2Z"
          ],
          [
           "X11"
          ],
          [
           "CryptoNight"
          ],
          [
           "NIST5"
          ],
          [
           "Lyra2RE"
          ],
          [
           "Tribus"
          ],
          [
           "Lyra2Z"
          ],
          [
           "CryptoNight"
          ],
          [
           "CryptoNight Heavy"
          ],
          [
           "CryptoNight"
          ],
          [
           "Jump Consistent Hash"
          ],
          [
           "CryptoNight"
          ],
          [
           "X16R"
          ],
          [
           "HMQ1725"
          ],
          [
           "X11"
          ],
          [
           "Scrypt"
          ],
          [
           "CryptoNight-V7"
          ],
          [
           "Cryptonight-GPU"
          ],
          [
           "XEVAN"
          ],
          [
           "CryptoNight Heavy"
          ],
          [
           "SHA-256"
          ],
          [
           "X11"
          ],
          [
           "X16R"
          ],
          [
           "Equihash"
          ],
          [
           "Lyra2Z"
          ],
          [
           "SHA-256"
          ],
          [
           "CryptoNight"
          ],
          [
           "Blake"
          ],
          [
           "Blake"
          ],
          [
           "Equihash"
          ],
          [
           "Exosis"
          ],
          [
           "Scrypt"
          ],
          [
           "Equihash"
          ],
          [
           "Equihash"
          ],
          [
           "QuBit"
          ],
          [
           "SHA-256"
          ],
          [
           "X13"
          ],
          [
           "SHA-256"
          ],
          [
           "Scrypt"
          ],
          [
           "NeoScrypt"
          ],
          [
           "Blake"
          ],
          [
           "Scrypt"
          ],
          [
           "SHA-256"
          ],
          [
           "Scrypt"
          ],
          [
           "Groestl"
          ],
          [
           "Scrypt"
          ],
          [
           "Scrypt"
          ],
          [
           "Multiple"
          ],
          [
           "Equihash+Scrypt"
          ],
          [
           "Ethash"
          ],
          [
           "CryptoNight"
          ],
          [
           "Equihash"
          ]
         ],
         "hovertemplate": "<b>%{hovertext}</b><br><br>Class=%{marker.color}<br>PC 1=%{x}<br>PC 2=%{y}<br>PC 3=%{z}<br>Algorithm=%{customdata[0]}<extra></extra>",
         "hovertext": [
          "Bitcoin",
          "Ethereum",
          "Litecoin",
          "Monero",
          "Ethereum Classic",
          "ZCash",
          "DigiByte",
          "ProsperCoin",
          "Spreadcoin",
          "Argentum",
          "MyriadCoin",
          "MoonCoin",
          "ZetaCoin",
          "SexCoin",
          "Quatloo",
          "QuarkCoin",
          "Riecoin",
          "Digitalcoin ",
          "Catcoin",
          "CannaCoin",
          "CryptCoin",
          "Verge",
          "DevCoin",
          "EarthCoin",
          "E-Gulden",
          "Einsteinium",
          "Emerald",
          "Franko",
          "FeatherCoin",
          "GrandCoin",
          "GlobalCoin",
          "GoldCoin",
          "Infinite Coin",
          "IXcoin",
          "KrugerCoin",
          "LuckyCoin",
          "Litebar ",
          "MegaCoin",
          "MediterraneanCoin",
          "MinCoin",
          "NobleCoin",
          "Namecoin",
          "NyanCoin",
          "RonPaulCoin",
          "StableCoin",
          "SmartCoin",
          "SysCoin",
          "TigerCoin",
          "TerraCoin",
          "UnbreakableCoin",
          "Unobtanium",
          "UroCoin",
          "ViaCoin",
          "Vertcoin",
          "WorldCoin",
          "JouleCoin",
          "ByteCoin",
          "DigitalNote ",
          "MonaCoin",
          "Gulden",
          "PesetaCoin",
          "Wild Beast Coin",
          "Flo",
          "ArtByte",
          "Folding Coin",
          "Unitus",
          "CypherPunkCoin",
          "OmniCron",
          "GreenCoin",
          "Cryptonite",
          "MasterCoin",
          "SoonCoin",
          "1Credit",
          "MarsCoin ",
          "Crypto",
          "Anarchists Prime",
          "BowsCoin",
          "Song Coin",
          "BitZeny",
          "Expanse",
          "Siacoin",
          "MindCoin",
          "I0coin",
          "Revolution VR",
          "HOdlcoin",
          "Gamecredits",
          "CarpeDiemCoin",
          "Adzcoin",
          "SoilCoin",
          "YoCoin",
          "SibCoin",
          "Francs",
          "BolivarCoin",
          "Omni",
          "PizzaCoin",
          "Komodo",
          "Karbo",
          "ZayedCoin",
          "Circuits of Value",
          "DopeCoin",
          "DollarCoin",
          "Shilling",
          "ZCoin",
          "Elementrem",
          "ZClassic",
          "KiloCoin",
          "ArtexCoin",
          "Kurrent",
          "Cannabis Industry Coin",
          "OsmiumCoin",
          "Bikercoins",
          "HexxCoin",
          "PacCoin",
          "Citadel",
          "BeaverCoin",
          "VaultCoin",
          "Zero",
          "Canada eCoin",
          "Zoin",
          "DubaiCoin",
          "EB3coin",
          "Coinonat",
          "BenjiRolls",
          "ILCoin",
          "EquiTrader",
          "Quantum Resistant Ledger",
          "Dynamic",
          "Nano",
          "ChanCoin",
          "Dinastycoin",
          "DigitalPrice",
          "Unify",
          "SocialCoin",
          "ArcticCoin",
          "DAS",
          "LeviarCoin",
          "Bitcore",
          "gCn Coin",
          "SmartCash",
          "Onix",
          "Bitcoin Cash",
          "Sojourn Coin",
          "NewYorkCoin",
          "FrazCoin",
          "Kronecoin",
          "AdCoin",
          "Linx",
          "Sumokoin",
          "BitcoinZ",
          "Elements",
          "VIVO Coin",
          "Bitcoin Gold",
          "Pirl",
          "eBoost",
          "Pura",
          "Innova",
          "Ellaism",
          "GoByte",
          "SHIELD",
          "UltraNote",
          "BitCoal",
          "DaxxCoin",
          "AC3",
          "Lethean",
          "PopularCoin",
          "Photon",
          "Sucre",
          "SparksPay",
          "GunCoin",
          "IrishCoin",
          "Pioneer Coin",
          "UnitedBitcoin",
          "Interzone",
          "TurtleCoin",
          "MUNcoin",
          "Niobio Cash",
          "ShareChain",
          "Travelflex",
          "KREDS",
          "BitFlip",
          "LottoCoin",
          "Crypto Improvement Fund",
          "Callisto Network",
          "BitTube",
          "Poseidon",
          "Aidos Kuneen",
          "Bitrolium",
          "Alpenschillling",
          "FuturoCoin",
          "Monero Classic",
          "Jumpcoin",
          "Infinex",
          "KEYCO",
          "GINcoin",
          "PlatinCoin",
          "Loki",
          "Newton Coin",
          "MassGrid",
          "PluraCoin",
          "Motion",
          "PlusOneCoin",
          "Axe",
          "HexCoin",
          "Webchain",
          "Ryo",
          "Urals Coin",
          "Qwertycoin",
          "Project Pai",
          "Azart",
          "Xchange",
          "CrypticCoin",
          "Actinium",
          "Bitcoin SV",
          "FREDEnergy",
          "Universal Molecule",
          "Lithium",
          "PirateCash",
          "Exosis",
          "Block-Logic",
          "Beam",
          "Bithereum",
          "SLICE",
          "BLAST",
          "Bitcoin Rhodium",
          "GlobalToken",
          "SolarCoin",
          "UFO Coin",
          "BlakeCoin",
          "Crypto Escudo",
          "Crown Coin",
          "SmileyCoin",
          "Groestlcoin",
          "Bata",
          "Pakcoin",
          "JoinCoin",
          "Vollar",
          "Reality Clash",
          "Beldex",
          "Horizen"
         ],
         "legendgroup": "3",
         "marker": {
          "color": [
           3,
           3,
           3,
           3,
           3,
           3,
           3,
           3,
           3,
           3,
           3,
           3,
           3,
           3,
           3,
           3,
           3,
           3,
           3,
           3,
           3,
           3,
           3,
           3,
           3,
           3,
           3,
           3,
           3,
           3,
           3,
           3,
           3,
           3,
           3,
           3,
           3,
           3,
           3,
           3,
           3,
           3,
           3,
           3,
           3,
           3,
           3,
           3,
           3,
           3,
           3,
           3,
           3,
           3,
           3,
           3,
           3,
           3,
           3,
           3,
           3,
           3,
           3,
           3,
           3,
           3,
           3,
           3,
           3,
           3,
           3,
           3,
           3,
           3,
           3,
           3,
           3,
           3,
           3,
           3,
           3,
           3,
           3,
           3,
           3,
           3,
           3,
           3,
           3,
           3,
           3,
           3,
           3,
           3,
           3,
           3,
           3,
           3,
           3,
           3,
           3,
           3,
           3,
           3,
           3,
           3,
           3,
           3,
           3,
           3,
           3,
           3,
           3,
           3,
           3,
           3,
           3,
           3,
           3,
           3,
           3,
           3,
           3,
           3,
           3,
           3,
           3,
           3,
           3,
           3,
           3,
           3,
           3,
           3,
           3,
           3,
           3,
           3,
           3,
           3,
           3,
           3,
           3,
           3,
           3,
           3,
           3,
           3,
           3,
           3,
           3,
           3,
           3,
           3,
           3,
           3,
           3,
           3,
           3,
           3,
           3,
           3,
           3,
           3,
           3,
           3,
           3,
           3,
           3,
           3,
           3,
           3,
           3,
           3,
           3,
           3,
           3,
           3,
           3,
           3,
           3,
           3,
           3,
           3,
           3,
           3,
           3,
           3,
           3,
           3,
           3,
           3,
           3,
           3,
           3,
           3,
           3,
           3,
           3,
           3,
           3,
           3,
           3,
           3,
           3,
           3,
           3,
           3,
           3,
           3,
           3,
           3,
           3,
           3,
           3,
           3,
           3,
           3,
           3,
           3,
           3,
           3,
           3,
           3,
           3,
           3,
           3,
           3,
           3,
           3,
           3,
           3,
           3,
           3,
           3,
           3,
           3,
           3,
           3
          ],
          "coloraxis": "coloraxis",
          "symbol": "diamond"
         },
         "mode": "markers",
         "name": "3",
         "scene": "scene",
         "showlegend": true,
         "x": [
          -0.13956419239249448,
          -0.14314859474409222,
          -0.166020429018268,
          -0.15439895987208252,
          -0.1415922462222131,
          -0.16018141152047755,
          0.14984706809662807,
          -0.16716533200788422,
          -0.22822527412157081,
          -0.16678228548829646,
          -0.10327075690301575,
          2.5518859644321634,
          -0.13665254538272775,
          -0.16404083280623746,
          -0.16658650519505167,
          -0.24265196497695804,
          -0.18865489711153915,
          -0.16663529419144726,
          -0.16714762021280163,
          -0.16723397937640314,
          -0.22831450774203074,
          0.17355981360724623,
          0.23784158895563157,
          0.08120564855639047,
          -0.16698057975312974,
          -0.16259096761512368,
          -0.16691993269671998,
          -0.1672909139326469,
          -0.1672598331293925,
          -0.14653709622390912,
          -0.1660874375680219,
          -0.16636453469913526,
          1.5795680907414873,
          -0.1395256101534693,
          -0.1636570232663101,
          -0.1670069897960378,
          -0.1673613880357173,
          -0.16662150283292548,
          -0.17896308736749164,
          -0.16724278981432197,
          -0.032294133260389137,
          -0.1396031235973441,
          -0.16091413336527818,
          -0.16722224015072595,
          -0.16531861026901976,
          -0.16670957921213678,
          -0.12676995448230338,
          -0.13906752285436763,
          -0.1393543761113393,
          -0.1393373243240199,
          -0.1399274133767151,
          -0.2284882120447551,
          -0.16693908121055545,
          -0.1955934396888335,
          -0.16404551733337874,
          -0.13913473651301936,
          3.853413687654045,
          0.4563709995578498,
          -0.16580796682314528,
          -0.15042373105427403,
          -0.1645282939109454,
          -0.16736359263284017,
          -0.16439351187855042,
          -0.15063310311979206,
          -0.13431862924811205,
          -0.13723785060154434,
          -0.19035211010142453,
          -0.1672368279110777,
          -0.04031851534439025,
          -0.14312669393616495,
          -0.16737247711635234,
          -0.13963086638552666,
          0.4841085172571932,
          -0.22787611426671553,
          -0.12351497496032383,
          -0.1393710040698756,
          -0.2281606750854563,
          -0.16549828680071776,
          -0.1646914781807663,
          -0.1442146925646354,
          0.3634173330241922,
          -0.22819603518590242,
          -0.13952673110147343,
          -0.16333507448062004,
          -0.0974529457298096,
          -0.16593749937875402,
          0.27846663085896184,
          -0.22735770328157726,
          -0.18317677564862503,
          -0.1661844881756687,
          -0.158874968632779,
          -0.16716262202665946,
          -0.22815931096022668,
          -0.16737253554265624,
          -0.22830909460645749,
          -0.30089780528940424,
          0.3014544382255096,
          -0.13978650807458107,
          -0.1173334142371067,
          -0.16454248650895245,
          -0.13974518808418593,
          -0.16703631196176996,
          -0.14566984960410503,
          -0.1439571576637041,
          -0.16020300157627973,
          -0.09417502337037732,
          -0.21490845761971486,
          -0.2261396530186326,
          0.3014488256380109,
          -0.1673542930649795,
          0.3015793843228618,
          -0.12405482812048951,
          0.4861921993173432,
          -0.15316493029646805,
          -0.16732261884353306,
          -0.22105077005213136,
          -0.16021536690458107,
          -0.165458072019499,
          -0.12377354350187224,
          -0.1267823998189738,
          -0.13827664192339553,
          -0.18989148750056684,
          -0.16688549468648173,
          -0.10614998371738008,
          -0.166707727443121,
          -0.15302296299983562,
          -0.1320346503743489,
          -0.036385309585047126,
          -0.16554143351924824,
          0.33752867327130937,
          -0.22736606252513106,
          -0.16702666860532983,
          -0.1667902618426638,
          -0.22776030919709161,
          -0.22833710126465503,
          0.30184336905802084,
          -0.1683329515398298,
          3.2383660513629438,
          -0.10428468148199398,
          -0.2192190192964343,
          -0.13956335765340014,
          -0.09302345248010034,
          1.5774650122990381,
          -0.16712439288544514,
          -0.1665766256165957,
          -0.16627795045258995,
          -0.16626489769711883,
          0.30202680143223365,
          0.051876970079599155,
          -0.18277834711389548,
          -0.17194317448343957,
          -0.16006160446163842,
          -0.18193723353481275,
          -0.1654562834104535,
          -0.2238866015957677,
          -0.17178875273184582,
          -0.14232402482134446,
          -0.17188885230585066,
          -0.12748088438328894,
          1.1384708927205667,
          0.3014316042249358,
          -0.06729264397773221,
          -0.2236282022185715,
          -0.14214730093595704,
          -0.08360934176692947,
          1.108842754639531,
          -0.22831113100216233,
          -0.17194074506966206,
          -0.16498659888086936,
          -0.16637626388281967,
          -0.22823662684325152,
          -0.13954278201176043,
          -0.23805931040991737,
          8.03108991731245,
          -0.1335778108866552,
          0.30530167611410447,
          0.02544166285037029,
          -0.18144115262874666,
          -0.1811680163109258,
          -0.16694930788938295,
          0.1397707836552856,
          -0.22238414648759383,
          -0.09541198946501366,
          0.3093463072025763,
          -0.16718605079729443,
          -0.1511710752642718,
          -0.15905388257441955,
          -0.1434557179623344,
          -0.2274067841159517,
          0.30161390395698384,
          -0.1899509148723835,
          -0.12390023576548213,
          -0.17382802647935675,
          -0.14575413686571892,
          0.30553807322505994,
          0.6106003371143935,
          2.108113581652106,
          -0.1721393306025774,
          0.31520332115744626,
          -0.1901943399837715,
          -0.14995204434477097,
          -0.22829331170399392,
          -0.167210600368395,
          -0.14202622902401327,
          -0.16818763406640674,
          -0.1096872089641709,
          3.130281370249378,
          -0.09943815722012983,
          -0.22826470716571118,
          -0.18962266209722192,
          -0.05492797301439825,
          -0.1451525326114978,
          -0.1395633951720138,
          0.38128642569788035,
          -0.11674550603900916,
          -0.11713715851723268,
          -0.29673735560761405,
          -0.14027891513501217,
          -0.16610413525591547,
          -0.1581237732279214,
          -0.1598946172687434,
          -0.18956392089566687,
          -0.13884037710066285,
          -0.11468569556673479,
          -0.1377095750426344,
          0.5279821432928067,
          -0.09719381772193335,
          -0.06765414984370405,
          -0.15078350151615016,
          -0.1393537473471346,
          0.5476466798426364,
          -0.18821641375269252,
          -0.16728736798156257,
          -0.1652453691576186,
          -0.13797181582350287,
          -0.07834525977802101,
          -0.14399027737450182,
          0.3231636316646184,
          -0.16018246715090603
         ],
         "y": [
          -1.3137987290321382,
          -2.0091293805527646,
          -1.1962631123223793,
          -2.2157715741975865,
          -2.0092070079836732,
          -2.064906723796381,
          -1.8225268299178459,
          -1.1962672282818259,
          -0.8017713249438998,
          -1.1962805218118246,
          -1.82004269338672,
          -1.343327381958535,
          -1.3137806177753661,
          -1.1962941872064634,
          -1.196296700039991,
          -0.45817346618351606,
          -1.1508211052971786,
          -1.1962639842797653,
          -1.196266512384338,
          -1.1962647429749593,
          -0.8017735932821569,
          -1.8185937448814526,
          -1.312583603924244,
          -1.1952485262882404,
          -1.1962597607341003,
          -1.196268906298443,
          -1.1962646707235824,
          -1.1962657699281518,
          -1.6605141771381584,
          -1.1963700816770306,
          -1.1962564518329408,
          -1.1962691547338469,
          -1.1862818462699738,
          -1.3137971695669444,
          -1.1962889936492396,
          -1.1962601589993338,
          -1.1962620027644075,
          -1.1962593005012154,
          -2.2680819121551026,
          -1.1962629977702652,
          -1.2008399158107521,
          -1.3138003026022749,
          -1.1962260295331253,
          -1.1962695284663252,
          -1.1963458340142297,
          -1.1962690172044976,
          -1.3138617996503792,
          -1.3137960614623891,
          -1.3138043018024643,
          -1.313829042520771,
          -1.3137995240672173,
          -0.8017685685194654,
          -1.1962594218119293,
          -1.309256182718674,
          -1.1963046962883799,
          -1.3137974317611938,
          -2.2356473907847727,
          -2.2561981445123913,
          -1.1962686584519062,
          -1.1967007629039197,
          -1.19625793478489,
          -1.1962629471215651,
          -1.1962482134279842,
          -1.1962541635036459,
          -2.128958112154471,
          -1.8200772000363914,
          -1.4449044996833482,
          -1.196258320834228,
          -1.197818210747143,
          -2.195681740722505,
          -1.1962619621049035,
          -1.3138014239449887,
          -1.2314963940199606,
          -0.8017659118800459,
          -2.153406169699978,
          -1.3138128437889334,
          -0.8017693831081717,
          -1.1963264886585652,
          -1.1963204858050545,
          -2.0091837853395735,
          -2.129504223491713,
          -0.8017674662923647,
          -1.313797214874823,
          -1.1962388926270728,
          -2.068532570922097,
          -1.196259760368473,
          -1.3113606823251804,
          -0.80177908775108,
          -2.2255124399265687,
          -1.1963261921125712,
          -2.2147601030588175,
          -1.1962664495374995,
          -0.8017720048069122,
          -1.1962619624387478,
          -0.8017780589496786,
          -1.5691009767961897,
          -2.2557743587993575,
          -1.3138001768962377,
          -1.8200757283286422,
          -1.1962810032275433,
          -1.313799110599047,
          -1.1962680362684566,
          -2.139077002001417,
          -2.009179599040546,
          -2.064907596450262,
          -1.199995050453578,
          -0.8015542894768019,
          -0.8018262211557675,
          -2.2557819469540057,
          -1.1962626289833596,
          -2.2557793467054363,
          -2.153390655596509,
          -0.8398026132287378,
          -2.2158454992959493,
          -1.1962617808526237,
          -0.8021371616012276,
          -2.064905419411908,
          -1.19625108961643,
          -2.1533866475816925,
          -2.1435044412991795,
          -1.1977623513447095,
          -0.6064267474840802,
          -1.1962656346480733,
          -1.3141071206512678,
          -1.196282861902817,
          -2.2157862243709654,
          -2.182210035754756,
          -2.145891666777303,
          -2.1512590033010444,
          -2.255647990985896,
          -0.8017901329680842,
          -1.1962604704301747,
          -1.1962882055081587,
          -0.8017792997665991,
          -0.8017751087834387,
          -2.2557880836987514,
          -2.1696184920652843,
          -1.192445930750367,
          -1.1243153760826137,
          -0.8021300444995003,
          -1.3137986952926122,
          -1.2002831092784985,
          -1.1257365234120185,
          -1.196264904344252,
          -1.196285593372189,
          -1.1962842284884618,
          -1.1962837009058649,
          -2.2558040174544978,
          -2.0703748167120803,
          -0.8011255860709489,
          -1.6604966887322627,
          -2.064901881284819,
          -2.2255468641545364,
          -1.1962510173221916,
          -0.801816797992835,
          -1.6605024928812246,
          -2.009283430550479,
          -1.6604977052733332,
          -1.8201245086555309,
          -2.2788188464798873,
          -2.2557769547548414,
          -2.012755429003757,
          -0.8019401954666263,
          -2.2159452332630716,
          -1.1962219489422727,
          -1.1914425893168923,
          -0.8017746613729086,
          -1.6604925752836863,
          -1.6605320449749705,
          -1.1962641107227123,
          -0.8017737914391505,
          -1.3137973055203565,
          -1.2756579441071754,
          -2.612550506653771,
          -2.114445481137828,
          -2.2558370184324974,
          -1.1951602336104246,
          -2.225489131968453,
          -1.3093530341707103,
          -1.1962712117181835,
          -1.1961651620585199,
          -0.8018564512202385,
          -2.0115497606789865,
          -2.256117892193702,
          -1.1962680657197717,
          -2.2807809009965743,
          -2.0648939411579406,
          -2.1391739500629927,
          -0.8017917789042778,
          -2.2557735346688466,
          -0.6064109122125717,
          -2.1533953018111447,
          -2.204392476847345,
          -2.139073114452211,
          -2.2560041349386264,
          -2.1083129922748753,
          -2.3058782980261383,
          -2.2412463166530014,
          -2.2558811560775776,
          -1.2006419184424497,
          -2.2373380089287984,
          -0.8017747441809248,
          -1.1962697976468963,
          -2.216442593287576,
          -2.2452964251990872,
          -0.5653779623801506,
          -2.129817959840169,
          -1.3135681500865228,
          -0.8017762648425778,
          -1.2006709592868299,
          -2.0657243930332196,
          -2.139097984914226,
          -1.3137986968090862,
          -2.2579481256191927,
          -2.162095758749188,
          -2.1620581251446955,
          -0.142859951785459,
          -2.1180126221687026,
          -1.1962905871867338,
          -2.0649853703138126,
          -2.0649017475869202,
          -1.4449395625576589,
          -1.313798248943662,
          -0.34597126762592273,
          -1.3138221404988215,
          -1.2338052293070907,
          -1.6601341427522585,
          -2.1647256380737745,
          -1.1962602424941522,
          -1.3138042763882862,
          -1.2008214546529898,
          -1.150817435515533,
          -1.196261453541813,
          -1.196297367457147,
          -1.8201087401457563,
          -2.1091685114608505,
          -2.0091797882845572,
          -2.2558272388292058,
          -2.064906766464172
         ],
         "z": [
          0.20815072959419265,
          0.3764932216770494,
          -0.011891654580093324,
          0.424773624613816,
          0.3764712939731595,
          0.4271768400788589,
          0.3190964780016218,
          -0.01186699241225667,
          0.003418086993813078,
          -0.011873199157617975,
          0.3240758679237961,
          -0.04858211044812841,
          0.20808694509301887,
          -0.011928974610235238,
          -0.011875063855914752,
          0.09773487229534286,
          0.24397802494988646,
          -0.011878596394698137,
          -0.011867464828634176,
          -0.011865894417406937,
          0.0034202805570449422,
          0.3180494764772544,
          0.20004083420174937,
          -0.017234641850317804,
          -0.01187192020136677,
          -0.011963002546565484,
          -0.011872511983040153,
          -0.011864553413083638,
          0.23013675448613402,
          -0.012286674568623458,
          -0.011891172891626325,
          -0.01188357261530124,
          -0.050009510326938546,
          0.20814970051263743,
          -0.011937773647815734,
          -0.011871309038234239,
          -0.011863595615109064,
          -0.011879539263351578,
          0.4004576929965432,
          -0.011865952247255082,
          -0.014067443581365842,
          0.20815176798350635,
          -0.012004257921846053,
          -0.01186547453456181,
          -0.011894893197400686,
          -0.011876332093351386,
          0.20789032976593988,
          0.2081399080033453,
          0.20814709167415604,
          0.20815018061010065,
          0.2081584825025114,
          0.0034232350529505755,
          -0.01187284055471402,
          0.2801756072814474,
          -0.011927411572204555,
          0.20814151312488777,
          0.30937586833097575,
          0.3837129772344332,
          -0.011895351882266706,
          -0.012158818776636906,
          -0.011923770396460202,
          -0.011863417631324834,
          -0.011927960895212024,
          -0.01221664876129959,
          0.45791542952474673,
          0.3247953393287994,
          0.25727040774726995,
          -0.011866729431763734,
          -0.014319696593003375,
          0.4483074666597582,
          -0.011863367968480818,
          0.2081525079507109,
          -0.0206603970444763,
          0.0034099863916491483,
          0.4544500291062754,
          0.20814863187884217,
          0.003416457237943319,
          -0.01189380866991176,
          -0.011911620325734146,
          0.37652323371426955,
          0.35301085118362735,
          0.0034169340946003965,
          0.2081497304110298,
          -0.011951529151718189,
          0.5270013035506224,
          -0.01189386651399148,
          0.1990156708614946,
          0.003400915201145143,
          0.3802659140761459,
          -0.011879412415960765,
          0.3554401754599694,
          -0.011867157950539622,
          0.0034167938795657367,
          -0.01186336669267744,
          0.0034207889713809177,
          0.5866396755861517,
          0.38691334351750895,
          0.20815560884907736,
          0.3243763477511973,
          -0.011920257120414541,
          0.2081545908902636,
          -0.011869594379866144,
          0.4820986865179435,
          0.3765172318418575,
          0.42717741593782255,
          -0.012883213373261225,
          0.0031076584527045853,
          0.003381855798070837,
          0.3869145190406631,
          -0.011863657626539896,
          0.3869114097511663,
          0.45445922559644164,
          -0.006313365154789401,
          0.4247579625217795,
          -0.011864442237520333,
          0.003318117036278897,
          0.4271773727248717,
          -0.011905161895700464,
          0.45445274887788034,
          0.4273433369763191,
          -0.012266455838055202,
          0.021611507956091527,
          -0.011873102227691657,
          0.20749067484901512,
          -0.011874441748583448,
          0.42474671538811837,
          0.37988681046817163,
          0.3637062873872698,
          0.40535376585832894,
          0.38613673699526757,
          0.0034026302669275814,
          -0.011870851599960219,
          -0.011871960587089161,
          0.003409415517023469,
          0.0034209671117746295,
          0.3869070730798367,
          0.332873056994177,
          -0.08405139571978544,
          0.12281812218317226,
          0.003278585470453931,
          0.2081507073296821,
          -0.012867300284444006,
          -0.058402458189916656,
          -0.011868177614121095,
          -0.01187681947270331,
          -0.011883293756555663,
          -0.011883641905087484,
          0.3869054341119259,
          0.42347715941945413,
          0.002371904254422847,
          0.2302328542486664,
          0.4271736445350722,
          0.3802446314206754,
          -0.011905209602226142,
          0.003333138769093114,
          0.23023041406499792,
          0.37649734023425974,
          0.23023185297628068,
          0.32459664677381134,
          0.37251396481330507,
          0.38691418569682196,
          0.37540252550252573,
          0.0033448979401980604,
          0.4245400514451078,
          -0.013631308308647304,
          0.1467413100600298,
          0.003420358352994937,
          0.23023222991112166,
          0.230091415906881,
          -0.011884028735035782,
          0.0034186695679397873,
          0.20815008075164593,
          0.05694430989837274,
          0.2740008878761245,
          0.5399607397865132,
          0.38684113001603504,
          -0.016073679462788714,
          0.3802261487732973,
          0.2798855950184936,
          -0.011870982423385242,
          -0.018339107597140764,
          0.0033070531407066984,
          0.375826138528844,
          0.38679517226963783,
          -0.011866439792073653,
          0.4257421273725581,
          0.42715133572726177,
          0.4820656115469221,
          0.00340371641016327,
          0.3869098735359744,
          0.021610551600626537,
          0.45445662046122093,
          0.4381907328619693,
          0.48209991816667247,
          0.38685944450728194,
          0.4928318290289353,
          0.3558836479812297,
          0.4496378496473397,
          0.3866389515532874,
          0.20365968122139735,
          0.5543895251646848,
          0.003419994977092017,
          -0.011865681922688248,
          0.42460681291770735,
          0.4574618879515257,
          0.2021631499950144,
          0.44281489124797196,
          0.20727435160250668,
          0.0034196050510686927,
          0.20365170014082515,
          0.42507626779317614,
          0.4820907262826669,
          0.20815070833039423,
          0.3855366117234269,
          0.5172541750097137,
          0.5172571709511806,
          0.157027600984607,
          0.24332432388337732,
          -0.011886064697201265,
          0.42714450732316805,
          0.42717011251719555,
          0.25725871048987314,
          0.2081354337221657,
          -0.08754635114815539,
          0.20811497117817251,
          -0.0212617478147982,
          0.2286096164756005,
          0.5165877825209635,
          -0.01221263727261288,
          0.20814707490349524,
          -0.0262718878472447,
          0.2439682879262883,
          -0.01186522952248002,
          -0.011903188159199966,
          0.32481517707328106,
          0.4957921422689758,
          0.37651795504762386,
          0.3864639542087519,
          0.42717686823507406
         ],
         "type": "scatter3d"
        },
        {
         "customdata": [
          [
           "Proof-of-BibleHash"
          ],
          [
           "SHA-256 + Hive"
          ],
          [
           "Proof-of-Authority"
          ],
          [
           "ECC 256K1"
          ],
          [
           "Leased POS"
          ]
         ],
         "hovertemplate": "<b>%{hovertext}</b><br><br>Class=%{marker.color}<br>PC 1=%{x}<br>PC 2=%{y}<br>PC 3=%{z}<br>Algorithm=%{customdata[0]}<extra></extra>",
         "hovertext": [
          "BiblePay",
          "LitecoinCash",
          "Poa Network",
          "Acute Angle Cloud",
          "Waves"
         ],
         "legendgroup": "1",
         "marker": {
          "color": [
           1,
           1,
           1,
           1,
           1
          ],
          "coloraxis": "coloraxis",
          "symbol": "square"
         },
         "mode": "markers",
         "name": "1",
         "scene": "scene",
         "showlegend": true,
         "x": [
          -0.19631204142439218,
          -0.3218516884688785,
          -0.44796540791001677,
          -0.3332594816817248,
          -0.4536540830709322
         ],
         "y": [
          2.7494604711858783,
          3.525143346046399,
          2.2884031548592807,
          3.5410209451882433,
          3.3778273725004957
         ],
         "z": [
          12.48007337656205,
          18.114243163633276,
          14.309260873682382,
          12.56933392665049,
          11.348298791102403
         ],
         "type": "scatter3d"
        },
        {
         "customdata": [
          [
           "TRC10"
          ]
         ],
         "hovertemplate": "<b>%{hovertext}</b><br><br>Class=%{marker.color}<br>PC 1=%{x}<br>PC 2=%{y}<br>PC 3=%{z}<br>Algorithm=%{customdata[0]}<extra></extra>",
         "hovertext": [
          "BitTorrent"
         ],
         "legendgroup": "2",
         "marker": {
          "color": [
           2
          ],
          "coloraxis": "coloraxis",
          "symbol": "x"
         },
         "mode": "markers",
         "name": "2",
         "scene": "scene",
         "showlegend": true,
         "x": [
          34.03166898681541
         ],
         "y": [
          1.843643175681767
         ],
         "z": [
          -0.8164122936042116
         ],
         "type": "scatter3d"
        }
       ],
       "layout": {
        "template": {
         "data": {
          "histogram2dcontour": [
           {
            "type": "histogram2dcontour",
            "colorbar": {
             "outlinewidth": 0,
             "ticks": ""
            },
            "colorscale": [
             [
              0.0,
              "#0d0887"
             ],
             [
              0.1111111111111111,
              "#46039f"
             ],
             [
              0.2222222222222222,
              "#7201a8"
             ],
             [
              0.3333333333333333,
              "#9c179e"
             ],
             [
              0.4444444444444444,
              "#bd3786"
             ],
             [
              0.5555555555555556,
              "#d8576b"
             ],
             [
              0.6666666666666666,
              "#ed7953"
             ],
             [
              0.7777777777777778,
              "#fb9f3a"
             ],
             [
              0.8888888888888888,
              "#fdca26"
             ],
             [
              1.0,
              "#f0f921"
             ]
            ]
           }
          ],
          "choropleth": [
           {
            "type": "choropleth",
            "colorbar": {
             "outlinewidth": 0,
             "ticks": ""
            }
           }
          ],
          "histogram2d": [
           {
            "type": "histogram2d",
            "colorbar": {
             "outlinewidth": 0,
             "ticks": ""
            },
            "colorscale": [
             [
              0.0,
              "#0d0887"
             ],
             [
              0.1111111111111111,
              "#46039f"
             ],
             [
              0.2222222222222222,
              "#7201a8"
             ],
             [
              0.3333333333333333,
              "#9c179e"
             ],
             [
              0.4444444444444444,
              "#bd3786"
             ],
             [
              0.5555555555555556,
              "#d8576b"
             ],
             [
              0.6666666666666666,
              "#ed7953"
             ],
             [
              0.7777777777777778,
              "#fb9f3a"
             ],
             [
              0.8888888888888888,
              "#fdca26"
             ],
             [
              1.0,
              "#f0f921"
             ]
            ]
           }
          ],
          "heatmap": [
           {
            "type": "heatmap",
            "colorbar": {
             "outlinewidth": 0,
             "ticks": ""
            },
            "colorscale": [
             [
              0.0,
              "#0d0887"
             ],
             [
              0.1111111111111111,
              "#46039f"
             ],
             [
              0.2222222222222222,
              "#7201a8"
             ],
             [
              0.3333333333333333,
              "#9c179e"
             ],
             [
              0.4444444444444444,
              "#bd3786"
             ],
             [
              0.5555555555555556,
              "#d8576b"
             ],
             [
              0.6666666666666666,
              "#ed7953"
             ],
             [
              0.7777777777777778,
              "#fb9f3a"
             ],
             [
              0.8888888888888888,
              "#fdca26"
             ],
             [
              1.0,
              "#f0f921"
             ]
            ]
           }
          ],
          "heatmapgl": [
           {
            "type": "heatmapgl",
            "colorbar": {
             "outlinewidth": 0,
             "ticks": ""
            },
            "colorscale": [
             [
              0.0,
              "#0d0887"
             ],
             [
              0.1111111111111111,
              "#46039f"
             ],
             [
              0.2222222222222222,
              "#7201a8"
             ],
             [
              0.3333333333333333,
              "#9c179e"
             ],
             [
              0.4444444444444444,
              "#bd3786"
             ],
             [
              0.5555555555555556,
              "#d8576b"
             ],
             [
              0.6666666666666666,
              "#ed7953"
             ],
             [
              0.7777777777777778,
              "#fb9f3a"
             ],
             [
              0.8888888888888888,
              "#fdca26"
             ],
             [
              1.0,
              "#f0f921"
             ]
            ]
           }
          ],
          "contourcarpet": [
           {
            "type": "contourcarpet",
            "colorbar": {
             "outlinewidth": 0,
             "ticks": ""
            }
           }
          ],
          "contour": [
           {
            "type": "contour",
            "colorbar": {
             "outlinewidth": 0,
             "ticks": ""
            },
            "colorscale": [
             [
              0.0,
              "#0d0887"
             ],
             [
              0.1111111111111111,
              "#46039f"
             ],
             [
              0.2222222222222222,
              "#7201a8"
             ],
             [
              0.3333333333333333,
              "#9c179e"
             ],
             [
              0.4444444444444444,
              "#bd3786"
             ],
             [
              0.5555555555555556,
              "#d8576b"
             ],
             [
              0.6666666666666666,
              "#ed7953"
             ],
             [
              0.7777777777777778,
              "#fb9f3a"
             ],
             [
              0.8888888888888888,
              "#fdca26"
             ],
             [
              1.0,
              "#f0f921"
             ]
            ]
           }
          ],
          "surface": [
           {
            "type": "surface",
            "colorbar": {
             "outlinewidth": 0,
             "ticks": ""
            },
            "colorscale": [
             [
              0.0,
              "#0d0887"
             ],
             [
              0.1111111111111111,
              "#46039f"
             ],
             [
              0.2222222222222222,
              "#7201a8"
             ],
             [
              0.3333333333333333,
              "#9c179e"
             ],
             [
              0.4444444444444444,
              "#bd3786"
             ],
             [
              0.5555555555555556,
              "#d8576b"
             ],
             [
              0.6666666666666666,
              "#ed7953"
             ],
             [
              0.7777777777777778,
              "#fb9f3a"
             ],
             [
              0.8888888888888888,
              "#fdca26"
             ],
             [
              1.0,
              "#f0f921"
             ]
            ]
           }
          ],
          "mesh3d": [
           {
            "type": "mesh3d",
            "colorbar": {
             "outlinewidth": 0,
             "ticks": ""
            }
           }
          ],
          "scatter": [
           {
            "fillpattern": {
             "fillmode": "overlay",
             "size": 10,
             "solidity": 0.2
            },
            "type": "scatter"
           }
          ],
          "parcoords": [
           {
            "type": "parcoords",
            "line": {
             "colorbar": {
              "outlinewidth": 0,
              "ticks": ""
             }
            }
           }
          ],
          "scatterpolargl": [
           {
            "type": "scatterpolargl",
            "marker": {
             "colorbar": {
              "outlinewidth": 0,
              "ticks": ""
             }
            }
           }
          ],
          "bar": [
           {
            "error_x": {
             "color": "#2a3f5f"
            },
            "error_y": {
             "color": "#2a3f5f"
            },
            "marker": {
             "line": {
              "color": "#E5ECF6",
              "width": 0.5
             },
             "pattern": {
              "fillmode": "overlay",
              "size": 10,
              "solidity": 0.2
             }
            },
            "type": "bar"
           }
          ],
          "scattergeo": [
           {
            "type": "scattergeo",
            "marker": {
             "colorbar": {
              "outlinewidth": 0,
              "ticks": ""
             }
            }
           }
          ],
          "scatterpolar": [
           {
            "type": "scatterpolar",
            "marker": {
             "colorbar": {
              "outlinewidth": 0,
              "ticks": ""
             }
            }
           }
          ],
          "histogram": [
           {
            "marker": {
             "pattern": {
              "fillmode": "overlay",
              "size": 10,
              "solidity": 0.2
             }
            },
            "type": "histogram"
           }
          ],
          "scattergl": [
           {
            "type": "scattergl",
            "marker": {
             "colorbar": {
              "outlinewidth": 0,
              "ticks": ""
             }
            }
           }
          ],
          "scatter3d": [
           {
            "type": "scatter3d",
            "line": {
             "colorbar": {
              "outlinewidth": 0,
              "ticks": ""
             }
            },
            "marker": {
             "colorbar": {
              "outlinewidth": 0,
              "ticks": ""
             }
            }
           }
          ],
          "scattermapbox": [
           {
            "type": "scattermapbox",
            "marker": {
             "colorbar": {
              "outlinewidth": 0,
              "ticks": ""
             }
            }
           }
          ],
          "scatterternary": [
           {
            "type": "scatterternary",
            "marker": {
             "colorbar": {
              "outlinewidth": 0,
              "ticks": ""
             }
            }
           }
          ],
          "scattercarpet": [
           {
            "type": "scattercarpet",
            "marker": {
             "colorbar": {
              "outlinewidth": 0,
              "ticks": ""
             }
            }
           }
          ],
          "carpet": [
           {
            "aaxis": {
             "endlinecolor": "#2a3f5f",
             "gridcolor": "white",
             "linecolor": "white",
             "minorgridcolor": "white",
             "startlinecolor": "#2a3f5f"
            },
            "baxis": {
             "endlinecolor": "#2a3f5f",
             "gridcolor": "white",
             "linecolor": "white",
             "minorgridcolor": "white",
             "startlinecolor": "#2a3f5f"
            },
            "type": "carpet"
           }
          ],
          "table": [
           {
            "cells": {
             "fill": {
              "color": "#EBF0F8"
             },
             "line": {
              "color": "white"
             }
            },
            "header": {
             "fill": {
              "color": "#C8D4E3"
             },
             "line": {
              "color": "white"
             }
            },
            "type": "table"
           }
          ],
          "barpolar": [
           {
            "marker": {
             "line": {
              "color": "#E5ECF6",
              "width": 0.5
             },
             "pattern": {
              "fillmode": "overlay",
              "size": 10,
              "solidity": 0.2
             }
            },
            "type": "barpolar"
           }
          ],
          "pie": [
           {
            "automargin": true,
            "type": "pie"
           }
          ]
         },
         "layout": {
          "autotypenumbers": "strict",
          "colorway": [
           "#636efa",
           "#EF553B",
           "#00cc96",
           "#ab63fa",
           "#FFA15A",
           "#19d3f3",
           "#FF6692",
           "#B6E880",
           "#FF97FF",
           "#FECB52"
          ],
          "font": {
           "color": "#2a3f5f"
          },
          "hovermode": "closest",
          "hoverlabel": {
           "align": "left"
          },
          "paper_bgcolor": "white",
          "plot_bgcolor": "#E5ECF6",
          "polar": {
           "bgcolor": "#E5ECF6",
           "angularaxis": {
            "gridcolor": "white",
            "linecolor": "white",
            "ticks": ""
           },
           "radialaxis": {
            "gridcolor": "white",
            "linecolor": "white",
            "ticks": ""
           }
          },
          "ternary": {
           "bgcolor": "#E5ECF6",
           "aaxis": {
            "gridcolor": "white",
            "linecolor": "white",
            "ticks": ""
           },
           "baxis": {
            "gridcolor": "white",
            "linecolor": "white",
            "ticks": ""
           },
           "caxis": {
            "gridcolor": "white",
            "linecolor": "white",
            "ticks": ""
           }
          },
          "coloraxis": {
           "colorbar": {
            "outlinewidth": 0,
            "ticks": ""
           }
          },
          "colorscale": {
           "sequential": [
            [
             0.0,
             "#0d0887"
            ],
            [
             0.1111111111111111,
             "#46039f"
            ],
            [
             0.2222222222222222,
             "#7201a8"
            ],
            [
             0.3333333333333333,
             "#9c179e"
            ],
            [
             0.4444444444444444,
             "#bd3786"
            ],
            [
             0.5555555555555556,
             "#d8576b"
            ],
            [
             0.6666666666666666,
             "#ed7953"
            ],
            [
             0.7777777777777778,
             "#fb9f3a"
            ],
            [
             0.8888888888888888,
             "#fdca26"
            ],
            [
             1.0,
             "#f0f921"
            ]
           ],
           "sequentialminus": [
            [
             0.0,
             "#0d0887"
            ],
            [
             0.1111111111111111,
             "#46039f"
            ],
            [
             0.2222222222222222,
             "#7201a8"
            ],
            [
             0.3333333333333333,
             "#9c179e"
            ],
            [
             0.4444444444444444,
             "#bd3786"
            ],
            [
             0.5555555555555556,
             "#d8576b"
            ],
            [
             0.6666666666666666,
             "#ed7953"
            ],
            [
             0.7777777777777778,
             "#fb9f3a"
            ],
            [
             0.8888888888888888,
             "#fdca26"
            ],
            [
             1.0,
             "#f0f921"
            ]
           ],
           "diverging": [
            [
             0,
             "#8e0152"
            ],
            [
             0.1,
             "#c51b7d"
            ],
            [
             0.2,
             "#de77ae"
            ],
            [
             0.3,
             "#f1b6da"
            ],
            [
             0.4,
             "#fde0ef"
            ],
            [
             0.5,
             "#f7f7f7"
            ],
            [
             0.6,
             "#e6f5d0"
            ],
            [
             0.7,
             "#b8e186"
            ],
            [
             0.8,
             "#7fbc41"
            ],
            [
             0.9,
             "#4d9221"
            ],
            [
             1,
             "#276419"
            ]
           ]
          },
          "xaxis": {
           "gridcolor": "white",
           "linecolor": "white",
           "ticks": "",
           "title": {
            "standoff": 15
           },
           "zerolinecolor": "white",
           "automargin": true,
           "zerolinewidth": 2
          },
          "yaxis": {
           "gridcolor": "white",
           "linecolor": "white",
           "ticks": "",
           "title": {
            "standoff": 15
           },
           "zerolinecolor": "white",
           "automargin": true,
           "zerolinewidth": 2
          },
          "scene": {
           "xaxis": {
            "backgroundcolor": "#E5ECF6",
            "gridcolor": "white",
            "linecolor": "white",
            "showbackground": true,
            "ticks": "",
            "zerolinecolor": "white",
            "gridwidth": 2
           },
           "yaxis": {
            "backgroundcolor": "#E5ECF6",
            "gridcolor": "white",
            "linecolor": "white",
            "showbackground": true,
            "ticks": "",
            "zerolinecolor": "white",
            "gridwidth": 2
           },
           "zaxis": {
            "backgroundcolor": "#E5ECF6",
            "gridcolor": "white",
            "linecolor": "white",
            "showbackground": true,
            "ticks": "",
            "zerolinecolor": "white",
            "gridwidth": 2
           }
          },
          "shapedefaults": {
           "line": {
            "color": "#2a3f5f"
           }
          },
          "annotationdefaults": {
           "arrowcolor": "#2a3f5f",
           "arrowhead": 0,
           "arrowwidth": 1
          },
          "geo": {
           "bgcolor": "white",
           "landcolor": "#E5ECF6",
           "subunitcolor": "white",
           "showland": true,
           "showlakes": true,
           "lakecolor": "white"
          },
          "title": {
           "x": 0.05
          },
          "mapbox": {
           "style": "light"
          }
         }
        },
        "scene": {
         "domain": {
          "x": [
           0.0,
           1.0
          ],
          "y": [
           0.0,
           1.0
          ]
         },
         "xaxis": {
          "title": {
           "text": "PC 1"
          }
         },
         "yaxis": {
          "title": {
           "text": "PC 2"
          }
         },
         "zaxis": {
          "title": {
           "text": "PC 3"
          }
         }
        },
        "coloraxis": {
         "colorbar": {
          "title": {
           "text": "Class"
          }
         },
         "colorscale": [
          [
           0.0,
           "#0d0887"
          ],
          [
           0.1111111111111111,
           "#46039f"
          ],
          [
           0.2222222222222222,
           "#7201a8"
          ],
          [
           0.3333333333333333,
           "#9c179e"
          ],
          [
           0.4444444444444444,
           "#bd3786"
          ],
          [
           0.5555555555555556,
           "#d8576b"
          ],
          [
           0.6666666666666666,
           "#ed7953"
          ],
          [
           0.7777777777777778,
           "#fb9f3a"
          ],
          [
           0.8888888888888888,
           "#fdca26"
          ],
          [
           1.0,
           "#f0f921"
          ]
         ]
        },
        "legend": {
         "title": {
          "text": "Class"
         },
         "tracegroupgap": 0,
         "x": 0,
         "y": 1
        },
        "margin": {
         "t": 60
        },
        "width": 800
       },
       "config": {
        "plotlyServerURL": "https://plot.ly"
       }
      },
      "text/html": "<div>                            <div id=\"85a50b5c-21c9-48b7-91a8-fc4e92325151\" class=\"plotly-graph-div\" style=\"height:525px; width:800px;\"></div>            <script type=\"text/javascript\">                require([\"plotly\"], function(Plotly) {                    window.PLOTLYENV=window.PLOTLYENV || {};                                    if (document.getElementById(\"85a50b5c-21c9-48b7-91a8-fc4e92325151\")) {                    Plotly.newPlot(                        \"85a50b5c-21c9-48b7-91a8-fc4e92325151\",                        [{\"customdata\":[[\"Scrypt\"],[\"Scrypt\"],[\"X13\"],[\"X11\"],[\"SHA-512\"],[\"SHA-256\"],[\"SHA-256\"],[\"X15\"],[\"Scrypt\"],[\"Scrypt\"],[\"Scrypt\"],[\"Scrypt\"],[\"Scrypt\"],[\"Scrypt\"],[\"Groestl\"],[\"PoS\"],[\"Scrypt\"],[\"Scrypt\"],[\"X11\"],[\"X11\"],[\"SHA3\"],[\"Scrypt\"],[\"SHA-256\"],[\"Scrypt\"],[\"X13\"],[\"X13\"],[\"NeoScrypt\"],[\"Scrypt\"],[\"Scrypt\"],[\"Scrypt\"],[\"X11\"],[\"X11\"],[\"Multiple\"],[\"PHI1612\"],[\"X11\"],[\"Scrypt\"],[\"Scrypt\"],[\"Scrypt\"],[\"X11\"],[\"Multiple\"],[\"X13\"],[\"Scrypt\"],[\"Shabal256\"],[\"Counterparty\"],[\"SHA-256\"],[\"Groestl\"],[\"Scrypt\"],[\"X13\"],[\"Scrypt\"],[\"Scrypt\"],[\"X13\"],[\"X11\"],[\"Scrypt\"],[\"X11\"],[\"SHA3\"],[\"QUAIT\"],[\"X11\"],[\"Scrypt\"],[\"X13\"],[\"SHA-256\"],[\"X15\"],[\"BLAKE256\"],[\"SHA-256\"],[\"X11\"],[\"SHA-256\"],[\"NIST5\"],[\"Scrypt\"],[\"Scrypt\"],[\"X11\"],[\"Scrypt\"],[\"SHA-256\"],[\"Scrypt\"],[\"PoS\"],[\"X11\"],[\"SHA-256\"],[\"SHA-256\"],[\"NIST5\"],[\"X11\"],[\"POS 3.0\"],[\"Scrypt\"],[\"Scrypt\"],[\"Scrypt\"],[\"X13\"],[\"X11\"],[\"X11\"],[\"Scrypt\"],[\"SHA-256\"],[\"X11\"],[\"Scrypt\"],[\"Scrypt\"],[\"Scrypt\"],[\"Scrypt\"],[\"SHA-256D\"],[\"PoS\"],[\"Scrypt\"],[\"X11\"],[\"PoS\"],[\"X13\"],[\"X14\"],[\"PoS\"],[\"SHA-256D\"],[\"DPoS\"],[\"X11\"],[\"X13\"],[\"X11\"],[\"PoS\"],[\"Scrypt\"],[\"Scrypt\"],[\"PoS\"],[\"X11\"],[\"SHA-256\"],[\"Scrypt\"],[\"X11\"],[\"Scrypt\"],[\"Scrypt\"],[\"X11\"],[\"Scrypt\"],[\"Scrypt\"],[\"Scrypt\"],[\"Scrypt\"],[\"Quark\"],[\"QuBit\"],[\"Scrypt\"],[\"SHA-256\"],[\"X11\"],[\"Scrypt\"],[\"Scrypt\"],[\"Scrypt\"],[\"Scrypt\"],[\"X13\"],[\"Scrypt\"],[\"Scrypt\"],[\"X11\"],[\"Blake2S\"],[\"X11\"],[\"PoS\"],[\"X11\"],[\"PoS\"],[\"X11\"],[\"Scrypt\"],[\"Scrypt\"],[\"Scrypt\"],[\"SHA-256\"],[\"X11\"],[\"Scrypt\"],[\"PoS\"],[\"Scrypt\"],[\"X15\"],[\"SHA-256\"],[\"POS 3.0\"],[\"536\"],[\"NIST5\"],[\"NIST5\"],[\"Skein\"],[\"X13\"],[\"Scrypt\"],[\"X13\"],[\"SkunkHash v2 Raptor\"],[\"Skein\"],[\"X11\"],[\"Scrypt\"],[\"VeChainThor Authority\"],[\"PoS\"],[\"Scrypt\"],[\"Scrypt\"],[\"SHA-512\"],[\"Ouroboros\"],[\"X11\"],[\"NeoScrypt\"],[\"Scrypt\"],[\"Lyra2REv2\"],[\"Scrypt\"],[\"SHA-256\"],[\"NIST5\"],[\"PHI1612\"],[\"Scrypt\"],[\"Quark\"],[\"POS 2.0\"],[\"Scrypt\"],[\"SHA-256\"],[\"X11\"],[\"DPoS\"],[\"NIST5\"],[\"X13\"],[\"Scrypt\"],[\"NIST5\"],[\"Quark\"],[\"Scrypt\"],[\"Scrypt\"],[\"X11\"],[\"Quark\"],[\"Scrypt\"],[\"Scrypt\"],[\"X11\"],[\"POS 3.0\"],[\"Ethash\"],[\"Scrypt\"],[\"Scrypt\"],[\"X13\"],[\"C11\"],[\"X11\"],[\"XEVAN\"],[\"Scrypt\"],[\"VBFT\"],[\"NIST5\"],[\"Scrypt\"],[\"Scrypt\"],[\"Scrypt\"],[\"Green Protocol\"],[\"PoS\"],[\"Scrypt\"],[\"Semux BFT consensus\"],[\"Quark\"],[\"PoS\"],[\"X16R\"],[\"Scrypt\"],[\"XEVAN\"],[\"Scrypt\"],[\"Scrypt\"],[\"Scrypt\"],[\"SHA-256D\"],[\"Scrypt\"],[\"X15\"],[\"Scrypt\"],[\"Quark\"],[\"SHA-256\"],[\"DPoS\"],[\"X16R\"],[\"Quark\"],[\"Quark\"],[\"Scrypt\"],[\"Lyra2REv2\"],[\"Quark\"],[\"Scrypt\"],[\"X11\"],[\"X11\"],[\"Scrypt\"],[\"PoS\"],[\"Keccak\"],[\"X11\"],[\"Scrypt\"],[\"SHA-512\"],[\"XEVAN\"],[\"XEVAN\"],[\"X11\"],[\"Quark\"],[\"Scrypt\"],[\"Quark\"],[\"Quark\"],[\"Scrypt\"],[\"X11\"],[\"Scrypt\"],[\"XEVAN\"],[\"SHA-256D\"],[\"X11\"],[\"X11\"],[\"DPoS\"],[\"Scrypt\"],[\"X11\"],[\"Scrypt\"],[\"Scrypt\"],[\"SHA-256\"],[\"Scrypt\"],[\"X11\"],[\"Scrypt\"],[\"SHA-256\"],[\"X11\"],[\"Scrypt\"],[\"Scrypt\"],[\"X11\"],[\"Scrypt\"],[\"PoS\"],[\"X11\"],[\"SHA-256\"],[\"DPoS\"],[\"Scrypt\"],[\"Scrypt\"],[\"NeoScrypt\"],[\"X13\"],[\"DPoS\"],[\"DPoS\"],[\"SHA-256\"],[\"PoS\"],[\"PoS\"],[\"SHA-256\"],[\"Scrypt\"],[\"Scrypt\"]],\"hovertemplate\":\"<b>%{hovertext}</b><br><br>Class=%{marker.color}<br>PC 1=%{x}<br>PC 2=%{y}<br>PC 3=%{z}<br>Algorithm=%{customdata[0]}<extra></extra>\",\"hovertext\":[\"42 Coin\",\"404Coin\",\"EliteCoin\",\"Dash\",\"Bitshares\",\"BitcoinDark\",\"PayCoin\",\"KoboCoin\",\"Aurora Coin\",\"BlueCoin\",\"EnergyCoin\",\"BitBar\",\"CryptoBullion\",\"CasinoCoin\",\"Diamond\",\"Exclusive Coin\",\"FlutterCoin\",\"HoboNickels\",\"HyperStake\",\"IOCoin\",\"MaxCoin\",\"MintCoin\",\"MazaCoin\",\"Nautilus Coin\",\"NavCoin\",\"OpalCoin\",\"Orbitcoin\",\"PotCoin\",\"PhoenixCoin\",\"Reddcoin\",\"SuperCoin\",\"SyncCoin\",\"TeslaCoin\",\"TittieCoin\",\"TorCoin\",\"UnitaryStatus Dollar\",\"UltraCoin\",\"VeriCoin\",\"X11 Coin\",\"Crypti\",\"StealthCoin\",\"ZCC Coin\",\"BurstCoin\",\"StorjCoin\",\"Neutron\",\"FairCoin\",\"RubyCoin\",\"Kore\",\"Dnotes\",\"8BIT Coin\",\"Sativa Coin\",\"Ucoin\",\"Vtorrent\",\"IslaCoin\",\"Nexus\",\"Droidz\",\"Squall Coin\",\"Diggits\",\"Paycon\",\"Emercoin\",\"EverGreenCoin\",\"Decred\",\"EDRCoin\",\"Hitcoin\",\"DubaiCoin\",\"PWR Coin\",\"BillaryCoin\",\"GPU Coin\",\"EuropeCoin\",\"ZeitCoin\",\"SwingCoin\",\"SafeExchangeCoin\",\"Nebuchadnezzar\",\"Ratecoin\",\"Revenu\",\"Clockcoin\",\"VIP Tokens\",\"BitSend\",\"Let it Ride\",\"PutinCoin\",\"iBankCoin\",\"Frankywillcoin\",\"MudraCoin\",\"Lutetium Coin\",\"GoldBlocks\",\"CarterCoin\",\"BitTokens\",\"MustangCoin\",\"ZoneCoin\",\"RootCoin\",\"BitCurrency\",\"Swiscoin\",\"BuzzCoin\",\"Opair\",\"PesoBit\",\"Halloween Coin\",\"CoffeeCoin\",\"RoyalCoin\",\"GanjaCoin V2\",\"TeamUP\",\"LanaCoin\",\"ARK\",\"InsaneCoin\",\"EmberCoin\",\"XenixCoin\",\"FreeCoin\",\"PLNCoin\",\"AquariusCoin\",\"Creatio\",\"Eternity\",\"Eurocoin\",\"BitcoinFast\",\"Stakenet\",\"BitConnect Coin\",\"MoneyCoin\",\"Enigma\",\"Russiacoin\",\"PandaCoin\",\"GameUnits\",\"GAKHcoin\",\"Allsafe\",\"LiteCreed\",\"Klingon Empire Darsek\",\"Internet of People\",\"KushCoin\",\"Printerium\",\"Impeach\",\"Zilbercoin\",\"FirstCoin\",\"FindCoin\",\"OpenChat\",\"RenosCoin\",\"VirtacoinPlus\",\"TajCoin\",\"Impact\",\"Atmos\",\"HappyCoin\",\"MacronCoin\",\"Condensate\",\"Independent Money System\",\"ArgusCoin\",\"LomoCoin\",\"ProCurrency\",\"GoldReserve\",\"GrowthCoin\",\"Phreak\",\"Degas Coin\",\"HTML5 Coin\",\"Ultimate Secure Cash\",\"QTUM\",\"Espers\",\"Denarius\",\"Virta Unique Coin\",\"Bitcoin Planet\",\"BritCoin\",\"Linda\",\"DeepOnion\",\"Signatum\",\"Cream\",\"Monoeci\",\"Draftcoin\",\"Vechain\",\"Stakecoin\",\"CoinonatX\",\"Ethereum Dark\",\"Obsidian\",\"Cardano\",\"Regalcoin\",\"TrezarCoin\",\"TerraNovaCoin\",\"Rupee\",\"WomenCoin\",\"Theresa May Coin\",\"NamoCoin\",\"LUXCoin\",\"Xios\",\"Bitcloud 2.0\",\"KekCoin\",\"BlackholeCoin\",\"Infinity Economics\",\"Magnet\",\"Lamden Tau\",\"Electra\",\"Bitcoin Diamond\",\"Cash & Back Coin\",\"Bulwark\",\"Kalkulus\",\"GermanCoin\",\"LiteCoin Ultra\",\"PhantomX\",\"Digiwage\",\"Trollcoin\",\"Litecoin Plus\",\"Monkey Project\",\"TokenPay\",\"1717 Masonic Commemorative Token\",\"My Big Coin\",\"Unified Society USDEX\",\"Tokyo Coin\",\"Stipend\",\"Pushi\",\"Ellerium\",\"Velox\",\"Ontology\",\"Bitspace\",\"Briacoin\",\"Ignition\",\"MedicCoin\",\"Bitcoin Green\",\"Deviant Coin\",\"Abjcoin\",\"Semux\",\"Carebit\",\"Zealium\",\"Proton\",\"iDealCash\",\"Bitcoin Incognito\",\"HollyWoodCoin\",\"Swisscoin\",\"Xt3ch\",\"TheVig\",\"EmaratCoin\",\"Dekado\",\"Lynx\",\"Poseidon Quark\",\"BitcoinWSpectrum\",\"Muse\",\"Trivechain\",\"Dystem\",\"Giant\",\"Peony Coin\",\"Absolute Coin\",\"Vitae\",\"TPCash\",\"ARENON\",\"EUNO\",\"MMOCoin\",\"Ketan\",\"XDNA\",\"PAXEX\",\"ThunderStake\",\"Kcash\",\"Bettex coin\",\"BitMoney\",\"Junson Ming Chan Coin\",\"HerbCoin\",\"Oduwa\",\"Galilel\",\"Crypto Sports\",\"Credit\",\"Dash Platinum\",\"Nasdacoin\",\"Beetle Coin\",\"Titan Coin\",\"Award\",\"Insane Coin\",\"ALAX\",\"LiteDoge\",\"TruckCoin\",\"OrangeCoin\",\"BitstarCoin\",\"NeosCoin\",\"HyperCoin\",\"PinkCoin\",\"AudioCoin\",\"IncaKoin\",\"Piggy Coin\",\"Genstake\",\"XiaoMiCoin\",\"CapriCoin\",\" ClubCoin\",\"Radium\",\"Creditbit \",\"OKCash\",\"Lisk\",\"HiCoin\",\"WhiteCoin\",\"FriendshipCoin\",\"Triangles Coin\",\"EOS\",\"Oxycoin\",\"TigerCash\",\"Particl\",\"Nxt\",\"ZEPHYR\",\"Gapcoin\",\"BitcoinPlus\"],\"legendgroup\":\"0\",\"marker\":{\"color\":[0,0,0,0,0,0,0,0,0,0,0,0,0,0,0,0,0,0,0,0,0,0,0,0,0,0,0,0,0,0,0,0,0,0,0,0,0,0,0,0,0,0,0,0,0,0,0,0,0,0,0,0,0,0,0,0,0,0,0,0,0,0,0,0,0,0,0,0,0,0,0,0,0,0,0,0,0,0,0,0,0,0,0,0,0,0,0,0,0,0,0,0,0,0,0,0,0,0,0,0,0,0,0,0,0,0,0,0,0,0,0,0,0,0,0,0,0,0,0,0,0,0,0,0,0,0,0,0,0,0,0,0,0,0,0,0,0,0,0,0,0,0,0,0,0,0,0,0,0,0,0,0,0,0,0,0,0,0,0,0,0,0,0,0,0,0,0,0,0,0,0,0,0,0,0,0,0,0,0,0,0,0,0,0,0,0,0,0,0,0,0,0,0,0,0,0,0,0,0,0,0,0,0,0,0,0,0,0,0,0,0,0,0,0,0,0,0,0,0,0,0,0,0,0,0,0,0,0,0,0,0,0,0,0,0,0,0,0,0,0,0,0,0,0,0,0,0,0,0,0,0,0,0,0,0,0,0,0,0,0,0,0,0,0,0,0,0,0,0,0,0,0,0,0,0,0,0,0,0,0,0,0,0,0,0,0,0],\"coloraxis\":\"coloraxis\",\"symbol\":\"circle\"},\"mode\":\"markers\",\"name\":\"0\",\"scene\":\"scene\",\"showlegend\":true,\"x\":[-0.3311088322239452,-0.314467014645377,2.303502015684517,-0.39196136947369,-0.2970590946638258,-0.30348452869710796,-0.27692188457828176,-0.21457222617226243,-0.3307688178921712,-0.32335591469350744,-0.3296073222346696,-0.3311047727975006,-0.3310890731561768,0.7300354162415799,-0.35350736393126436,-0.3623473471683442,-0.2676810235489357,-0.32916989953942133,-0.3452481494967927,-0.3918561999846713,-0.465372863090717,-0.04479863145449702,-0.26683394540534394,-0.3042975542445592,-0.2776329160458581,-0.27825433082936635,-0.3358436213414025,-0.32541770719832785,-0.32951246250226435,0.026575538551059402,-0.36510937416198297,-0.39222733196908727,-0.27357001867979663,-0.3699007990164711,-0.39213906881341026,-0.30637002662403273,-0.32978776109106384,-0.2635474819785588,-0.3921035972200647,-0.2740373164687133,-0.2780354739438969,-0.3222217449140813,0.18973633150968144,-0.3955461364567456,-0.30269717775334914,-0.35292967199066627,-0.30427786411985397,-0.27832960263819645,-0.2989379423654289,-0.3310909236485767,-0.27828185223812996,-0.36555361969434974,-0.3308256131214343,-0.3922088844435746,-0.5499271763417897,-0.37400887056006815,-0.3274835153486612,-0.3026812859990961,-0.27780403777257073,-0.29604923246363074,-0.21701106055555752,-0.059064831438638755,-0.3034554797750105,-0.0700472955489222,-0.30351911081260297,-0.23122199455605516,-0.33070161759236977,-0.3025503099002241,-0.38938110210347204,0.8475448784012378,-0.30331938298922045,0.00014019516328278036,-0.3620309940739872,-0.3900545175009542,-0.30206424681987903,-0.29973498739394844,-0.35242558453712997,-0.3909454752834175,-0.37389310375771556,-0.30702528435229726,-0.33073966302117414,-0.329180572182622,-0.2504626775674152,-0.3530593934354938,-0.39168338420499693,-0.32994483420839177,-0.30350007082793745,-0.3921980851751364,-0.33092861986622046,-0.33108516410821826,-0.3025402444200831,-0.2582379100041101,0.06728514596416743,-0.3609893207317186,-0.33069981356169326,-0.37837581522198416,-0.3603188697051208,-0.25189176119035234,-0.4474691767092115,-0.3600677259589402,-0.24685863839406524,3.748650519566727,-0.3917911065370604,0.8524407457112234,-0.39215305121959326,-0.36145251581863197,-0.3306274013906122,-0.3307815251121292,-0.3620309940739872,-0.39172841259925556,-0.30336292064385867,-0.3306281448555258,-0.36774036730417464,-0.330775355066281,-0.3263680601016961,-0.3921820063012099,-0.3299868867427868,0.33820276065687144,-0.33097439992685496,-0.3310448959726119,-0.3845585553433873,-0.3532271045404049,-0.3272757106829682,-0.3034765146354092,-0.39209206605071384,-0.3308229653932055,-0.33094975345323374,-0.30418440869393987,-0.2913806641193923,-0.25165989307784187,-0.31182622452195896,-0.303925901612226,-0.39135860907379405,-0.36771866437631173,-0.3900985750023828,-0.36027964693492254,-0.3912566246609917,-0.35468626007683196,-0.38720217527011846,-0.33089311350942385,-0.3308922931392154,-0.32402129915029626,0.25517751376746844,-0.39173458503898584,-0.28684568072095473,-0.36206522910248584,-0.330104680515777,0.9160544469818523,-0.2756136786273277,-0.37267291193902474,0.6302627997540734,-0.3539593964269718,-0.352463367241567,-0.4103206397854579,-0.27796731757032356,0.1333216190159455,-0.2780380166537148,-0.35238616709194415,-0.4098261573831392,-0.39200666853135524,-0.3042585740317509,4.349255584333044,-0.3619316255001829,-0.3305287337775775,-0.3310278460780571,-0.3550544763322319,0.5975649385497592,-0.3919475448725035,-0.33084863721053315,-0.33098350017905026,-0.33357500163431697,0.4371895136472852,-0.30182477459155077,-0.33874385650068783,-0.4319554453304755,-0.3309338942146453,-0.40950138854608054,-0.40867966212249507,-0.33080446856538903,-0.10361328319256445,-0.3907415592681186,3.7535009079591317,0.20486490002622793,-0.27471282449829365,-0.3282676824967748,-0.327223919326356,-0.38444459710648937,0.08288890712155315,-0.3299438914364894,-0.39132210324493594,-0.38361024585637027,-0.317524370962537,-0.3310499496253328,-0.365525583474691,-0.37417467341878946,-0.2816563934983575,-0.3566234351439286,-0.3266005400715388,-0.2434649059299846,-0.40181775179697843,-0.3920238675406212,-0.2746486394695689,-0.3034194649110572,-0.4010047084245004,-0.35355880682764484,-0.3310772709587877,-0.33105900220534157,-0.2978074844188258,-0.39045661618104627,-0.3615265600448642,-0.33077583629427004,3.974830639215811,-0.4081711182536593,-0.3617150004648022,-0.3273025412321251,-0.2777057050767767,-0.2100570562195096,-0.303953161020236,-0.1344262262129589,-0.3042048688181756,-0.3121018444083942,-0.33025045530905456,-0.1898562588116684,2.2496707923424912,-0.3801570327639365,-0.2757413974077544,1.0171670608756993,-0.3531391699983994,-0.3845579824229248,-0.4111836910196666,-0.185062239038939,-0.3600026215665024,-0.38327902776670497,-0.3239614669968194,-0.3651034777293997,-0.39149783784688247,-0.3014535283589347,-0.3608157432852063,-0.3281103892709925,-0.3649649620084638,-0.19071034825132524,-0.3343490039497153,-0.24814246895151268,0.6275087607881396,-0.15574677236541026,-0.41047914465092766,-0.33077981946517343,-0.41093473545471887,-0.3846748216336012,0.5746922663659806,-0.36557983110559716,-0.33026330084623023,-0.26911064531523404,-0.2668717064943936,-0.3890650064435442,-0.39172481575462575,3.765727756330974,0.10364975771152134,-0.3892676642506166,-0.32964938898771134,-0.3304735640739454,-0.2769544588655102,-0.33099132107515117,-0.38336260973483344,-0.2447876940007713,-0.08342484493048494,-0.379115603150341,-0.33027054102141146,-0.3233431235546221,-0.38829753384457205,-0.3287114950391431,-0.36230628965572587,-0.4298854847390329,-0.302001359611761,3.749041888449692,-0.11171790741643166,-0.3259096390009293,-0.3354698669293429,-0.2784366888601705,3.758896990360803,3.7601395307177956,-0.2578741511653353,-0.3622422389698738,-0.25903559300054374,2.4910365889378996,-0.3291562983995408,-0.30460089967681764],\"y\":[0.9666360929063333,0.9669527235904637,1.711049033483207,1.3611249876165274,1.596944351517839,0.8490908058559369,0.6082775387459353,1.973913329069594,0.9666386143730917,0.966949460052724,0.9666967828433111,0.9666359224089573,0.9666362223722405,0.42623023873409227,1.0120847051965483,1.547482225474163,0.09989455522052983,0.9666341580711281,1.1211345567978375,1.36112923848849,2.0773268869183292,0.736315269983058,0.8489679673634625,0.7258156901338695,1.8169596744224246,1.8169345573024243,0.5024098650043631,0.9665850561999585,0.9666350345289434,0.9810934272328005,1.1203317809764126,1.361128959538647,0.10196790949052002,1.5331696637370305,1.3611258356493328,0.9665652826588331,0.9666225687484007,0.1456619584724502,1.3611302808246795,0.10201594255549508,1.816943403333772,0.9663260934303615,1.041518716158616,1.4266379653694432,0.8490918463811228,1.012110986207043,0.725827313794206,1.8169234843653206,0.725708544973404,0.966636816785639,1.8169267528185489,1.1203004407265096,0.966634156260079,1.3611297058430178,2.3196089936599393,2.0180528651088268,1.1835742571586456,0.7258249253942147,1.8169192973646733,0.848736848640331,1.9740313774751896,0.9910819512836098,0.8490919799916056,1.3563837392132125,0.8490971039752612,1.5614507363384413,0.9666244454703358,0.7257492098494694,1.3609870264632795,0.706131443529214,0.8490854351612542,0.4220596621221886,1.54748162805093,1.3611665930722023,0.8490138856258799,0.8489057474220235,1.5564915492318012,1.361087751855549,1.5085912790981741,0.9662711140662982,0.9666213462153606,0.9666471108691891,1.5760307665535183,1.1203791619125714,1.361117485723211,0.9666229120598252,0.8490908468635682,1.3611281347146111,0.9666293235957096,0.9666370495819451,0.7258975470806889,-0.0810819642128997,2.031721915187828,1.5474875944256101,0.9666526251623405,1.3606850147648248,1.547537446725194,1.5761051727418747,1.8923687047541102,1.5473729341721483,2.027385554958835,1.5398388631424094,1.361126515845555,1.8620675776292728,1.3611293838994694,1.5474849334411747,0.9666297606964563,0.9666212156682515,1.54748162805093,1.361108973620098,0.849097059580174,0.9666334380635515,1.2421855777759578,0.9666308339816947,0.9663922840309738,1.361127446192819,0.9665850750464713,0.7300366270532842,0.966632826871277,0.9666364582342591,1.4638685067305583,0.7179751991300412,0.9664564203778673,0.8490917989872224,1.3611281677747462,0.9666342632792704,0.9666278447971909,0.7257942847021736,0.1208909949771718,1.5761064976224388,0.9667462725765418,0.7258185013858939,1.3610971524449427,1.9924666704215204,1.361141389988971,1.5474919932971987,1.3611012745785045,1.5475241973088412,1.3609974688193271,0.9666306167827867,0.9666257059070451,0.9662533567963153,0.5796022942660716,1.3611221083130105,0.7251934917571153,1.547473552207575,0.966606413058106,1.9596178329170613,0.6082048824314149,1.508596095944489,1.9256541112477579,1.5564830904175206,1.556469945815739,1.9593783648260104,1.8169260818958766,0.9519475780759042,1.8169306537237095,1.4978430217025087,1.9593983514342583,1.3611315169081817,0.7258164453075504,3.2946585406439066,1.54745780538679,0.9666272494104722,0.9666365556563395,1.5969485972216915,1.4815696400993965,1.3611222003519814,0.5023465978723614,0.9666306298750893,0.6128293329702336,0.9809599136053929,0.8491056935780547,1.556301732533197,1.774053756162682,0.9666291104104978,1.7046297992196582,1.4365024325690685,0.9666384986393632,0.6092680274504354,1.3610926479435428,1.5397839588642546,1.5590007744571992,1.8169371684629334,0.9666103962057091,1.3156585958163511,1.4638697667925429,0.9499091256440844,0.9665827976310498,1.3611320884289535,1.463836569753482,0.9665828786578408,0.966635796089301,1.120300904720589,1.5085855865391968,-0.08710637029844309,-0.11185928759525922,0.9666630582574218,1.5759120858914513,0.8872412525682166,1.3611204538647452,1.5975705428064826,0.725779027741655,1.5218818386182231,1.5564725135924071,0.966635360990387,0.9666347609818842,0.7257542372366945,1.5584285679834669,1.5474565106902465,0.9666294761129898,1.5641685949748927,1.704683567748272,1.5474542477409685,0.7214234041506922,0.9653669519060016,1.4200357857461816,0.7258230386184391,0.967759925585036,0.7258008190173465,2.0297046346759844,0.9666145743373912,1.7331930575017551,0.15159161891432024,1.463621465314584,0.6082665219029758,1.4818859860282452,0.962247247246663,1.4638645146340832,1.7046921965019246,0.7193496735587389,0.8536353426873149,1.4638633415188298,0.966255775167134,1.120295212815467,1.3611249853679992,0.7257674770117991,1.5474035978834968,1.0392546118914445,1.120270697115953,0.9602651340007228,1.8816741710294682,1.3567553276803044,1.4118388816669558,1.1287940604917002,1.704687983552024,0.9666353379964422,1.7046929671342308,1.4638648981447442,0.9531910678818816,1.1202995820435782,0.966614055130402,1.5974999324586043,2.028253679280899,1.3609757112920973,1.3611291952693179,1.539943554457812,0.9607863973987323,1.361248587759727,0.9665612407536376,0.9666254613185987,0.6082705338418708,0.9666408426470365,1.3611526611817548,0.9630984350626135,0.8578730263127164,1.3609897175485692,0.9666599379030912,0.9666822934949127,1.3611486042495884,0.9666259180809981,1.5474778621078271,1.0639808771146189,0.8490952100992551,1.5398313142748727,0.7269124409456973,0.966645477754859,0.5023872297362587,1.816927106222367,1.5403366689298952,1.540386891480244,0.608386590056676,1.5474806958253382,1.8043829295800056,0.6664462065228923,0.9665477106600423,0.7258135877300886],\"z\":[-0.5743747381856302,-0.5747690032048262,-0.6896266093718741,-0.5590930458721106,-0.1337031887895418,-0.3543555823768284,-0.06198575117021344,-0.5411300567169998,-0.5743822434134216,-0.5745815272359328,-0.5744147870895369,-0.5743747998359899,-0.5743751719550968,-0.15599694223639848,-0.31851094318952144,-0.1510765478600552,-0.21013652589572676,-0.5744152634257343,-0.26726184492659427,-0.5590958509965422,-0.5932039353761897,-0.28893211609273967,-0.3551095874386583,-0.28200914382103165,-0.6500789075651493,-0.6500623329311501,-0.33227624782779747,-0.5744873665026705,-0.5744081780874353,-0.58391504474515,-0.26673209806775033,-0.5590880035601408,0.054641623692164236,-0.2447885817401887,-0.55908942527971,-0.5748853714635916,-0.5744006486957105,-0.23911266293621097,-0.5590907910472325,0.05464476200000142,-0.6500681703731792,-0.5745185217500677,0.28597359952645407,-0.1353693624020771,-0.3543722931286283,-0.31852676009326075,-0.2820111778949732,-0.6500592061716882,-0.28210697824535336,-0.5743752158545277,-0.6500606663033219,-0.26671838383513485,-0.5743804271967465,-0.5590884956934833,-0.3737079937387177,-0.678491071524253,-0.23774917589111885,-0.28204443683830166,-0.6500696805084247,-0.3544626948046823,-0.5410951944370703,-0.39737745870017277,-0.35435635718178105,-0.5652053628139637,-0.354355732438386,-0.5441691640848269,-0.5743816828133921,-0.28203664133839657,-0.5591281089728278,-0.3035006770161582,-0.35435830859432693,-0.14005886731743591,-0.15108312063089185,-0.5591389636260226,-0.35437474580883965,-0.35440868366762457,-0.5409279783489425,-0.5591092312106353,-0.11708935402308492,-0.5748305915425745,-0.5743804504513146,-0.5744168438912433,-0.35770574512440184,-0.266992230630621,-0.5590978492280432,-0.5743973917414328,-0.35435526108717463,-0.5590885039664661,-0.5743775865013999,-0.5743753694753874,-0.28205752441153153,-0.28681163330544296,-0.6665984425047584,-0.15110586872338225,-0.574385647705709,-0.5593175722767794,-0.15112692200417982,-0.3576860461646738,-0.7607021545099397,-0.15110928064973064,-0.6593846157549518,-0.0018845265382325083,-0.5590968411438181,-0.6801414350277648,-0.5590896255525919,-0.15109575234788192,-0.5743839850064555,-0.5743795514867341,-0.15108312063089185,-0.5590957156466044,-0.3543590124705587,-0.5743844818176521,-0.32033259932235447,-0.574381021648254,-0.5744405077573674,-0.5590887463158208,-0.5743912342458396,-0.29611546031175157,-0.5743771114888278,-0.5743761343048849,-0.1723011211971421,-0.30525652737646697,-0.5744303485368687,-0.35435588938775564,-0.5590907392007007,-0.5743804978180568,-0.5743769357781611,-0.28200854146761783,-0.476074629797325,-0.35769110926315506,-0.5747957954009434,-0.2820173550966988,-0.5591018489389136,-0.44211225426183814,-0.5591345245272734,-0.1511214131561114,-0.5591045691096604,-0.1512435849528226,-0.559175408459081,-0.5743785137600719,-0.574377846673333,-0.5744705232897502,-0.06918505360713145,-0.5590974161434149,-0.28228962328369805,-0.15108127493460127,-0.574391729406106,-0.5629261540451443,-0.06200315073189769,-0.11711569792806881,-0.729950360999367,-0.5408945284019798,-0.5409241728968667,-0.7897976525913729,-0.6500671905723283,-0.5820993939388476,-0.6500663401734732,-0.08099347509300527,-0.7898108416320186,-0.5590930026653926,-0.28201006919514254,4.091007484312418,-0.15108189156230992,-0.5743857110026718,-0.5743765066083221,-0.1324835659193561,-0.21076361145107708,-0.5590929483249643,-0.3323725250887843,-0.5743766138619463,0.010050963919650288,-0.5925356983902365,-0.3543925780201081,-0.541189388345645,-0.5364215360524892,-0.5743774458217812,-0.4646977901535104,0.03696509863936173,-0.5743814772004754,-0.06577016728415244,-0.5591142038608771,-0.0019789269176739787,-0.5530029593772646,-0.650137209591178,-0.5744309346464506,-0.2485267689875272,-0.17230369445604013,-0.5807542316359475,-0.5743918214953534,-0.5591074854643269,-0.17231662296671654,-0.574653137718595,-0.5743759357046069,-0.2667190383723317,-0.11708263656032321,0.10638836060688671,-0.6034046959716656,-0.5744733497200161,-0.35783643868408,-0.505566754721394,-0.5590910991280319,-0.3603294752144876,-0.28202250966598835,-0.19815919176788124,-0.540901482833277,-0.5743753002351532,-0.5743756009938867,-0.28213713029067583,-0.12697362734724046,-0.15109023366111143,-0.5743808222996711,0.18183139312878774,-0.4647332716769666,-0.15108595355200144,-0.06648052354790858,-0.5753214732237186,-0.03899022402518636,-0.28201741384142065,-0.5786695219445439,-0.2820090215685423,-0.6583350796788231,-0.5743897996273164,-0.24873433094047942,-0.3275470961542277,-0.17235930254158185,-0.06200905321672056,-0.07910343937660211,-0.35886710381310905,-0.1723005769391068,-0.4646710900235921,-0.2836167764082902,-0.2823206968341642,-0.1723273224842907,-0.574472119157875,-0.26672712623044637,-0.5591027981978092,-0.28206226305602966,-0.15109781556462687,-0.4385226128003849,-0.2667266242353999,-0.5764408874215055,-0.08213422289980175,-0.06795818434873138,0.22793021314246023,-0.27231630460741774,-0.4646853264894017,-0.5743815553676899,-0.4646764354032487,-0.17229817210236226,-0.5915590536670653,-0.26671771269041455,-0.5743894570057975,-0.3604361540265237,-0.6590845197408013,-0.5591331827727107,-0.5590986092791852,-0.0022584182440227377,-0.5827068217133479,-0.5591669451438396,-0.5743950137606256,-0.57438662258866,-0.06198408965470827,-0.5743778724958623,-0.5592778189506761,-0.5756979379365426,-0.36020943884557793,-0.559344468612314,-0.5743956985937257,-0.5745445657926225,-0.5591734235069791,-0.5744237599201567,-0.1510768036543245,-0.6649734437716601,-0.3543874017882067,-0.0018917089231486202,-0.2862138279563106,-0.574485436276852,-0.3322809572656209,-0.6500574578109944,-0.0021694817429746814,-0.0022026232970425498,-0.062401709423406594,-0.15107854615973804,-0.1407989395871648,0.014435661419058011,-0.5744035028514877,-0.28200246849948013],\"type\":\"scatter3d\"},{\"customdata\":[[\"SHA-256\"],[\"Ethash\"],[\"Scrypt\"],[\"CryptoNight-V7\"],[\"Ethash\"],[\"Equihash\"],[\"Multiple\"],[\"Scrypt\"],[\"X11\"],[\"Scrypt\"],[\"Multiple\"],[\"Scrypt\"],[\"SHA-256\"],[\"Scrypt\"],[\"Scrypt\"],[\"Quark\"],[\"Groestl\"],[\"Scrypt\"],[\"Scrypt\"],[\"Scrypt\"],[\"X11\"],[\"Multiple\"],[\"SHA-256\"],[\"Scrypt\"],[\"Scrypt\"],[\"Scrypt\"],[\"Scrypt\"],[\"Scrypt\"],[\"NeoScrypt\"],[\"Scrypt\"],[\"Scrypt\"],[\"Scrypt\"],[\"Scrypt\"],[\"SHA-256\"],[\"Scrypt\"],[\"Scrypt\"],[\"Scrypt\"],[\"Scrypt\"],[\"HybridScryptHash256\"],[\"Scrypt\"],[\"Scrypt\"],[\"SHA-256\"],[\"Scrypt\"],[\"Scrypt\"],[\"Scrypt\"],[\"Scrypt\"],[\"SHA-256\"],[\"SHA-256\"],[\"SHA-256\"],[\"SHA-256\"],[\"SHA-256\"],[\"X11\"],[\"Scrypt\"],[\"Lyra2REv2\"],[\"Scrypt\"],[\"SHA-256\"],[\"CryptoNight\"],[\"CryptoNight\"],[\"Scrypt\"],[\"Scrypt\"],[\"Scrypt\"],[\"Scrypt\"],[\"Scrypt\"],[\"Scrypt\"],[\"Stanford Folding\"],[\"Multiple\"],[\"QuBit\"],[\"Scrypt\"],[\"Scrypt\"],[\"M7 POW\"],[\"Scrypt\"],[\"SHA-256\"],[\"Scrypt\"],[\"X11\"],[\"Lyra2RE\"],[\"SHA-256\"],[\"X11\"],[\"Scrypt\"],[\"Scrypt\"],[\"Ethash\"],[\"Blake2b\"],[\"X11\"],[\"SHA-256\"],[\"Scrypt\"],[\"1GB AES Pattern Search\"],[\"Scrypt\"],[\"SHA-256\"],[\"X11\"],[\"Dagger\"],[\"Scrypt\"],[\"X11GOST\"],[\"Scrypt\"],[\"X11\"],[\"Scrypt\"],[\"X11\"],[\"Equihash\"],[\"CryptoNight\"],[\"SHA-256\"],[\"Multiple\"],[\"Scrypt\"],[\"SHA-256\"],[\"Scrypt\"],[\"Lyra2Z\"],[\"Ethash\"],[\"Equihash\"],[\"Scrypt\"],[\"X11\"],[\"X11\"],[\"CryptoNight\"],[\"Scrypt\"],[\"CryptoNight\"],[\"Lyra2RE\"],[\"X11\"],[\"CryptoNight-V7\"],[\"Scrypt\"],[\"X11\"],[\"Equihash\"],[\"Scrypt\"],[\"Lyra2RE\"],[\"Dagger-Hashimoto\"],[\"Scrypt\"],[\"NIST5\"],[\"Scrypt\"],[\"SHA-256\"],[\"Scrypt\"],[\"CryptoNight-V7\"],[\"Argon2d\"],[\"Blake2b\"],[\"Cloverhash\"],[\"CryptoNight\"],[\"X11\"],[\"Scrypt\"],[\"Scrypt\"],[\"X11\"],[\"X11\"],[\"CryptoNight\"],[\"Time Travel\"],[\"Scrypt\"],[\"Keccak\"],[\"X11\"],[\"SHA-256\"],[\"Scrypt\"],[\"Scrypt\"],[\"Scrypt\"],[\"Scrypt\"],[\"Scrypt\"],[\"Scrypt\"],[\"CryptoNight\"],[\"Equihash\"],[\"X11\"],[\"NeoScrypt\"],[\"Equihash\"],[\"Dagger\"],[\"Scrypt\"],[\"X11\"],[\"NeoScrypt\"],[\"Ethash\"],[\"NeoScrypt\"],[\"Multiple\"],[\"CryptoNight\"],[\"CryptoNight\"],[\"Ethash\"],[\"X11\"],[\"CryptoNight-V7\"],[\"Scrypt\"],[\"BLAKE256\"],[\"X11\"],[\"NeoScrypt\"],[\"NeoScrypt\"],[\"Scrypt\"],[\"X11\"],[\"SHA-256\"],[\"C11\"],[\"CryptoNight\"],[\"SkunkHash\"],[\"CryptoNight\"],[\"Scrypt\"],[\"Dagger\"],[\"Lyra2REv2\"],[\"Scrypt\"],[\"Scrypt\"],[\"X11\"],[\"Ethash\"],[\"CryptoNight\"],[\"Scrypt\"],[\"IMesh\"],[\"Equihash\"],[\"Lyra2Z\"],[\"X11\"],[\"CryptoNight\"],[\"NIST5\"],[\"Lyra2RE\"],[\"Tribus\"],[\"Lyra2Z\"],[\"CryptoNight\"],[\"CryptoNight Heavy\"],[\"CryptoNight\"],[\"Jump Consistent Hash\"],[\"CryptoNight\"],[\"X16R\"],[\"HMQ1725\"],[\"X11\"],[\"Scrypt\"],[\"CryptoNight-V7\"],[\"Cryptonight-GPU\"],[\"XEVAN\"],[\"CryptoNight Heavy\"],[\"SHA-256\"],[\"X11\"],[\"X16R\"],[\"Equihash\"],[\"Lyra2Z\"],[\"SHA-256\"],[\"CryptoNight\"],[\"Blake\"],[\"Blake\"],[\"Equihash\"],[\"Exosis\"],[\"Scrypt\"],[\"Equihash\"],[\"Equihash\"],[\"QuBit\"],[\"SHA-256\"],[\"X13\"],[\"SHA-256\"],[\"Scrypt\"],[\"NeoScrypt\"],[\"Blake\"],[\"Scrypt\"],[\"SHA-256\"],[\"Scrypt\"],[\"Groestl\"],[\"Scrypt\"],[\"Scrypt\"],[\"Multiple\"],[\"Equihash+Scrypt\"],[\"Ethash\"],[\"CryptoNight\"],[\"Equihash\"]],\"hovertemplate\":\"<b>%{hovertext}</b><br><br>Class=%{marker.color}<br>PC 1=%{x}<br>PC 2=%{y}<br>PC 3=%{z}<br>Algorithm=%{customdata[0]}<extra></extra>\",\"hovertext\":[\"Bitcoin\",\"Ethereum\",\"Litecoin\",\"Monero\",\"Ethereum Classic\",\"ZCash\",\"DigiByte\",\"ProsperCoin\",\"Spreadcoin\",\"Argentum\",\"MyriadCoin\",\"MoonCoin\",\"ZetaCoin\",\"SexCoin\",\"Quatloo\",\"QuarkCoin\",\"Riecoin\",\"Digitalcoin \",\"Catcoin\",\"CannaCoin\",\"CryptCoin\",\"Verge\",\"DevCoin\",\"EarthCoin\",\"E-Gulden\",\"Einsteinium\",\"Emerald\",\"Franko\",\"FeatherCoin\",\"GrandCoin\",\"GlobalCoin\",\"GoldCoin\",\"Infinite Coin\",\"IXcoin\",\"KrugerCoin\",\"LuckyCoin\",\"Litebar \",\"MegaCoin\",\"MediterraneanCoin\",\"MinCoin\",\"NobleCoin\",\"Namecoin\",\"NyanCoin\",\"RonPaulCoin\",\"StableCoin\",\"SmartCoin\",\"SysCoin\",\"TigerCoin\",\"TerraCoin\",\"UnbreakableCoin\",\"Unobtanium\",\"UroCoin\",\"ViaCoin\",\"Vertcoin\",\"WorldCoin\",\"JouleCoin\",\"ByteCoin\",\"DigitalNote \",\"MonaCoin\",\"Gulden\",\"PesetaCoin\",\"Wild Beast Coin\",\"Flo\",\"ArtByte\",\"Folding Coin\",\"Unitus\",\"CypherPunkCoin\",\"OmniCron\",\"GreenCoin\",\"Cryptonite\",\"MasterCoin\",\"SoonCoin\",\"1Credit\",\"MarsCoin \",\"Crypto\",\"Anarchists Prime\",\"BowsCoin\",\"Song Coin\",\"BitZeny\",\"Expanse\",\"Siacoin\",\"MindCoin\",\"I0coin\",\"Revolution VR\",\"HOdlcoin\",\"Gamecredits\",\"CarpeDiemCoin\",\"Adzcoin\",\"SoilCoin\",\"YoCoin\",\"SibCoin\",\"Francs\",\"BolivarCoin\",\"Omni\",\"PizzaCoin\",\"Komodo\",\"Karbo\",\"ZayedCoin\",\"Circuits of Value\",\"DopeCoin\",\"DollarCoin\",\"Shilling\",\"ZCoin\",\"Elementrem\",\"ZClassic\",\"KiloCoin\",\"ArtexCoin\",\"Kurrent\",\"Cannabis Industry Coin\",\"OsmiumCoin\",\"Bikercoins\",\"HexxCoin\",\"PacCoin\",\"Citadel\",\"BeaverCoin\",\"VaultCoin\",\"Zero\",\"Canada eCoin\",\"Zoin\",\"DubaiCoin\",\"EB3coin\",\"Coinonat\",\"BenjiRolls\",\"ILCoin\",\"EquiTrader\",\"Quantum Resistant Ledger\",\"Dynamic\",\"Nano\",\"ChanCoin\",\"Dinastycoin\",\"DigitalPrice\",\"Unify\",\"SocialCoin\",\"ArcticCoin\",\"DAS\",\"LeviarCoin\",\"Bitcore\",\"gCn Coin\",\"SmartCash\",\"Onix\",\"Bitcoin Cash\",\"Sojourn Coin\",\"NewYorkCoin\",\"FrazCoin\",\"Kronecoin\",\"AdCoin\",\"Linx\",\"Sumokoin\",\"BitcoinZ\",\"Elements\",\"VIVO Coin\",\"Bitcoin Gold\",\"Pirl\",\"eBoost\",\"Pura\",\"Innova\",\"Ellaism\",\"GoByte\",\"SHIELD\",\"UltraNote\",\"BitCoal\",\"DaxxCoin\",\"AC3\",\"Lethean\",\"PopularCoin\",\"Photon\",\"Sucre\",\"SparksPay\",\"GunCoin\",\"IrishCoin\",\"Pioneer Coin\",\"UnitedBitcoin\",\"Interzone\",\"TurtleCoin\",\"MUNcoin\",\"Niobio Cash\",\"ShareChain\",\"Travelflex\",\"KREDS\",\"BitFlip\",\"LottoCoin\",\"Crypto Improvement Fund\",\"Callisto Network\",\"BitTube\",\"Poseidon\",\"Aidos Kuneen\",\"Bitrolium\",\"Alpenschillling\",\"FuturoCoin\",\"Monero Classic\",\"Jumpcoin\",\"Infinex\",\"KEYCO\",\"GINcoin\",\"PlatinCoin\",\"Loki\",\"Newton Coin\",\"MassGrid\",\"PluraCoin\",\"Motion\",\"PlusOneCoin\",\"Axe\",\"HexCoin\",\"Webchain\",\"Ryo\",\"Urals Coin\",\"Qwertycoin\",\"Project Pai\",\"Azart\",\"Xchange\",\"CrypticCoin\",\"Actinium\",\"Bitcoin SV\",\"FREDEnergy\",\"Universal Molecule\",\"Lithium\",\"PirateCash\",\"Exosis\",\"Block-Logic\",\"Beam\",\"Bithereum\",\"SLICE\",\"BLAST\",\"Bitcoin Rhodium\",\"GlobalToken\",\"SolarCoin\",\"UFO Coin\",\"BlakeCoin\",\"Crypto Escudo\",\"Crown Coin\",\"SmileyCoin\",\"Groestlcoin\",\"Bata\",\"Pakcoin\",\"JoinCoin\",\"Vollar\",\"Reality Clash\",\"Beldex\",\"Horizen\"],\"legendgroup\":\"3\",\"marker\":{\"color\":[3,3,3,3,3,3,3,3,3,3,3,3,3,3,3,3,3,3,3,3,3,3,3,3,3,3,3,3,3,3,3,3,3,3,3,3,3,3,3,3,3,3,3,3,3,3,3,3,3,3,3,3,3,3,3,3,3,3,3,3,3,3,3,3,3,3,3,3,3,3,3,3,3,3,3,3,3,3,3,3,3,3,3,3,3,3,3,3,3,3,3,3,3,3,3,3,3,3,3,3,3,3,3,3,3,3,3,3,3,3,3,3,3,3,3,3,3,3,3,3,3,3,3,3,3,3,3,3,3,3,3,3,3,3,3,3,3,3,3,3,3,3,3,3,3,3,3,3,3,3,3,3,3,3,3,3,3,3,3,3,3,3,3,3,3,3,3,3,3,3,3,3,3,3,3,3,3,3,3,3,3,3,3,3,3,3,3,3,3,3,3,3,3,3,3,3,3,3,3,3,3,3,3,3,3,3,3,3,3,3,3,3,3,3,3,3,3,3,3,3,3,3,3,3,3,3,3,3,3,3,3,3,3,3,3,3,3,3,3],\"coloraxis\":\"coloraxis\",\"symbol\":\"diamond\"},\"mode\":\"markers\",\"name\":\"3\",\"scene\":\"scene\",\"showlegend\":true,\"x\":[-0.13956419239249448,-0.14314859474409222,-0.166020429018268,-0.15439895987208252,-0.1415922462222131,-0.16018141152047755,0.14984706809662807,-0.16716533200788422,-0.22822527412157081,-0.16678228548829646,-0.10327075690301575,2.5518859644321634,-0.13665254538272775,-0.16404083280623746,-0.16658650519505167,-0.24265196497695804,-0.18865489711153915,-0.16663529419144726,-0.16714762021280163,-0.16723397937640314,-0.22831450774203074,0.17355981360724623,0.23784158895563157,0.08120564855639047,-0.16698057975312974,-0.16259096761512368,-0.16691993269671998,-0.1672909139326469,-0.1672598331293925,-0.14653709622390912,-0.1660874375680219,-0.16636453469913526,1.5795680907414873,-0.1395256101534693,-0.1636570232663101,-0.1670069897960378,-0.1673613880357173,-0.16662150283292548,-0.17896308736749164,-0.16724278981432197,-0.032294133260389137,-0.1396031235973441,-0.16091413336527818,-0.16722224015072595,-0.16531861026901976,-0.16670957921213678,-0.12676995448230338,-0.13906752285436763,-0.1393543761113393,-0.1393373243240199,-0.1399274133767151,-0.2284882120447551,-0.16693908121055545,-0.1955934396888335,-0.16404551733337874,-0.13913473651301936,3.853413687654045,0.4563709995578498,-0.16580796682314528,-0.15042373105427403,-0.1645282939109454,-0.16736359263284017,-0.16439351187855042,-0.15063310311979206,-0.13431862924811205,-0.13723785060154434,-0.19035211010142453,-0.1672368279110777,-0.04031851534439025,-0.14312669393616495,-0.16737247711635234,-0.13963086638552666,0.4841085172571932,-0.22787611426671553,-0.12351497496032383,-0.1393710040698756,-0.2281606750854563,-0.16549828680071776,-0.1646914781807663,-0.1442146925646354,0.3634173330241922,-0.22819603518590242,-0.13952673110147343,-0.16333507448062004,-0.0974529457298096,-0.16593749937875402,0.27846663085896184,-0.22735770328157726,-0.18317677564862503,-0.1661844881756687,-0.158874968632779,-0.16716262202665946,-0.22815931096022668,-0.16737253554265624,-0.22830909460645749,-0.30089780528940424,0.3014544382255096,-0.13978650807458107,-0.1173334142371067,-0.16454248650895245,-0.13974518808418593,-0.16703631196176996,-0.14566984960410503,-0.1439571576637041,-0.16020300157627973,-0.09417502337037732,-0.21490845761971486,-0.2261396530186326,0.3014488256380109,-0.1673542930649795,0.3015793843228618,-0.12405482812048951,0.4861921993173432,-0.15316493029646805,-0.16732261884353306,-0.22105077005213136,-0.16021536690458107,-0.165458072019499,-0.12377354350187224,-0.1267823998189738,-0.13827664192339553,-0.18989148750056684,-0.16688549468648173,-0.10614998371738008,-0.166707727443121,-0.15302296299983562,-0.1320346503743489,-0.036385309585047126,-0.16554143351924824,0.33752867327130937,-0.22736606252513106,-0.16702666860532983,-0.1667902618426638,-0.22776030919709161,-0.22833710126465503,0.30184336905802084,-0.1683329515398298,3.2383660513629438,-0.10428468148199398,-0.2192190192964343,-0.13956335765340014,-0.09302345248010034,1.5774650122990381,-0.16712439288544514,-0.1665766256165957,-0.16627795045258995,-0.16626489769711883,0.30202680143223365,0.051876970079599155,-0.18277834711389548,-0.17194317448343957,-0.16006160446163842,-0.18193723353481275,-0.1654562834104535,-0.2238866015957677,-0.17178875273184582,-0.14232402482134446,-0.17188885230585066,-0.12748088438328894,1.1384708927205667,0.3014316042249358,-0.06729264397773221,-0.2236282022185715,-0.14214730093595704,-0.08360934176692947,1.108842754639531,-0.22831113100216233,-0.17194074506966206,-0.16498659888086936,-0.16637626388281967,-0.22823662684325152,-0.13954278201176043,-0.23805931040991737,8.03108991731245,-0.1335778108866552,0.30530167611410447,0.02544166285037029,-0.18144115262874666,-0.1811680163109258,-0.16694930788938295,0.1397707836552856,-0.22238414648759383,-0.09541198946501366,0.3093463072025763,-0.16718605079729443,-0.1511710752642718,-0.15905388257441955,-0.1434557179623344,-0.2274067841159517,0.30161390395698384,-0.1899509148723835,-0.12390023576548213,-0.17382802647935675,-0.14575413686571892,0.30553807322505994,0.6106003371143935,2.108113581652106,-0.1721393306025774,0.31520332115744626,-0.1901943399837715,-0.14995204434477097,-0.22829331170399392,-0.167210600368395,-0.14202622902401327,-0.16818763406640674,-0.1096872089641709,3.130281370249378,-0.09943815722012983,-0.22826470716571118,-0.18962266209722192,-0.05492797301439825,-0.1451525326114978,-0.1395633951720138,0.38128642569788035,-0.11674550603900916,-0.11713715851723268,-0.29673735560761405,-0.14027891513501217,-0.16610413525591547,-0.1581237732279214,-0.1598946172687434,-0.18956392089566687,-0.13884037710066285,-0.11468569556673479,-0.1377095750426344,0.5279821432928067,-0.09719381772193335,-0.06765414984370405,-0.15078350151615016,-0.1393537473471346,0.5476466798426364,-0.18821641375269252,-0.16728736798156257,-0.1652453691576186,-0.13797181582350287,-0.07834525977802101,-0.14399027737450182,0.3231636316646184,-0.16018246715090603],\"y\":[-1.3137987290321382,-2.0091293805527646,-1.1962631123223793,-2.2157715741975865,-2.0092070079836732,-2.064906723796381,-1.8225268299178459,-1.1962672282818259,-0.8017713249438998,-1.1962805218118246,-1.82004269338672,-1.343327381958535,-1.3137806177753661,-1.1962941872064634,-1.196296700039991,-0.45817346618351606,-1.1508211052971786,-1.1962639842797653,-1.196266512384338,-1.1962647429749593,-0.8017735932821569,-1.8185937448814526,-1.312583603924244,-1.1952485262882404,-1.1962597607341003,-1.196268906298443,-1.1962646707235824,-1.1962657699281518,-1.6605141771381584,-1.1963700816770306,-1.1962564518329408,-1.1962691547338469,-1.1862818462699738,-1.3137971695669444,-1.1962889936492396,-1.1962601589993338,-1.1962620027644075,-1.1962593005012154,-2.2680819121551026,-1.1962629977702652,-1.2008399158107521,-1.3138003026022749,-1.1962260295331253,-1.1962695284663252,-1.1963458340142297,-1.1962690172044976,-1.3138617996503792,-1.3137960614623891,-1.3138043018024643,-1.313829042520771,-1.3137995240672173,-0.8017685685194654,-1.1962594218119293,-1.309256182718674,-1.1963046962883799,-1.3137974317611938,-2.2356473907847727,-2.2561981445123913,-1.1962686584519062,-1.1967007629039197,-1.19625793478489,-1.1962629471215651,-1.1962482134279842,-1.1962541635036459,-2.128958112154471,-1.8200772000363914,-1.4449044996833482,-1.196258320834228,-1.197818210747143,-2.195681740722505,-1.1962619621049035,-1.3138014239449887,-1.2314963940199606,-0.8017659118800459,-2.153406169699978,-1.3138128437889334,-0.8017693831081717,-1.1963264886585652,-1.1963204858050545,-2.0091837853395735,-2.129504223491713,-0.8017674662923647,-1.313797214874823,-1.1962388926270728,-2.068532570922097,-1.196259760368473,-1.3113606823251804,-0.80177908775108,-2.2255124399265687,-1.1963261921125712,-2.2147601030588175,-1.1962664495374995,-0.8017720048069122,-1.1962619624387478,-0.8017780589496786,-1.5691009767961897,-2.2557743587993575,-1.3138001768962377,-1.8200757283286422,-1.1962810032275433,-1.313799110599047,-1.1962680362684566,-2.139077002001417,-2.009179599040546,-2.064907596450262,-1.199995050453578,-0.8015542894768019,-0.8018262211557675,-2.2557819469540057,-1.1962626289833596,-2.2557793467054363,-2.153390655596509,-0.8398026132287378,-2.2158454992959493,-1.1962617808526237,-0.8021371616012276,-2.064905419411908,-1.19625108961643,-2.1533866475816925,-2.1435044412991795,-1.1977623513447095,-0.6064267474840802,-1.1962656346480733,-1.3141071206512678,-1.196282861902817,-2.2157862243709654,-2.182210035754756,-2.145891666777303,-2.1512590033010444,-2.255647990985896,-0.8017901329680842,-1.1962604704301747,-1.1962882055081587,-0.8017792997665991,-0.8017751087834387,-2.2557880836987514,-2.1696184920652843,-1.192445930750367,-1.1243153760826137,-0.8021300444995003,-1.3137986952926122,-1.2002831092784985,-1.1257365234120185,-1.196264904344252,-1.196285593372189,-1.1962842284884618,-1.1962837009058649,-2.2558040174544978,-2.0703748167120803,-0.8011255860709489,-1.6604966887322627,-2.064901881284819,-2.2255468641545364,-1.1962510173221916,-0.801816797992835,-1.6605024928812246,-2.009283430550479,-1.6604977052733332,-1.8201245086555309,-2.2788188464798873,-2.2557769547548414,-2.012755429003757,-0.8019401954666263,-2.2159452332630716,-1.1962219489422727,-1.1914425893168923,-0.8017746613729086,-1.6604925752836863,-1.6605320449749705,-1.1962641107227123,-0.8017737914391505,-1.3137973055203565,-1.2756579441071754,-2.612550506653771,-2.114445481137828,-2.2558370184324974,-1.1951602336104246,-2.225489131968453,-1.3093530341707103,-1.1962712117181835,-1.1961651620585199,-0.8018564512202385,-2.0115497606789865,-2.256117892193702,-1.1962680657197717,-2.2807809009965743,-2.0648939411579406,-2.1391739500629927,-0.8017917789042778,-2.2557735346688466,-0.6064109122125717,-2.1533953018111447,-2.204392476847345,-2.139073114452211,-2.2560041349386264,-2.1083129922748753,-2.3058782980261383,-2.2412463166530014,-2.2558811560775776,-1.2006419184424497,-2.2373380089287984,-0.8017747441809248,-1.1962697976468963,-2.216442593287576,-2.2452964251990872,-0.5653779623801506,-2.129817959840169,-1.3135681500865228,-0.8017762648425778,-1.2006709592868299,-2.0657243930332196,-2.139097984914226,-1.3137986968090862,-2.2579481256191927,-2.162095758749188,-2.1620581251446955,-0.142859951785459,-2.1180126221687026,-1.1962905871867338,-2.0649853703138126,-2.0649017475869202,-1.4449395625576589,-1.313798248943662,-0.34597126762592273,-1.3138221404988215,-1.2338052293070907,-1.6601341427522585,-2.1647256380737745,-1.1962602424941522,-1.3138042763882862,-1.2008214546529898,-1.150817435515533,-1.196261453541813,-1.196297367457147,-1.8201087401457563,-2.1091685114608505,-2.0091797882845572,-2.2558272388292058,-2.064906766464172],\"z\":[0.20815072959419265,0.3764932216770494,-0.011891654580093324,0.424773624613816,0.3764712939731595,0.4271768400788589,0.3190964780016218,-0.01186699241225667,0.003418086993813078,-0.011873199157617975,0.3240758679237961,-0.04858211044812841,0.20808694509301887,-0.011928974610235238,-0.011875063855914752,0.09773487229534286,0.24397802494988646,-0.011878596394698137,-0.011867464828634176,-0.011865894417406937,0.0034202805570449422,0.3180494764772544,0.20004083420174937,-0.017234641850317804,-0.01187192020136677,-0.011963002546565484,-0.011872511983040153,-0.011864553413083638,0.23013675448613402,-0.012286674568623458,-0.011891172891626325,-0.01188357261530124,-0.050009510326938546,0.20814970051263743,-0.011937773647815734,-0.011871309038234239,-0.011863595615109064,-0.011879539263351578,0.4004576929965432,-0.011865952247255082,-0.014067443581365842,0.20815176798350635,-0.012004257921846053,-0.01186547453456181,-0.011894893197400686,-0.011876332093351386,0.20789032976593988,0.2081399080033453,0.20814709167415604,0.20815018061010065,0.2081584825025114,0.0034232350529505755,-0.01187284055471402,0.2801756072814474,-0.011927411572204555,0.20814151312488777,0.30937586833097575,0.3837129772344332,-0.011895351882266706,-0.012158818776636906,-0.011923770396460202,-0.011863417631324834,-0.011927960895212024,-0.01221664876129959,0.45791542952474673,0.3247953393287994,0.25727040774726995,-0.011866729431763734,-0.014319696593003375,0.4483074666597582,-0.011863367968480818,0.2081525079507109,-0.0206603970444763,0.0034099863916491483,0.4544500291062754,0.20814863187884217,0.003416457237943319,-0.01189380866991176,-0.011911620325734146,0.37652323371426955,0.35301085118362735,0.0034169340946003965,0.2081497304110298,-0.011951529151718189,0.5270013035506224,-0.01189386651399148,0.1990156708614946,0.003400915201145143,0.3802659140761459,-0.011879412415960765,0.3554401754599694,-0.011867157950539622,0.0034167938795657367,-0.01186336669267744,0.0034207889713809177,0.5866396755861517,0.38691334351750895,0.20815560884907736,0.3243763477511973,-0.011920257120414541,0.2081545908902636,-0.011869594379866144,0.4820986865179435,0.3765172318418575,0.42717741593782255,-0.012883213373261225,0.0031076584527045853,0.003381855798070837,0.3869145190406631,-0.011863657626539896,0.3869114097511663,0.45445922559644164,-0.006313365154789401,0.4247579625217795,-0.011864442237520333,0.003318117036278897,0.4271773727248717,-0.011905161895700464,0.45445274887788034,0.4273433369763191,-0.012266455838055202,0.021611507956091527,-0.011873102227691657,0.20749067484901512,-0.011874441748583448,0.42474671538811837,0.37988681046817163,0.3637062873872698,0.40535376585832894,0.38613673699526757,0.0034026302669275814,-0.011870851599960219,-0.011871960587089161,0.003409415517023469,0.0034209671117746295,0.3869070730798367,0.332873056994177,-0.08405139571978544,0.12281812218317226,0.003278585470453931,0.2081507073296821,-0.012867300284444006,-0.058402458189916656,-0.011868177614121095,-0.01187681947270331,-0.011883293756555663,-0.011883641905087484,0.3869054341119259,0.42347715941945413,0.002371904254422847,0.2302328542486664,0.4271736445350722,0.3802446314206754,-0.011905209602226142,0.003333138769093114,0.23023041406499792,0.37649734023425974,0.23023185297628068,0.32459664677381134,0.37251396481330507,0.38691418569682196,0.37540252550252573,0.0033448979401980604,0.4245400514451078,-0.013631308308647304,0.1467413100600298,0.003420358352994937,0.23023222991112166,0.230091415906881,-0.011884028735035782,0.0034186695679397873,0.20815008075164593,0.05694430989837274,0.2740008878761245,0.5399607397865132,0.38684113001603504,-0.016073679462788714,0.3802261487732973,0.2798855950184936,-0.011870982423385242,-0.018339107597140764,0.0033070531407066984,0.375826138528844,0.38679517226963783,-0.011866439792073653,0.4257421273725581,0.42715133572726177,0.4820656115469221,0.00340371641016327,0.3869098735359744,0.021610551600626537,0.45445662046122093,0.4381907328619693,0.48209991816667247,0.38685944450728194,0.4928318290289353,0.3558836479812297,0.4496378496473397,0.3866389515532874,0.20365968122139735,0.5543895251646848,0.003419994977092017,-0.011865681922688248,0.42460681291770735,0.4574618879515257,0.2021631499950144,0.44281489124797196,0.20727435160250668,0.0034196050510686927,0.20365170014082515,0.42507626779317614,0.4820907262826669,0.20815070833039423,0.3855366117234269,0.5172541750097137,0.5172571709511806,0.157027600984607,0.24332432388337732,-0.011886064697201265,0.42714450732316805,0.42717011251719555,0.25725871048987314,0.2081354337221657,-0.08754635114815539,0.20811497117817251,-0.0212617478147982,0.2286096164756005,0.5165877825209635,-0.01221263727261288,0.20814707490349524,-0.0262718878472447,0.2439682879262883,-0.01186522952248002,-0.011903188159199966,0.32481517707328106,0.4957921422689758,0.37651795504762386,0.3864639542087519,0.42717686823507406],\"type\":\"scatter3d\"},{\"customdata\":[[\"Proof-of-BibleHash\"],[\"SHA-256 + Hive\"],[\"Proof-of-Authority\"],[\"ECC 256K1\"],[\"Leased POS\"]],\"hovertemplate\":\"<b>%{hovertext}</b><br><br>Class=%{marker.color}<br>PC 1=%{x}<br>PC 2=%{y}<br>PC 3=%{z}<br>Algorithm=%{customdata[0]}<extra></extra>\",\"hovertext\":[\"BiblePay\",\"LitecoinCash\",\"Poa Network\",\"Acute Angle Cloud\",\"Waves\"],\"legendgroup\":\"1\",\"marker\":{\"color\":[1,1,1,1,1],\"coloraxis\":\"coloraxis\",\"symbol\":\"square\"},\"mode\":\"markers\",\"name\":\"1\",\"scene\":\"scene\",\"showlegend\":true,\"x\":[-0.19631204142439218,-0.3218516884688785,-0.44796540791001677,-0.3332594816817248,-0.4536540830709322],\"y\":[2.7494604711858783,3.525143346046399,2.2884031548592807,3.5410209451882433,3.3778273725004957],\"z\":[12.48007337656205,18.114243163633276,14.309260873682382,12.56933392665049,11.348298791102403],\"type\":\"scatter3d\"},{\"customdata\":[[\"TRC10\"]],\"hovertemplate\":\"<b>%{hovertext}</b><br><br>Class=%{marker.color}<br>PC 1=%{x}<br>PC 2=%{y}<br>PC 3=%{z}<br>Algorithm=%{customdata[0]}<extra></extra>\",\"hovertext\":[\"BitTorrent\"],\"legendgroup\":\"2\",\"marker\":{\"color\":[2],\"coloraxis\":\"coloraxis\",\"symbol\":\"x\"},\"mode\":\"markers\",\"name\":\"2\",\"scene\":\"scene\",\"showlegend\":true,\"x\":[34.03166898681541],\"y\":[1.843643175681767],\"z\":[-0.8164122936042116],\"type\":\"scatter3d\"}],                        {\"template\":{\"data\":{\"histogram2dcontour\":[{\"type\":\"histogram2dcontour\",\"colorbar\":{\"outlinewidth\":0,\"ticks\":\"\"},\"colorscale\":[[0.0,\"#0d0887\"],[0.1111111111111111,\"#46039f\"],[0.2222222222222222,\"#7201a8\"],[0.3333333333333333,\"#9c179e\"],[0.4444444444444444,\"#bd3786\"],[0.5555555555555556,\"#d8576b\"],[0.6666666666666666,\"#ed7953\"],[0.7777777777777778,\"#fb9f3a\"],[0.8888888888888888,\"#fdca26\"],[1.0,\"#f0f921\"]]}],\"choropleth\":[{\"type\":\"choropleth\",\"colorbar\":{\"outlinewidth\":0,\"ticks\":\"\"}}],\"histogram2d\":[{\"type\":\"histogram2d\",\"colorbar\":{\"outlinewidth\":0,\"ticks\":\"\"},\"colorscale\":[[0.0,\"#0d0887\"],[0.1111111111111111,\"#46039f\"],[0.2222222222222222,\"#7201a8\"],[0.3333333333333333,\"#9c179e\"],[0.4444444444444444,\"#bd3786\"],[0.5555555555555556,\"#d8576b\"],[0.6666666666666666,\"#ed7953\"],[0.7777777777777778,\"#fb9f3a\"],[0.8888888888888888,\"#fdca26\"],[1.0,\"#f0f921\"]]}],\"heatmap\":[{\"type\":\"heatmap\",\"colorbar\":{\"outlinewidth\":0,\"ticks\":\"\"},\"colorscale\":[[0.0,\"#0d0887\"],[0.1111111111111111,\"#46039f\"],[0.2222222222222222,\"#7201a8\"],[0.3333333333333333,\"#9c179e\"],[0.4444444444444444,\"#bd3786\"],[0.5555555555555556,\"#d8576b\"],[0.6666666666666666,\"#ed7953\"],[0.7777777777777778,\"#fb9f3a\"],[0.8888888888888888,\"#fdca26\"],[1.0,\"#f0f921\"]]}],\"heatmapgl\":[{\"type\":\"heatmapgl\",\"colorbar\":{\"outlinewidth\":0,\"ticks\":\"\"},\"colorscale\":[[0.0,\"#0d0887\"],[0.1111111111111111,\"#46039f\"],[0.2222222222222222,\"#7201a8\"],[0.3333333333333333,\"#9c179e\"],[0.4444444444444444,\"#bd3786\"],[0.5555555555555556,\"#d8576b\"],[0.6666666666666666,\"#ed7953\"],[0.7777777777777778,\"#fb9f3a\"],[0.8888888888888888,\"#fdca26\"],[1.0,\"#f0f921\"]]}],\"contourcarpet\":[{\"type\":\"contourcarpet\",\"colorbar\":{\"outlinewidth\":0,\"ticks\":\"\"}}],\"contour\":[{\"type\":\"contour\",\"colorbar\":{\"outlinewidth\":0,\"ticks\":\"\"},\"colorscale\":[[0.0,\"#0d0887\"],[0.1111111111111111,\"#46039f\"],[0.2222222222222222,\"#7201a8\"],[0.3333333333333333,\"#9c179e\"],[0.4444444444444444,\"#bd3786\"],[0.5555555555555556,\"#d8576b\"],[0.6666666666666666,\"#ed7953\"],[0.7777777777777778,\"#fb9f3a\"],[0.8888888888888888,\"#fdca26\"],[1.0,\"#f0f921\"]]}],\"surface\":[{\"type\":\"surface\",\"colorbar\":{\"outlinewidth\":0,\"ticks\":\"\"},\"colorscale\":[[0.0,\"#0d0887\"],[0.1111111111111111,\"#46039f\"],[0.2222222222222222,\"#7201a8\"],[0.3333333333333333,\"#9c179e\"],[0.4444444444444444,\"#bd3786\"],[0.5555555555555556,\"#d8576b\"],[0.6666666666666666,\"#ed7953\"],[0.7777777777777778,\"#fb9f3a\"],[0.8888888888888888,\"#fdca26\"],[1.0,\"#f0f921\"]]}],\"mesh3d\":[{\"type\":\"mesh3d\",\"colorbar\":{\"outlinewidth\":0,\"ticks\":\"\"}}],\"scatter\":[{\"fillpattern\":{\"fillmode\":\"overlay\",\"size\":10,\"solidity\":0.2},\"type\":\"scatter\"}],\"parcoords\":[{\"type\":\"parcoords\",\"line\":{\"colorbar\":{\"outlinewidth\":0,\"ticks\":\"\"}}}],\"scatterpolargl\":[{\"type\":\"scatterpolargl\",\"marker\":{\"colorbar\":{\"outlinewidth\":0,\"ticks\":\"\"}}}],\"bar\":[{\"error_x\":{\"color\":\"#2a3f5f\"},\"error_y\":{\"color\":\"#2a3f5f\"},\"marker\":{\"line\":{\"color\":\"#E5ECF6\",\"width\":0.5},\"pattern\":{\"fillmode\":\"overlay\",\"size\":10,\"solidity\":0.2}},\"type\":\"bar\"}],\"scattergeo\":[{\"type\":\"scattergeo\",\"marker\":{\"colorbar\":{\"outlinewidth\":0,\"ticks\":\"\"}}}],\"scatterpolar\":[{\"type\":\"scatterpolar\",\"marker\":{\"colorbar\":{\"outlinewidth\":0,\"ticks\":\"\"}}}],\"histogram\":[{\"marker\":{\"pattern\":{\"fillmode\":\"overlay\",\"size\":10,\"solidity\":0.2}},\"type\":\"histogram\"}],\"scattergl\":[{\"type\":\"scattergl\",\"marker\":{\"colorbar\":{\"outlinewidth\":0,\"ticks\":\"\"}}}],\"scatter3d\":[{\"type\":\"scatter3d\",\"line\":{\"colorbar\":{\"outlinewidth\":0,\"ticks\":\"\"}},\"marker\":{\"colorbar\":{\"outlinewidth\":0,\"ticks\":\"\"}}}],\"scattermapbox\":[{\"type\":\"scattermapbox\",\"marker\":{\"colorbar\":{\"outlinewidth\":0,\"ticks\":\"\"}}}],\"scatterternary\":[{\"type\":\"scatterternary\",\"marker\":{\"colorbar\":{\"outlinewidth\":0,\"ticks\":\"\"}}}],\"scattercarpet\":[{\"type\":\"scattercarpet\",\"marker\":{\"colorbar\":{\"outlinewidth\":0,\"ticks\":\"\"}}}],\"carpet\":[{\"aaxis\":{\"endlinecolor\":\"#2a3f5f\",\"gridcolor\":\"white\",\"linecolor\":\"white\",\"minorgridcolor\":\"white\",\"startlinecolor\":\"#2a3f5f\"},\"baxis\":{\"endlinecolor\":\"#2a3f5f\",\"gridcolor\":\"white\",\"linecolor\":\"white\",\"minorgridcolor\":\"white\",\"startlinecolor\":\"#2a3f5f\"},\"type\":\"carpet\"}],\"table\":[{\"cells\":{\"fill\":{\"color\":\"#EBF0F8\"},\"line\":{\"color\":\"white\"}},\"header\":{\"fill\":{\"color\":\"#C8D4E3\"},\"line\":{\"color\":\"white\"}},\"type\":\"table\"}],\"barpolar\":[{\"marker\":{\"line\":{\"color\":\"#E5ECF6\",\"width\":0.5},\"pattern\":{\"fillmode\":\"overlay\",\"size\":10,\"solidity\":0.2}},\"type\":\"barpolar\"}],\"pie\":[{\"automargin\":true,\"type\":\"pie\"}]},\"layout\":{\"autotypenumbers\":\"strict\",\"colorway\":[\"#636efa\",\"#EF553B\",\"#00cc96\",\"#ab63fa\",\"#FFA15A\",\"#19d3f3\",\"#FF6692\",\"#B6E880\",\"#FF97FF\",\"#FECB52\"],\"font\":{\"color\":\"#2a3f5f\"},\"hovermode\":\"closest\",\"hoverlabel\":{\"align\":\"left\"},\"paper_bgcolor\":\"white\",\"plot_bgcolor\":\"#E5ECF6\",\"polar\":{\"bgcolor\":\"#E5ECF6\",\"angularaxis\":{\"gridcolor\":\"white\",\"linecolor\":\"white\",\"ticks\":\"\"},\"radialaxis\":{\"gridcolor\":\"white\",\"linecolor\":\"white\",\"ticks\":\"\"}},\"ternary\":{\"bgcolor\":\"#E5ECF6\",\"aaxis\":{\"gridcolor\":\"white\",\"linecolor\":\"white\",\"ticks\":\"\"},\"baxis\":{\"gridcolor\":\"white\",\"linecolor\":\"white\",\"ticks\":\"\"},\"caxis\":{\"gridcolor\":\"white\",\"linecolor\":\"white\",\"ticks\":\"\"}},\"coloraxis\":{\"colorbar\":{\"outlinewidth\":0,\"ticks\":\"\"}},\"colorscale\":{\"sequential\":[[0.0,\"#0d0887\"],[0.1111111111111111,\"#46039f\"],[0.2222222222222222,\"#7201a8\"],[0.3333333333333333,\"#9c179e\"],[0.4444444444444444,\"#bd3786\"],[0.5555555555555556,\"#d8576b\"],[0.6666666666666666,\"#ed7953\"],[0.7777777777777778,\"#fb9f3a\"],[0.8888888888888888,\"#fdca26\"],[1.0,\"#f0f921\"]],\"sequentialminus\":[[0.0,\"#0d0887\"],[0.1111111111111111,\"#46039f\"],[0.2222222222222222,\"#7201a8\"],[0.3333333333333333,\"#9c179e\"],[0.4444444444444444,\"#bd3786\"],[0.5555555555555556,\"#d8576b\"],[0.6666666666666666,\"#ed7953\"],[0.7777777777777778,\"#fb9f3a\"],[0.8888888888888888,\"#fdca26\"],[1.0,\"#f0f921\"]],\"diverging\":[[0,\"#8e0152\"],[0.1,\"#c51b7d\"],[0.2,\"#de77ae\"],[0.3,\"#f1b6da\"],[0.4,\"#fde0ef\"],[0.5,\"#f7f7f7\"],[0.6,\"#e6f5d0\"],[0.7,\"#b8e186\"],[0.8,\"#7fbc41\"],[0.9,\"#4d9221\"],[1,\"#276419\"]]},\"xaxis\":{\"gridcolor\":\"white\",\"linecolor\":\"white\",\"ticks\":\"\",\"title\":{\"standoff\":15},\"zerolinecolor\":\"white\",\"automargin\":true,\"zerolinewidth\":2},\"yaxis\":{\"gridcolor\":\"white\",\"linecolor\":\"white\",\"ticks\":\"\",\"title\":{\"standoff\":15},\"zerolinecolor\":\"white\",\"automargin\":true,\"zerolinewidth\":2},\"scene\":{\"xaxis\":{\"backgroundcolor\":\"#E5ECF6\",\"gridcolor\":\"white\",\"linecolor\":\"white\",\"showbackground\":true,\"ticks\":\"\",\"zerolinecolor\":\"white\",\"gridwidth\":2},\"yaxis\":{\"backgroundcolor\":\"#E5ECF6\",\"gridcolor\":\"white\",\"linecolor\":\"white\",\"showbackground\":true,\"ticks\":\"\",\"zerolinecolor\":\"white\",\"gridwidth\":2},\"zaxis\":{\"backgroundcolor\":\"#E5ECF6\",\"gridcolor\":\"white\",\"linecolor\":\"white\",\"showbackground\":true,\"ticks\":\"\",\"zerolinecolor\":\"white\",\"gridwidth\":2}},\"shapedefaults\":{\"line\":{\"color\":\"#2a3f5f\"}},\"annotationdefaults\":{\"arrowcolor\":\"#2a3f5f\",\"arrowhead\":0,\"arrowwidth\":1},\"geo\":{\"bgcolor\":\"white\",\"landcolor\":\"#E5ECF6\",\"subunitcolor\":\"white\",\"showland\":true,\"showlakes\":true,\"lakecolor\":\"white\"},\"title\":{\"x\":0.05},\"mapbox\":{\"style\":\"light\"}}},\"scene\":{\"domain\":{\"x\":[0.0,1.0],\"y\":[0.0,1.0]},\"xaxis\":{\"title\":{\"text\":\"PC 1\"}},\"yaxis\":{\"title\":{\"text\":\"PC 2\"}},\"zaxis\":{\"title\":{\"text\":\"PC 3\"}}},\"coloraxis\":{\"colorbar\":{\"title\":{\"text\":\"Class\"}},\"colorscale\":[[0.0,\"#0d0887\"],[0.1111111111111111,\"#46039f\"],[0.2222222222222222,\"#7201a8\"],[0.3333333333333333,\"#9c179e\"],[0.4444444444444444,\"#bd3786\"],[0.5555555555555556,\"#d8576b\"],[0.6666666666666666,\"#ed7953\"],[0.7777777777777778,\"#fb9f3a\"],[0.8888888888888888,\"#fdca26\"],[1.0,\"#f0f921\"]]},\"legend\":{\"title\":{\"text\":\"Class\"},\"tracegroupgap\":0,\"x\":0,\"y\":1},\"margin\":{\"t\":60},\"width\":800},                        {\"responsive\": true}                    ).then(function(){\n                            \nvar gd = document.getElementById('85a50b5c-21c9-48b7-91a8-fc4e92325151');\nvar x = new MutationObserver(function (mutations, observer) {{\n        var display = window.getComputedStyle(gd).display;\n        if (!display || display === 'none') {{\n            console.log([gd, 'removed!']);\n            Plotly.purge(gd);\n            observer.disconnect();\n        }}\n}});\n\n// Listen for the removal of the full notebook cells\nvar notebookContainer = gd.closest('#notebook-container');\nif (notebookContainer) {{\n    x.observe(notebookContainer, {childList: true});\n}}\n\n// Listen for the clearing of the current output cell\nvar outputEl = gd.closest('.output');\nif (outputEl) {{\n    x.observe(outputEl, {childList: true});\n}}\n\n                        })                };                });            </script>        </div>"
     },
     "metadata": {},
     "output_type": "display_data"
    }
   ],
   "source": [
    "# Creating a 3D-Scatter with the PCA data and the clusters\n",
    "fig = px.scatter_3d(\n",
    "    clustered_df,\n",
    "    x='PC 1',\n",
    "    y = 'PC 2',\n",
    "    z = 'PC 3',\n",
    "    color = 'Class',\n",
    "    symbol='Class',\n",
    "    width = 800,\n",
    "    hover_name = 'CoinName',\n",
    "    hover_data = ['Algorithm'])\n",
    "\n",
    "fig.update_layout(legend=dict(x=0,y=1))\n",
    "fig.show()"
   ]
  },
  {
   "cell_type": "code",
   "execution_count": 93,
   "metadata": {},
   "outputs": [
    {
     "data": {},
     "metadata": {},
     "output_type": "display_data"
    },
    {
     "data": {
      "text/html": "<div id='2341'>\n  <div class=\"bk-root\" id=\"71813c6b-1634-4d64-9ef1-4bd9a31ff80a\" data-root-id=\"2341\"></div>\n</div>\n<script type=\"application/javascript\">(function(root) {\n  function embed_document(root) {\n    var docs_json = {\"6c2d111d-05cd-4ca5-9402-cd54d924e919\":{\"defs\":[{\"extends\":null,\"module\":null,\"name\":\"ReactiveHTML1\",\"overrides\":[],\"properties\":[]},{\"extends\":null,\"module\":null,\"name\":\"FlexBox1\",\"overrides\":[],\"properties\":[{\"default\":\"flex-start\",\"kind\":null,\"name\":\"align_content\"},{\"default\":\"flex-start\",\"kind\":null,\"name\":\"align_items\"},{\"default\":\"row\",\"kind\":null,\"name\":\"flex_direction\"},{\"default\":\"wrap\",\"kind\":null,\"name\":\"flex_wrap\"},{\"default\":\"flex-start\",\"kind\":null,\"name\":\"justify_content\"}]},{\"extends\":null,\"module\":null,\"name\":\"GridStack1\",\"overrides\":[],\"properties\":[{\"default\":\"warn\",\"kind\":null,\"name\":\"mode\"},{\"default\":null,\"kind\":null,\"name\":\"ncols\"},{\"default\":null,\"kind\":null,\"name\":\"nrows\"},{\"default\":true,\"kind\":null,\"name\":\"allow_resize\"},{\"default\":true,\"kind\":null,\"name\":\"allow_drag\"},{\"default\":[],\"kind\":null,\"name\":\"state\"}]},{\"extends\":null,\"module\":null,\"name\":\"click1\",\"overrides\":[],\"properties\":[{\"default\":\"\",\"kind\":null,\"name\":\"terminal_output\"},{\"default\":\"\",\"kind\":null,\"name\":\"debug_name\"},{\"default\":0,\"kind\":null,\"name\":\"clears\"}]},{\"extends\":null,\"module\":null,\"name\":\"NotificationAreaBase1\",\"overrides\":[],\"properties\":[{\"default\":\"bottom-right\",\"kind\":null,\"name\":\"position\"},{\"default\":0,\"kind\":null,\"name\":\"_clear\"}]},{\"extends\":null,\"module\":null,\"name\":\"NotificationArea1\",\"overrides\":[],\"properties\":[{\"default\":[],\"kind\":null,\"name\":\"notifications\"},{\"default\":\"bottom-right\",\"kind\":null,\"name\":\"position\"},{\"default\":0,\"kind\":null,\"name\":\"_clear\"},{\"default\":[{\"background\":\"#ffc107\",\"icon\":{\"className\":\"fas fa-exclamation-triangle\",\"color\":\"white\",\"tagName\":\"i\"},\"type\":\"warning\"},{\"background\":\"#007bff\",\"icon\":{\"className\":\"fas fa-info-circle\",\"color\":\"white\",\"tagName\":\"i\"},\"type\":\"info\"}],\"kind\":null,\"name\":\"types\"}]},{\"extends\":null,\"module\":null,\"name\":\"Notification\",\"overrides\":[],\"properties\":[{\"default\":null,\"kind\":null,\"name\":\"background\"},{\"default\":3000,\"kind\":null,\"name\":\"duration\"},{\"default\":null,\"kind\":null,\"name\":\"icon\"},{\"default\":\"\",\"kind\":null,\"name\":\"message\"},{\"default\":null,\"kind\":null,\"name\":\"notification_type\"},{\"default\":false,\"kind\":null,\"name\":\"_destroyed\"}]},{\"extends\":null,\"module\":null,\"name\":\"TemplateActions1\",\"overrides\":[],\"properties\":[{\"default\":0,\"kind\":null,\"name\":\"open_modal\"},{\"default\":0,\"kind\":null,\"name\":\"close_modal\"}]},{\"extends\":null,\"module\":null,\"name\":\"MaterialTemplateActions1\",\"overrides\":[],\"properties\":[{\"default\":0,\"kind\":null,\"name\":\"open_modal\"},{\"default\":0,\"kind\":null,\"name\":\"close_modal\"}]}],\"roots\":{\"references\":[{\"attributes\":{},\"id\":\"2361\",\"type\":\"StringEditor\"},{\"attributes\":{\"editor\":{\"id\":\"2356\"},\"field\":\"TotalCoinsMined\",\"formatter\":{\"id\":\"2355\"},\"title\":\"TotalCoinsMined\"},\"id\":\"2357\",\"type\":\"TableColumn\"},{\"attributes\":{},\"id\":\"2351\",\"type\":\"StringEditor\"},{\"attributes\":{\"margin\":[5,5,5,5],\"name\":\"HSpacer02227\",\"sizing_mode\":\"stretch_width\"},\"id\":\"2395\",\"type\":\"Spacer\"},{\"attributes\":{},\"id\":\"2386\",\"type\":\"IntEditor\"},{\"attributes\":{\"source\":{\"id\":\"2343\"}},\"id\":\"2392\",\"type\":\"CDSView\"},{\"attributes\":{},\"id\":\"2393\",\"type\":\"UnionRenderers\"},{\"attributes\":{\"editor\":{\"id\":\"2381\"},\"field\":\"CoinName\",\"formatter\":{\"id\":\"2380\"},\"title\":\"CoinName\"},\"id\":\"2382\",\"type\":\"TableColumn\"},{\"attributes\":{\"format\":\"0,0.0[00000]\"},\"id\":\"2375\",\"type\":\"NumberFormatter\"},{\"attributes\":{},\"id\":\"2380\",\"type\":\"StringFormatter\"},{\"attributes\":{\"data\":{\"Algorithm\":[\"Scrypt\",\"Scrypt\",\"X13\",\"SHA-256\",\"Ethash\",\"Scrypt\",\"X11\",\"CryptoNight-V7\",\"Ethash\",\"Equihash\",\"SHA-512\",\"Multiple\",\"SHA-256\",\"SHA-256\",\"Scrypt\",\"X15\",\"X11\",\"Scrypt\",\"Scrypt\",\"Scrypt\",\"Multiple\",\"Scrypt\",\"SHA-256\",\"Scrypt\",\"Scrypt\",\"Scrypt\",\"Quark\",\"Groestl\",\"Scrypt\",\"Scrypt\",\"Scrypt\",\"Scrypt\",\"Scrypt\",\"X11\",\"Scrypt\",\"Groestl\",\"Multiple\",\"SHA-256\",\"Scrypt\",\"Scrypt\",\"Scrypt\",\"Scrypt\",\"PoS\",\"Scrypt\",\"Scrypt\",\"NeoScrypt\",\"Scrypt\",\"Scrypt\",\"Scrypt\",\"Scrypt\",\"X11\",\"Scrypt\",\"X11\",\"SHA-256\",\"Scrypt\",\"Scrypt\",\"Scrypt\",\"SHA3\",\"Scrypt\",\"HybridScryptHash256\",\"Scrypt\",\"Scrypt\",\"SHA-256\",\"Scrypt\",\"X13\",\"Scrypt\",\"SHA-256\",\"Scrypt\",\"X13\",\"NeoScrypt\",\"Scrypt\",\"Scrypt\",\"Scrypt\",\"Scrypt\",\"Scrypt\",\"Scrypt\",\"X11\",\"X11\",\"SHA-256\",\"Multiple\",\"SHA-256\",\"PHI1612\",\"X11\",\"SHA-256\",\"SHA-256\",\"SHA-256\",\"X11\",\"Scrypt\",\"Scrypt\",\"Scrypt\",\"Scrypt\",\"Lyra2REv2\",\"Scrypt\",\"X11\",\"Multiple\",\"SHA-256\",\"X13\",\"Scrypt\",\"CryptoNight\",\"CryptoNight\",\"Shabal256\",\"Counterparty\",\"Scrypt\",\"SHA-256\",\"Groestl\",\"Scrypt\",\"Scrypt\",\"Scrypt\",\"X13\",\"Scrypt\",\"Scrypt\",\"Scrypt\",\"Scrypt\",\"X13\",\"Scrypt\",\"Stanford Folding\",\"X11\",\"Multiple\",\"QuBit\",\"Scrypt\",\"Scrypt\",\"Scrypt\",\"M7 POW\",\"Scrypt\",\"SHA-256\",\"Scrypt\",\"X11\",\"SHA3\",\"X11\",\"Lyra2RE\",\"SHA-256\",\"QUAIT\",\"X11\",\"X11\",\"Scrypt\",\"Scrypt\",\"Scrypt\",\"Ethash\",\"X13\",\"Blake2b\",\"SHA-256\",\"X15\",\"X11\",\"SHA-256\",\"BLAKE256\",\"Scrypt\",\"1GB AES Pattern Search\",\"SHA-256\",\"X11\",\"Scrypt\",\"SHA-256\",\"SHA-256\",\"NIST5\",\"Scrypt\",\"Scrypt\",\"X11\",\"Dagger\",\"Scrypt\",\"X11GOST\",\"X11\",\"Scrypt\",\"SHA-256\",\"Scrypt\",\"PoS\",\"Scrypt\",\"X11\",\"X11\",\"SHA-256\",\"SHA-256\",\"NIST5\",\"X11\",\"Scrypt\",\"POS 3.0\",\"Scrypt\",\"Scrypt\",\"Scrypt\",\"X13\",\"X11\",\"X11\",\"Equihash\",\"X11\",\"Scrypt\",\"CryptoNight\",\"SHA-256\",\"SHA-256\",\"X11\",\"Scrypt\",\"Multiple\",\"Scrypt\",\"Scrypt\",\"Scrypt\",\"SHA-256\",\"Scrypt\",\"Scrypt\",\"SHA-256D\",\"PoS\",\"Scrypt\",\"X11\",\"Lyra2Z\",\"PoS\",\"X13\",\"X14\",\"PoS\",\"SHA-256D\",\"Ethash\",\"Equihash\",\"DPoS\",\"X11\",\"Scrypt\",\"X11\",\"X13\",\"X11\",\"PoS\",\"Scrypt\",\"Scrypt\",\"X11\",\"PoS\",\"X11\",\"SHA-256\",\"Scrypt\",\"X11\",\"Scrypt\",\"Scrypt\",\"X11\",\"CryptoNight\",\"Scrypt\",\"Scrypt\",\"Scrypt\",\"Scrypt\",\"Quark\",\"QuBit\",\"Scrypt\",\"CryptoNight\",\"Lyra2RE\",\"Scrypt\",\"SHA-256\",\"X11\",\"Scrypt\",\"X11\",\"Scrypt\",\"CryptoNight-V7\",\"Scrypt\",\"Scrypt\",\"Scrypt\",\"X13\",\"X11\",\"Equihash\",\"Scrypt\",\"Scrypt\",\"Lyra2RE\",\"Scrypt\",\"Dagger-Hashimoto\",\"X11\",\"Blake2S\",\"X11\",\"Scrypt\",\"PoS\",\"X11\",\"NIST5\",\"PoS\",\"X11\",\"Scrypt\",\"Scrypt\",\"Scrypt\",\"SHA-256\",\"X11\",\"Scrypt\",\"Scrypt\",\"SHA-256\",\"PoS\",\"Scrypt\",\"X15\",\"SHA-256\",\"Scrypt\",\"POS 3.0\",\"CryptoNight-V7\",\"536\",\"Argon2d\",\"Blake2b\",\"Cloverhash\",\"CryptoNight\",\"NIST5\",\"X11\",\"NIST5\",\"Skein\",\"Scrypt\",\"X13\",\"Scrypt\",\"X11\",\"X11\",\"Scrypt\",\"CryptoNight\",\"X13\",\"Time Travel\",\"Scrypt\",\"Keccak\",\"SkunkHash v2 Raptor\",\"X11\",\"Skein\",\"SHA-256\",\"X11\",\"Scrypt\",\"VeChainThor Authority\",\"Scrypt\",\"PoS\",\"Scrypt\",\"Scrypt\",\"Scrypt\",\"Scrypt\",\"Scrypt\",\"Scrypt\",\"Scrypt\",\"CryptoNight\",\"SHA-512\",\"Ouroboros\",\"X11\",\"Equihash\",\"NeoScrypt\",\"X11\",\"Scrypt\",\"NeoScrypt\",\"Lyra2REv2\",\"Equihash\",\"Scrypt\",\"SHA-256\",\"NIST5\",\"PHI1612\",\"Dagger\",\"Scrypt\",\"Quark\",\"Scrypt\",\"POS 2.0\",\"Scrypt\",\"SHA-256\",\"X11\",\"NeoScrypt\",\"Ethash\",\"NeoScrypt\",\"X11\",\"DPoS\",\"NIST5\",\"X13\",\"Multiple\",\"Scrypt\",\"CryptoNight\",\"CryptoNight\",\"Ethash\",\"NIST5\",\"Quark\",\"X11\",\"CryptoNight-V7\",\"Scrypt\",\"Scrypt\",\"Scrypt\",\"X11\",\"BLAKE256\",\"X11\",\"NeoScrypt\",\"Quark\",\"NeoScrypt\",\"Scrypt\",\"Scrypt\",\"Scrypt\",\"X11\",\"X11\",\"SHA-256\",\"C11\",\"POS 3.0\",\"Ethash\",\"Scrypt\",\"CryptoNight\",\"SkunkHash\",\"Scrypt\",\"CryptoNight\",\"Scrypt\",\"Dagger\",\"Lyra2REv2\",\"X13\",\"Proof-of-BibleHash\",\"SHA-256 + Hive\",\"Scrypt\",\"Scrypt\",\"X11\",\"C11\",\"Proof-of-Authority\",\"X11\",\"XEVAN\",\"Scrypt\",\"VBFT\",\"Ethash\",\"CryptoNight\",\"Scrypt\",\"IMesh\",\"NIST5\",\"Scrypt\",\"Scrypt\",\"Equihash\",\"Scrypt\",\"Lyra2Z\",\"Green Protocol\",\"PoS\",\"Scrypt\",\"Semux BFT consensus\",\"X11\",\"Quark\",\"PoS\",\"CryptoNight\",\"X16R\",\"Scrypt\",\"NIST5\",\"Lyra2RE\",\"XEVAN\",\"Tribus\",\"Scrypt\",\"Lyra2Z\",\"CryptoNight\",\"CryptoNight Heavy\",\"CryptoNight\",\"Scrypt\",\"Scrypt\",\"Jump Consistent Hash\",\"SHA-256D\",\"CryptoNight\",\"Scrypt\",\"X15\",\"Scrypt\",\"Quark\",\"SHA-256\",\"DPoS\",\"X16R\",\"HMQ1725\",\"X11\",\"X16R\",\"Quark\",\"Quark\",\"Scrypt\",\"Lyra2REv2\",\"Quark\",\"Scrypt\",\"Scrypt\",\"CryptoNight-V7\",\"Cryptonight-GPU\",\"XEVAN\",\"CryptoNight Heavy\",\"X11\",\"X11\",\"Scrypt\",\"PoS\",\"SHA-256\",\"Keccak\",\"X11\",\"X11\",\"Scrypt\",\"SHA-512\",\"X16R\",\"ECC 256K1\",\"Equihash\",\"XEVAN\",\"Lyra2Z\",\"SHA-256\",\"XEVAN\",\"X11\",\"CryptoNight\",\"Quark\",\"Blake\",\"Blake\",\"Equihash\",\"Exosis\",\"Scrypt\",\"Scrypt\",\"Equihash\",\"Quark\",\"Equihash\",\"Quark\",\"Scrypt\",\"QuBit\",\"X11\",\"Scrypt\",\"XEVAN\",\"SHA-256D\",\"X11\",\"SHA-256\",\"X13\",\"SHA-256\",\"X11\",\"DPoS\",\"Scrypt\",\"Scrypt\",\"X11\",\"NeoScrypt\",\"Scrypt\",\"Blake\",\"Scrypt\",\"SHA-256\",\"Scrypt\",\"X11\",\"Scrypt\",\"Scrypt\",\"SHA-256\",\"X11\",\"SHA-256\",\"Scrypt\",\"Scrypt\",\"Scrypt\",\"Groestl\",\"X11\",\"Scrypt\",\"PoS\",\"Scrypt\",\"Scrypt\",\"X11\",\"SHA-256\",\"DPoS\",\"Scrypt\",\"Scrypt\",\"NeoScrypt\",\"Multiple\",\"X13\",\"Equihash+Scrypt\",\"DPoS\",\"Ethash\",\"DPoS\",\"SHA-256\",\"Leased POS\",\"PoS\",\"TRC10\",\"PoS\",\"SHA-256\",\"Scrypt\",\"CryptoNight\",\"Equihash\",\"Scrypt\"],\"Class\":{\"__ndarray__\":\"AAAAAAAAAAAAAAAAAwAAAAMAAAADAAAAAAAAAAMAAAADAAAAAwAAAAAAAAADAAAAAAAAAAAAAAADAAAAAAAAAAMAAAADAAAAAAAAAAAAAAADAAAAAwAAAAMAAAADAAAAAwAAAAAAAAADAAAAAwAAAAMAAAAAAAAAAwAAAAAAAAADAAAAAwAAAAAAAAAAAAAAAwAAAAMAAAADAAAAAwAAAAMAAAADAAAAAAAAAAAAAAADAAAAAwAAAAMAAAADAAAAAwAAAAAAAAAAAAAAAwAAAAAAAAADAAAAAwAAAAMAAAADAAAAAAAAAAMAAAADAAAAAAAAAAMAAAAAAAAAAAAAAAAAAAADAAAAAwAAAAMAAAAAAAAAAAAAAAAAAAAAAAAAAAAAAAMAAAADAAAAAwAAAAAAAAAAAAAAAwAAAAAAAAADAAAAAAAAAAAAAAADAAAAAwAAAAMAAAADAAAAAAAAAAAAAAADAAAAAAAAAAMAAAADAAAAAAAAAAAAAAADAAAAAAAAAAAAAAADAAAAAwAAAAAAAAAAAAAAAwAAAAAAAAAAAAAAAwAAAAAAAAADAAAAAAAAAAMAAAAAAAAAAwAAAAAAAAAAAAAAAwAAAAMAAAAAAAAAAwAAAAMAAAADAAAAAAAAAAMAAAADAAAAAwAAAAMAAAADAAAAAAAAAAAAAAADAAAAAwAAAAMAAAAAAAAAAwAAAAAAAAADAAAAAwAAAAAAAAADAAAAAAAAAAMAAAAAAAAAAAAAAAMAAAADAAAAAAAAAAMAAAADAAAAAAAAAAAAAAADAAAAAAAAAAMAAAAAAAAAAAAAAAAAAAADAAAAAwAAAAMAAAADAAAAAAAAAAAAAAAAAAAAAAAAAAAAAAADAAAAAwAAAAAAAAAAAAAAAAAAAAAAAAAAAAAAAwAAAAAAAAAAAAAAAAAAAAAAAAAAAAAAAwAAAAAAAAADAAAAAAAAAAAAAAADAAAAAAAAAAMAAAAAAAAAAAAAAAMAAAAAAAAAAwAAAAAAAAADAAAAAAAAAAMAAAAAAAAAAAAAAAAAAAAAAAAAAwAAAAAAAAAAAAAAAAAAAAAAAAAAAAAAAwAAAAMAAAAAAAAAAAAAAAMAAAADAAAAAAAAAAAAAAAAAAAAAAAAAAAAAAADAAAAAAAAAAAAAAAAAAAAAAAAAAAAAAAAAAAAAAAAAAAAAAADAAAAAAAAAAAAAAAAAAAAAAAAAAAAAAAAAAAAAwAAAAMAAAADAAAAAAAAAAAAAAAAAAAAAAAAAAMAAAAAAAAAAwAAAAAAAAAAAAAAAwAAAAAAAAADAAAAAwAAAAAAAAADAAAAAwAAAAAAAAADAAAAAAAAAAAAAAAAAAAAAwAAAAAAAAAAAAAAAwAAAAAAAAAAAAAAAAAAAAAAAAAAAAAAAAAAAAAAAAADAAAAAAAAAAMAAAAAAAAAAAAAAAAAAAAAAAAAAwAAAAAAAAADAAAAAAAAAAMAAAADAAAAAwAAAAMAAAAAAAAAAwAAAAAAAAAAAAAAAwAAAAAAAAADAAAAAwAAAAMAAAAAAAAAAwAAAAAAAAADAAAAAwAAAAMAAAAAAAAAAwAAAAAAAAADAAAAAAAAAAAAAAAAAAAAAwAAAAAAAAADAAAAAwAAAAMAAAADAAAAAwAAAAAAAAAAAAAAAwAAAAAAAAAAAAAAAAAAAAMAAAAAAAAAAwAAAAAAAAADAAAAAAAAAAMAAAAAAAAAAAAAAAAAAAAAAAAAAwAAAAAAAAAAAAAAAwAAAAAAAAAAAAAAAAAAAAMAAAADAAAAAwAAAAMAAAAAAAAAAAAAAAAAAAAAAAAAAwAAAAAAAAADAAAAAwAAAAMAAAAAAAAAAAAAAAMAAAADAAAAAAAAAAAAAAADAAAAAAAAAAMAAAADAAAAAwAAAAAAAAADAAAAAwAAAAAAAAAAAAAAAAAAAAMAAAADAAAAAwAAAAAAAAAAAAAAAAAAAAMAAAADAAAAAAAAAAMAAAADAAAAAwAAAAMAAAAAAAAAAQAAAAEAAAADAAAAAwAAAAMAAAAAAAAAAQAAAAAAAAAAAAAAAAAAAAAAAAADAAAAAwAAAAMAAAADAAAAAAAAAAAAAAAAAAAAAwAAAAAAAAADAAAAAAAAAAAAAAAAAAAAAAAAAAMAAAAAAAAAAAAAAAMAAAAAAAAAAAAAAAMAAAADAAAAAAAAAAMAAAAAAAAAAwAAAAMAAAADAAAAAwAAAAAAAAAAAAAAAwAAAAAAAAADAAAAAAAAAAAAAAAAAAAAAAAAAAAAAAAAAAAAAwAAAAMAAAADAAAAAAAAAAAAAAAAAAAAAAAAAAAAAAAAAAAAAwAAAAAAAAADAAAAAwAAAAMAAAADAAAAAAAAAAAAAAAAAAAAAAAAAAMAAAAAAAAAAAAAAAMAAAAAAAAAAAAAAAMAAAABAAAAAwAAAAAAAAADAAAAAwAAAAAAAAAAAAAAAwAAAAAAAAADAAAAAwAAAAMAAAADAAAAAwAAAAAAAAADAAAAAAAAAAMAAAAAAAAAAAAAAAMAAAAAAAAAAAAAAAAAAAAAAAAAAAAAAAMAAAADAAAAAwAAAAAAAAAAAAAAAAAAAAMAAAAAAAAAAwAAAAAAAAADAAAAAAAAAAAAAAAAAAAAAAAAAAMAAAAAAAAAAAAAAAAAAAADAAAAAAAAAAMAAAAAAAAAAwAAAAAAAAAAAAAAAAAAAAMAAAADAAAAAAAAAAAAAAAAAAAAAAAAAAAAAAAAAAAAAwAAAAAAAAADAAAAAAAAAAMAAAAAAAAAAAAAAAEAAAAAAAAAAgAAAAAAAAAAAAAAAAAAAAMAAAADAAAAAAAAAA==\",\"dtype\":\"int32\",\"order\":\"little\",\"shape\":[532]},\"CoinName\":[\"42 Coin\",\"404Coin\",\"EliteCoin\",\"Bitcoin\",\"Ethereum\",\"Litecoin\",\"Dash\",\"Monero\",\"Ethereum Classic\",\"ZCash\",\"Bitshares\",\"DigiByte\",\"BitcoinDark\",\"PayCoin\",\"ProsperCoin\",\"KoboCoin\",\"Spreadcoin\",\"Argentum\",\"Aurora Coin\",\"BlueCoin\",\"MyriadCoin\",\"MoonCoin\",\"ZetaCoin\",\"SexCoin\",\"Quatloo\",\"EnergyCoin\",\"QuarkCoin\",\"Riecoin\",\"Digitalcoin \",\"BitBar\",\"Catcoin\",\"CryptoBullion\",\"CannaCoin\",\"CryptCoin\",\"CasinoCoin\",\"Diamond\",\"Verge\",\"DevCoin\",\"EarthCoin\",\"E-Gulden\",\"Einsteinium\",\"Emerald\",\"Exclusive Coin\",\"FlutterCoin\",\"Franko\",\"FeatherCoin\",\"GrandCoin\",\"GlobalCoin\",\"GoldCoin\",\"HoboNickels\",\"HyperStake\",\"Infinite Coin\",\"IOCoin\",\"IXcoin\",\"KrugerCoin\",\"LuckyCoin\",\"Litebar \",\"MaxCoin\",\"MegaCoin\",\"MediterraneanCoin\",\"MintCoin\",\"MinCoin\",\"MazaCoin\",\"Nautilus Coin\",\"NavCoin\",\"NobleCoin\",\"Namecoin\",\"NyanCoin\",\"OpalCoin\",\"Orbitcoin\",\"PotCoin\",\"PhoenixCoin\",\"Reddcoin\",\"RonPaulCoin\",\"StableCoin\",\"SmartCoin\",\"SuperCoin\",\"SyncCoin\",\"SysCoin\",\"TeslaCoin\",\"TigerCoin\",\"TittieCoin\",\"TorCoin\",\"TerraCoin\",\"UnbreakableCoin\",\"Unobtanium\",\"UroCoin\",\"UnitaryStatus Dollar\",\"UltraCoin\",\"ViaCoin\",\"VeriCoin\",\"Vertcoin\",\"WorldCoin\",\"X11 Coin\",\"Crypti\",\"JouleCoin\",\"StealthCoin\",\"ZCC Coin\",\"ByteCoin\",\"DigitalNote \",\"BurstCoin\",\"StorjCoin\",\"MonaCoin\",\"Neutron\",\"FairCoin\",\"Gulden\",\"RubyCoin\",\"PesetaCoin\",\"Kore\",\"Wild Beast Coin\",\"Dnotes\",\"Flo\",\"8BIT Coin\",\"Sativa Coin\",\"ArtByte\",\"Folding Coin\",\"Ucoin\",\"Unitus\",\"CypherPunkCoin\",\"OmniCron\",\"Vtorrent\",\"GreenCoin\",\"Cryptonite\",\"MasterCoin\",\"SoonCoin\",\"1Credit\",\"IslaCoin\",\"Nexus\",\"MarsCoin \",\"Crypto\",\"Anarchists Prime\",\"Droidz\",\"BowsCoin\",\"Squall Coin\",\"Song Coin\",\"BitZeny\",\"Diggits\",\"Expanse\",\"Paycon\",\"Siacoin\",\"Emercoin\",\"EverGreenCoin\",\"MindCoin\",\"I0coin\",\"Decred\",\"Revolution VR\",\"HOdlcoin\",\"EDRCoin\",\"Hitcoin\",\"Gamecredits\",\"DubaiCoin\",\"CarpeDiemCoin\",\"PWR Coin\",\"BillaryCoin\",\"GPU Coin\",\"Adzcoin\",\"SoilCoin\",\"YoCoin\",\"SibCoin\",\"EuropeCoin\",\"ZeitCoin\",\"SwingCoin\",\"SafeExchangeCoin\",\"Nebuchadnezzar\",\"Francs\",\"BolivarCoin\",\"Ratecoin\",\"Revenu\",\"Clockcoin\",\"VIP Tokens\",\"BitSend\",\"Omni\",\"Let it Ride\",\"PutinCoin\",\"iBankCoin\",\"Frankywillcoin\",\"MudraCoin\",\"PizzaCoin\",\"Lutetium Coin\",\"Komodo\",\"GoldBlocks\",\"CarterCoin\",\"Karbo\",\"BitTokens\",\"ZayedCoin\",\"MustangCoin\",\"ZoneCoin\",\"Circuits of Value\",\"RootCoin\",\"DopeCoin\",\"BitCurrency\",\"DollarCoin\",\"Swiscoin\",\"Shilling\",\"BuzzCoin\",\"Opair\",\"PesoBit\",\"Halloween Coin\",\"ZCoin\",\"CoffeeCoin\",\"RoyalCoin\",\"GanjaCoin V2\",\"TeamUP\",\"LanaCoin\",\"Elementrem\",\"ZClassic\",\"ARK\",\"InsaneCoin\",\"KiloCoin\",\"ArtexCoin\",\"EmberCoin\",\"XenixCoin\",\"FreeCoin\",\"PLNCoin\",\"AquariusCoin\",\"Kurrent\",\"Creatio\",\"Eternity\",\"Eurocoin\",\"BitcoinFast\",\"Stakenet\",\"BitConnect Coin\",\"MoneyCoin\",\"Enigma\",\"Cannabis Industry Coin\",\"Russiacoin\",\"PandaCoin\",\"GameUnits\",\"GAKHcoin\",\"Allsafe\",\"LiteCreed\",\"OsmiumCoin\",\"Bikercoins\",\"HexxCoin\",\"Klingon Empire Darsek\",\"Internet of People\",\"KushCoin\",\"Printerium\",\"PacCoin\",\"Impeach\",\"Citadel\",\"Zilbercoin\",\"FirstCoin\",\"BeaverCoin\",\"FindCoin\",\"VaultCoin\",\"Zero\",\"OpenChat\",\"Canada eCoin\",\"Zoin\",\"RenosCoin\",\"DubaiCoin\",\"VirtacoinPlus\",\"TajCoin\",\"Impact\",\"EB3coin\",\"Atmos\",\"HappyCoin\",\"Coinonat\",\"MacronCoin\",\"Condensate\",\"Independent Money System\",\"ArgusCoin\",\"LomoCoin\",\"ProCurrency\",\"GoldReserve\",\"BenjiRolls\",\"GrowthCoin\",\"ILCoin\",\"Phreak\",\"Degas Coin\",\"HTML5 Coin\",\"Ultimate Secure Cash\",\"EquiTrader\",\"QTUM\",\"Quantum Resistant Ledger\",\"Espers\",\"Dynamic\",\"Nano\",\"ChanCoin\",\"Dinastycoin\",\"Denarius\",\"DigitalPrice\",\"Virta Unique Coin\",\"Bitcoin Planet\",\"Unify\",\"BritCoin\",\"SocialCoin\",\"ArcticCoin\",\"DAS\",\"Linda\",\"LeviarCoin\",\"DeepOnion\",\"Bitcore\",\"gCn Coin\",\"SmartCash\",\"Signatum\",\"Onix\",\"Cream\",\"Bitcoin Cash\",\"Monoeci\",\"Draftcoin\",\"Vechain\",\"Sojourn Coin\",\"Stakecoin\",\"NewYorkCoin\",\"FrazCoin\",\"Kronecoin\",\"AdCoin\",\"Linx\",\"CoinonatX\",\"Ethereum Dark\",\"Sumokoin\",\"Obsidian\",\"Cardano\",\"Regalcoin\",\"BitcoinZ\",\"TrezarCoin\",\"Elements\",\"TerraNovaCoin\",\"VIVO Coin\",\"Rupee\",\"Bitcoin Gold\",\"WomenCoin\",\"Theresa May Coin\",\"NamoCoin\",\"LUXCoin\",\"Pirl\",\"Xios\",\"Bitcloud 2.0\",\"eBoost\",\"KekCoin\",\"BlackholeCoin\",\"Infinity Economics\",\"Pura\",\"Innova\",\"Ellaism\",\"GoByte\",\"Magnet\",\"Lamden Tau\",\"Electra\",\"Bitcoin Diamond\",\"SHIELD\",\"Cash & Back Coin\",\"UltraNote\",\"BitCoal\",\"DaxxCoin\",\"Bulwark\",\"Kalkulus\",\"AC3\",\"Lethean\",\"GermanCoin\",\"LiteCoin Ultra\",\"PopularCoin\",\"PhantomX\",\"Photon\",\"Sucre\",\"SparksPay\",\"Digiwage\",\"GunCoin\",\"IrishCoin\",\"Trollcoin\",\"Litecoin Plus\",\"Monkey Project\",\"Pioneer Coin\",\"UnitedBitcoin\",\"Interzone\",\"TokenPay\",\"1717 Masonic Commemorative Token\",\"My Big Coin\",\"TurtleCoin\",\"MUNcoin\",\"Unified Society USDEX\",\"Niobio Cash\",\"ShareChain\",\"Travelflex\",\"KREDS\",\"Tokyo Coin\",\"BiblePay\",\"LitecoinCash\",\"BitFlip\",\"LottoCoin\",\"Crypto Improvement Fund\",\"Stipend\",\"Poa Network\",\"Pushi\",\"Ellerium\",\"Velox\",\"Ontology\",\"Callisto Network\",\"BitTube\",\"Poseidon\",\"Aidos Kuneen\",\"Bitspace\",\"Briacoin\",\"Ignition\",\"Bitrolium\",\"MedicCoin\",\"Alpenschillling\",\"Bitcoin Green\",\"Deviant Coin\",\"Abjcoin\",\"Semux\",\"FuturoCoin\",\"Carebit\",\"Zealium\",\"Monero Classic\",\"Proton\",\"iDealCash\",\"Jumpcoin\",\"Infinex\",\"Bitcoin Incognito\",\"KEYCO\",\"HollyWoodCoin\",\"GINcoin\",\"PlatinCoin\",\"Loki\",\"Newton Coin\",\"Swisscoin\",\"Xt3ch\",\"MassGrid\",\"TheVig\",\"PluraCoin\",\"EmaratCoin\",\"Dekado\",\"Lynx\",\"Poseidon Quark\",\"BitcoinWSpectrum\",\"Muse\",\"Motion\",\"PlusOneCoin\",\"Axe\",\"Trivechain\",\"Dystem\",\"Giant\",\"Peony Coin\",\"Absolute Coin\",\"Vitae\",\"HexCoin\",\"TPCash\",\"Webchain\",\"Ryo\",\"Urals Coin\",\"Qwertycoin\",\"ARENON\",\"EUNO\",\"MMOCoin\",\"Ketan\",\"Project Pai\",\"XDNA\",\"PAXEX\",\"Azart\",\"ThunderStake\",\"Kcash\",\"Xchange\",\"Acute Angle Cloud\",\"CrypticCoin\",\"Bettex coin\",\"Actinium\",\"Bitcoin SV\",\"BitMoney\",\"Junson Ming Chan Coin\",\"FREDEnergy\",\"HerbCoin\",\"Universal Molecule\",\"Lithium\",\"PirateCash\",\"Exosis\",\"Block-Logic\",\"Oduwa\",\"Beam\",\"Galilel\",\"Bithereum\",\"Crypto Sports\",\"Credit\",\"SLICE\",\"Dash Platinum\",\"Nasdacoin\",\"Beetle Coin\",\"Titan Coin\",\"Award\",\"BLAST\",\"Bitcoin Rhodium\",\"GlobalToken\",\"Insane Coin\",\"ALAX\",\"LiteDoge\",\"SolarCoin\",\"TruckCoin\",\"UFO Coin\",\"OrangeCoin\",\"BlakeCoin\",\"BitstarCoin\",\"NeosCoin\",\"HyperCoin\",\"PinkCoin\",\"Crypto Escudo\",\"AudioCoin\",\"IncaKoin\",\"Piggy Coin\",\"Crown Coin\",\"Genstake\",\"SmileyCoin\",\"XiaoMiCoin\",\"Groestlcoin\",\"CapriCoin\",\" ClubCoin\",\"Radium\",\"Bata\",\"Pakcoin\",\"Creditbit \",\"OKCash\",\"Lisk\",\"HiCoin\",\"WhiteCoin\",\"FriendshipCoin\",\"JoinCoin\",\"Triangles Coin\",\"Vollar\",\"EOS\",\"Reality Clash\",\"Oxycoin\",\"TigerCash\",\"Waves\",\"Particl\",\"BitTorrent\",\"Nxt\",\"ZEPHYR\",\"Gapcoin\",\"Beldex\",\"Horizen\",\"BitcoinPlus\"],\"PC_1\":{\"__ndarray__\":\"32N0GeMw1b9BpuRBOiDUv6UU/XaSbQJAc1sCTT3dwb8/dnJysVLCvw35jEwoQMW/7tTLI+UV2b/475dZWMPDv3MfctmxH8K/Niv0EdOAxL873yMmBAPTvzwxcFAwLsM/uCVmX0ps07+13XORFrnRvyXa/3CsZcW/lxcFSxp3y78dhDxcfDbNvx243DYfWcW/h4rY+VAr1b/46aQB3bHUvy0YiMvzb7q/SdxCMENqBECUv6qi1H3BvydCDj5K/8S/X0Pi47RSxb9USGFPSRjVvxdu8TY4D8+/2IKp+tclyL93r3QpTlTFv+K+rRLSMNW/9Yc13Rdlxb/jMlE5kDDVv7PNGUzsZ8W/fyj652g5zb8YvbU7c1znP4K3vlndn9a/t+arPTU3xj/otxjbl3HOP7nXzLTkybQ/BKyNoJ5fxb/7FkTkx8/Ev8PQ/eGhXcW/a1h47bIw179PwnmWryHRvxIcIebJacW/+9GcLMVoxb/9W/dBusHCv8DHUGhaQsW/HJ/f3W5Lxb/mXFagHhHVv7T3xbGLGNa/OKO4MOlF+T/h0OoGLBTZv+sjSKb528G/9kFYnbbyxL9BTrArfGDFv0sAHRQZbMW/uOnaQqvI3b8aKL142lPFv+efty9D6Ma/n1cBotjvpr+1RV80NmjFv2mhPq/OE9G/OOzucpx507/bca3ZvMTRv7V9aUzbiKC/oZAi4YPewb+JTyKW1ZjEv8R6uEDrztG/adGOPnZ+1b8aMX3KpNPUv/GVhHC7FtW/WDLNM542mz+oPE7SiWfFvy1HQwQpKcW/u7FST71Wxb+WR1+1813Xv2Xk2apAGtm/ovZOdP85wL9fVdnSK4LRv+AwTO/2zMG/kI+iZnSs178/ZgJ3zhjZv53x+Ttd1sG/ULqKMc7Vwb+cKCI4JOnBv3B6IAsaP82/q8o0B5Gb07+ldSAgPhvVv7SfHINCXsW/uKACQvbd0L/BSWOxNAnJvyZKAIpx/8S/ihCtrzkY2b9weAfQ04nRv7HOh8Mqz8G/peHtTFXL0b9+0x30R5/Uv4t2M47K0w5AJWd8tS413T9yOlm1R0nIPxsECb6gUNm/Bfl1CTI5xb9QssL7Y1/TvxA6v1Vmlta/4s+1thVBw78DqNLcSXnTv6mdzlxDD8W/H7419ybQ0b80FnOSK2zFvyKOf5vMIdO/97KYutgKxb8trUT8lzDVv3a3m69ez9G/qBjMDfJHw7/Kne5TWjHBv8ZiYQI7Zde/F7ENiAKRwb9ZG847dV3Iv0pNSDEEaMW/DklCMT8s1b/ypKfhoKSkv5z50br5UcK/Co27GXZsxb9rqVGabN/Bv6trVUqi+94/4rD4SvMZ2b9COrLgAJnhv0VVKGULK82/aVYFaq2ev7990j646NbBv3wK3ubC79e/Ltfcdl40zb8LtBlrffXUv8AyrUAML8W/Wq9bQJwUxb+/jB5UIV/Tv5V6FYagdcK/I4Q7lorH0b9O3AjGOkLXPwP723p48tK/KGv6twTHy7/2oxkWhzXNv5nSfw0D3MG/VdO+3r49rr/ljJfpKejEv/vyzh6t8ri/AT5biNBr079QTY6bnu6xv6SBgaJwPcW/HKypa9ts079IQiS0ZdLRP4f4XayumM2/I8kSHjcq1b/VoZr5+1zTvxlFC6YOGs2/5RZmKlZyx79Rk+iGiEXFv9YkN9UDVsS/F8DNtp7r2L8GBdRvFh/rP1ifi7OVadO/N+9fSCtgIj/M6esLhCvXvxXrW7WVZcW/kBBtBVM0zb/QthQ5p/bYv9N2WEcFVdO/GrwUqNsu07//FPcJJI7WvxIitytABdm/TsAzl3Zsxb94tzVX3e3Xv1ql1WBNptO/zZ8KsdYq1b/8LwBkSxHVvy9SQZyUB9C/ymdbfzs5zb99dxZthpjWv6T+Sd7oQdO/HANjL1cR2b8VMBrw0B3Vv01oWo4HS9M/CYqij4ts079RGk04huTBv9liWP/FGdm/fLHoO+8t1b9dW+AIkAm+vx1HAtR/MNW/aeIta7oPxb/EhODB0VzTvz0nTJor48G/2IWDTPiG0L+JZI8kcmHFvx41bG2ZObE/Ad+v83Ia17/5mwKNLyrVv95y/jFPN9i/HQwIRE+lwr+x+GDgdg/XvyNxHJ/+HtC/bsj7wVWj3L/krdWAWQvXv+KcUVkQmc+/rGkYKjBtwr9D3j4uiIHEv0hhzXs8/Q1ATi5cARsT2b9xznm12hu4vx8kjs4egsu/G3GT0DFH6z/t8YAcCRnZv13en7sJIte/0pUI1f8o1b/2kB5GhivVv7ibBeck8sy/zOnrC4Qr179tx0EMFBLZv60Av09MatO/IapS8wIp1b+pY7/kDonXvxpHFWVsK9W/uSAm3Dbj1L/aLMmOghnZv24a4gPwStM/89KqUYEe1b8dCxwxHaXVP7bw3z+vLtW/HnJt7tYv1b/dMqZ8m5zYv7v0g9tFm9a/tJbHj91rxb/gIDSeE03TPzg7sKUOwr+/9ySK0hXy1L83pF3CKGzTv2teLVIJGNm/q0pIFjQs1b/z2ejixR3fP5Tb7N9HLtW/zDtCj+iaw7/ZydLhwXfTv1sXxRX7pdK/uDLo29Nqxb/u/J4YMhvQvyCUEEJkS8y/Ff6V6O+BxL+M2Bb79fTTv0NrF+i6LcW/21hzeZ+vv7+cPPWfhXPTv10nd9pnOsC/Ori++gQM2b/4AGjds4jXv/N9dgNg99i/vUtuiwyzwb+s/j9d0g7Xv6HJ0DlZCtm/8EZNQF1OyL/9ttf/LbPWv/xp7qHrx9i/Yqc/T1ot1b8OAmLeVi3Vv4m1w9TDvNS/UpMTEdRU0D/CF93vLRLZv+B37f6AXMW/wIBs/K1b0r8Sfok0pSy7vyLkgKMTLNe/OJjEYW8g1b+4jmRqUVDtP1M3Ao6no9G/cOmtxq1Wxb9Whjh839nXvyeHz6ZBlsO/VYga5Bwr5D+796XsgubAv0z6cWUYoaK/gY+MMXYwxb8bZ0rdEZrVP+8B8U9Fp9a/aQNixVQazb/ey9WCwo7Wv08mMICxQtq/1h+cPyFhxb+WkZRuN8rRvwHo8x9iWcW/lgeq8z8nzb+9kzJvJjrNvxv6wsyuEME/F5in2WZR0z9XoiT3X8vRv8ry2STvi8W/3aTYdSzoCUBvXnCgZrK6v5RAzrV+jda/WQpFa14PzL8wYcB9lzrav+Gva0w23cG/RP1JI6MW2b8fnT/0+HjTv4ifgkGjZRFAD70pjmLQt792VLpD4ynXv6eJ5vNLPfk/mUbnBFVkxb94kaYDYlLFvy+xnouYSMW/EHwKDStIxb+QoX39YSfVv+8dPmuPL9W/+a6qOGhU0z9JTQlpNrnWv8LWiYFAH+M/rmS+J6sV2b8kndBDno+qP8a0L8OfLNW/97Oi50dlx79lNzJr1S7VvzWhluM7Asa/GhWy9kpZ1b/0BkEO5nzEvyg70bnp+ts/8JH/2xhR0786DFm2+q3VvyiBwXMopdu/TXb6IbhJx79/jDJbBS7Vv1Q13k9FNdq/jDIV56stxb8E0Na9zifav/T5doHmK9W/r0W+bmaGur9R5u7vUKjMv3nmZoEs/cW/YXkFdKw3wr9arZkzdADGv8anj+LoAdm/tobpeysHDkCwANtWAznKP+/DQBnllNG/C0ylKktRwL8tEip0VgLVv5TsOkEtN/I/Xx+IyKdK0z+kTiU5Fzqxv+lw/pc88dS/qI/sgr2a2L8k+35T2Z/Mv48HXvzhMcK/58pJGTU4tT9EBc/7zB3Vv8Bvh/xrZ7W/UeTo3GsL2b9aVXnm0b3xP5bIe5RMOc2//Ed2gicCxr+2RRf9EY3Yv4ZdPOdHHsW/UIsaQtFLxb9z5D29UVLUv5ntviDsL9W/5gG4asVk1790QwWY2zbNvzUSkbKJ3MG/KQVcPLp4zr/Fz1RUevLXv2M5somoBtK/3Iq7GevS1r9EL4QE6w8gQNheneQTGcG/BKWd8wXn1L9zvZQKEIrTP1vBlxdhDZo/hjFYtHY5x7/LfJF4gzDHvzy0WKjbKc+/EEjdwsAgyb+5twjTN5nUvxrEvEyYXsW/1CxeUALkwT9LEyhuFXfMv6rlus1ht9m/354tGner3L9pqJVG6xbZv5FpGuPXk9G/4tGweTlr079qag6nD6rZvxMGZo7rbLi/JrMkdFTM0z+AyUI+WmbFv907LuSSWcO/qmYiHrWg1r8U4s24XjDVv2Is4RgSMNW/FL/6q+BbxL8DToUfRw/Tv0FFicjBXMK/Y0hAvz392L/vywFMQCPXv1s4zGluK9W/wpCUAXTMD0BXUVVeqhvNv8uOBMF5H9q/SANerFYm17+E52BnpE3TP7xWn1uG8tS/gulNJu7F0b/5b5zDT1DIv99VlATtt7+/tt9gTSbjyr8etG0s/z/Gv01BhvX3c9O/ACiMURKowr+dzguQ743TPxSn2rcJiuM/AZhLp2rdAED+mKfq4DTBvwnqtrIXeNO/Mo6lXakIxr9jV7ADevnTv2eO/YxKLNQ/66dCztIi1b9SvUS7NU3Iv+4Ef2ZT/wFARzHEKX5U2L/aQQE/v6XRvx550PdQRvA/VqsOw0lYyL/V7TbroDHDvxwE1Rm3OM2/9xmFCNWZ1r9oBXsVmZzYv4/+ZGbVUNq/m8kylB6wx7+YjYZvSArXvwoLYMKkh9i/ZToQLihnxb/sl3rgyLvUvzeKalzqLcK/FhP0ISyHxb/dZkr/dRS8v0D+g/XQCglAkzsg+tpd17/bc4DyTA7Zvw4wZL0DS9O/X65S6poX17+YJjxxx3S5vzlk2bfC/9S/c8gAAJZb17+iyg0mxzfNv2/FX1oyaci/SYJaXfll1b8R3iQujkXIvzLquZMfVNW/lP5274QfrL/bnXLmIcPPvwq9P7JblMK/VcP9nDbdwb/GO7FAjRTkP9ks4p6C78O/Cf4xLv9m2D93z31RSkXav9p7ZJII472/fVb6aLP8vb+0hHWtvv3Sv9JfadSo9MG/O8dTeuZCxb+s5rEefyvVvx31XVlmPcS/JWFkNMFM2r9n4/xDbXfEv2qzoCSDnti/0MopCeFj4j88zF9soUPIv2E/q/KoZde/QgcNrwgj1b/HmSjbGznRv57A5xBtFNG/9Vqs6XDm2L/jfYF/hcXBvw80x68KXL2/7buTpHegwb/Tpyz2BBLZv96luN81IA5Am/ubX8qIuj8gEcrOOuXgP3Ew1uvC6di/7zR9rLHhuL+CTzbA+RjVv9RzBEnIUbG/Ufh4l3om1b90wtMxn7nRv1zE0Tj2LtW/I4DUUwOJ2L/E5OSv30zDvyUpGQI0Vc+/VnqmpFRbtb8ixzsXbkPYv60qt/VX1sG/YzohDScj1b/F/HVUUobhPwFuQ1unsdS/KbHRtnkXyL+Ftj7m3dnYv+7KQPCbCdW/aDZNuAYw17+i4kEnrGnFvzl4LKDCJsW/Fqx+aD6D27+4UriC/VPTv9fNcawJ/g1AUyu7douZvL84cz0atNvUv+pR0JpWeNW/sqddeg+pwb8qTSoe6NHRv8IQi1hvDrS/UA/VlTgSDkBm+iH+RW7Cv0SjxgjEFA5AvElvlQKB0L8pI58iqwjdv0e/ZhL6Lte/t1W3ug0EQUDB/BsGCpTQv3oFVZek7QNAH4A5lOUQ1b9fZFCDtq7UP1ki5+zbgMS/R2ycxZR+078=\",\"dtype\":\"float64\",\"order\":\"little\",\"shape\":[532]},\"PC_2\":{\"__ndarray__\":\"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\",\"dtype\":\"float64\",\"order\":\"little\",\"shape\":[532]},\"PC_3\":{\"__ndarray__\":\"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\",\"dtype\":\"float64\",\"order\":\"little\",\"shape\":[532]},\"ProofType\":[\"PoW/PoS\",\"PoW/PoS\",\"PoW/PoS\",\"PoW\",\"PoW\",\"PoW\",\"PoW/PoS\",\"PoW\",\"PoW\",\"PoW\",\"PoS\",\"PoW\",\"PoW/PoS\",\"PoS\",\"PoW\",\"PoW/PoS\",\"PoW\",\"PoW\",\"PoW/PoS\",\"PoW/PoS\",\"PoW\",\"PoW\",\"PoW\",\"PoW\",\"PoW\",\"PoW/PoS\",\"PoW\",\"PoW\",\"PoW\",\"PoW/PoS\",\"PoW\",\"PoW/PoS\",\"PoW\",\"PoW\",\"PoC\",\"PoW/PoS\",\"PoW\",\"PoW\",\"PoW\",\"PoW\",\"PoW\",\"PoW\",\"PoS\",\"PoS/PoW/PoT\",\"PoW\",\"PoW\",\"PoW\",\"PoW\",\"PoW\",\"PoW/PoS\",\"PoS\",\"PoW\",\"PoW/PoS\",\"PoW\",\"PoW\",\"PoW\",\"PoW\",\"PoW/PoS\",\"PoW\",\"PoW\",\"PoS\",\"PoW\",\"PoW/PoS\",\"PoS\",\"PoW/PoS\",\"PoW\",\"PoW\",\"PoW\",\"PoW/PoS\",\"PoW/PoS\",\"PoW/PoS\",\"PoW/PoS\",\"PoW/PoS\",\"PoW\",\"PoW\",\"PoW\",\"PoS\",\"PoW/PoS\",\"PoW\",\"PoS\",\"PoW\",\"PoS\",\"PoW/PoS\",\"PoW\",\"PoW\",\"PoW\",\"PoW\",\"PoW/PoS\",\"PoW/PoS\",\"PoW\",\"PoST\",\"PoW\",\"PoW\",\"PoW/PoS\",\"PoS\",\"PoW\",\"PoW/PoS\",\"PoW/PoS\",\"PoW\",\"PoW\",\"PoC\",\"PoS\",\"PoW\",\"PoW/PoS\",\"PoW/PoS\",\"PoW\",\"PoS\",\"PoW\",\"PoW/PoS\",\"PoW\",\"PoS\",\"PoW\",\"PoW/PoS\",\"PoW/PoS\",\"PoW\",\"PoW\",\"PoS\",\"PoW\",\"PoW\",\"PoW\",\"PoW/PoS\",\"PoW\",\"PoW\",\"PoW\",\"PoW\",\"PoW\",\"PoW/PoS\",\"PoW/nPoS\",\"PoW\",\"PoW\",\"PoW\",\"PoW/PoS\",\"PoW\",\"PoS/PoW\",\"PoW\",\"PoW\",\"PoS\",\"PoW\",\"PoW/PoS\",\"PoW\",\"PoW/PoS\",\"PoW/PoS\",\"PoW\",\"PoW\",\"PoW/PoS\",\"PoW\",\"PoW\",\"PoW/PoS\",\"PoW/PoS\",\"PoW\",\"PoW/PoS\",\"PoW\",\"PoW/PoS\",\"PoW/PoS\",\"PoS\",\"PoW\",\"PoW\",\"PoW\",\"PoW\",\"PoW/PoS\",\"PoS\",\"PoW/PoS\",\"PoC\",\"PoS\",\"PoW\",\"PoW\",\"PoW/PoS\",\"PoW/PoS\",\"PoW/PoS\",\"PoW/PoS\",\"PoW/PoS\",\"PoW\",\"PoS\",\"PoW/PoS\",\"PoW/PoS\",\"PoW/PoS\",\"PoS\",\"PoW\",\"PoS\",\"dPoW/PoW\",\"PoW/PoS\",\"PoW/PoS\",\"PoW\",\"PoW/PoS\",\"PoW\",\"PoW/PoS\",\"PoW/PoS\",\"PoW\",\"PoW/PoS\",\"PoW\",\"PoS\",\"PoW\",\"PoW/PoW\",\"PoW\",\"PoW/PoS\",\"PoS\",\"PoW/PoS\",\"PoW/PoS\",\"PoW\",\"PoS\",\"PoS\",\"PoW/PoS\",\"PoS\",\"PoW/PoS\",\"PoW\",\"PoW\",\"DPoS\",\"PoW/PoS\",\"PoW\",\"PoW\",\"PoW/PoS\",\"PoW/PoS\",\"PoS\",\"PoW/PoS\",\"PoW/PoS\",\"PoW\",\"PoS\",\"PoW/PoS\",\"PoW/PoS\",\"PoW/PoS\",\"TPoS\",\"PoW/PoS\",\"PoW/PoS\",\"PoW/PoS\",\"PoW\",\"PoW/PoS\",\"PoS\",\"PoW/PoS\",\"PoW/PoS\",\"PoS\",\"PoW/PoS\",\"PoW\",\"PoW\",\"PoW\",\"PoW/PoS\",\"PoW/PoS\",\"PoW/PoS\",\"PoW/PoS\",\"PoW\",\"PoW/PoS\",\"PoW\",\"PoS\",\"PoW/PoS \",\"PoW\",\"PoS\",\"PoW\",\"PoW\",\"PoW/PoS\",\"PoW\",\"PoW\",\"PoS\",\"PoW\",\"PoW/PoS\",\"PoW/PoS\",\"PoW/PoS\",\"PoW\",\"PoS\",\"PoW/PoS\",\"PoW\",\"PoS\",\"PoW/PoS\",\"PoW/PoS\",\"PoW/PoS\",\"PoW/PoS\",\"PoS\",\"PoW/PoS\",\"PoW\",\"PoS\",\"PoW\",\"PoS\",\"PoW/PoS\",\"PoW/PoS\",\"PoS\",\"PoW\",\"PoS\",\"PoW\",\"PoW/PoS\",\"PoW\",\"PoW\",\"PoW\",\"PoW\",\"PoW/PoS\",\"PoW\",\"PoW/PoS\",\"PoW/PoS\",\"PoW\",\"PoW/PoS\",\"PoW\",\"PoW\",\"PoW\",\"PoW/PoS\",\"PoW\",\"PoW/PoS\",\"PoW\",\"PoW\",\"PoW\",\"PoS\",\"PoW\",\"PoW/PoS\",\"PoW\",\"PoW/PoS\",\"PoS\",\"Proof of Authority\",\"PoW\",\"PoS\",\"PoW\",\"PoW\",\"PoW\",\"PoW\",\"PoW\",\"PoW/PoS\",\"PoW/PoS\",\"PoW\",\"PoS\",\"PoS\",\"PoW/PoS\",\"PoW\",\"PoW/PoS\",\"PoW\",\"PoW/PoS\",\"PoW\",\"PoS\",\"PoW\",\"PoW/PoS\",\"PoW/PoS\",\"PoW/PoS\",\"PoW/PoS\",\"PoW\",\"PoW/PoS\",\"PoW/PoS\",\"PoW\",\"PoS\",\"PoW/PoS\",\"PoS\",\"PoW\",\"PoW\",\"PoW\",\"PoW\",\"PoW/PoS\",\"DPoS\",\"PoW/PoS\",\"PoW/PoS\",\"PoW\",\"PoW/PoS\",\"PoW\",\"PoW\",\"PoW\",\"PoS\",\"PoS\",\"PoW\",\"PoW\",\"PoW/PoS\",\"PoW/PoS\",\"PoW\",\"PoW/PoS\",\"PoW\",\"PoW\",\"PoW\",\"PoS\",\"PoW\",\"PoW\",\"PoW/PoS\",\"PoW/PoS\",\"PoS\",\"PoW\",\"PoW\",\"PoW\",\"PoS\",\"PoS\",\"PoW and PoS\",\"PoW\",\"PoW\",\"PoW/PoS\",\"PoW\",\"PoW\",\"PoW\",\"PoW\",\"PoS\",\"POBh\",\"PoW + Hive\",\"PoW\",\"PoW\",\"PoW\",\"PoW/PoS\",\"PoA\",\"PoW/PoS\",\"PoW/PoS\",\"PoS\",\"PoS\",\"PoW\",\"PoW\",\"PoW\",\"PoW\",\"PoW/PoS\",\"PoW/PoS\",\"PoW/PoS\",\"PoW\",\"PoS\",\"PoW\",\"PoS\",\"PoS\",\"PoW/PoS\",\"DPoS\",\"PoW\",\"PoW/PoS\",\"PoS\",\"PoW\",\"PoS\",\"PoW/PoS\",\"PoW\",\"PoW\",\"PoS/PoW\",\"PoW\",\"PoS\",\"PoW\",\"PoW\",\"PoW\",\"PoW\",\"PoW/PoS\",\"PoS\",\"PoW\",\"PoW/PoS\",\"PoW\",\"PoW/PoS\",\"PoS\",\"HPoW\",\"PoS\",\"PoS\",\"PoS\",\"PoW\",\"PoW\",\"PoW\",\"PoW/PoS\",\"PoS\",\"PoW/PoS\",\"PoS\",\"PoW/PoS\",\"PoS\",\"PoW\",\"PoW/PoS\",\"PoW\",\"PoW\",\"PoW\",\"PoW\",\"PoS\",\"PoW/PoS\",\"PoS\",\"PoS\",\"PoW\",\"PoW/PoS\",\"PoS\",\"PoW\",\"PoW/PoS\",\"Zero-Knowledge Proof\",\"PoW\",\"DPOS\",\"PoW\",\"PoS\",\"PoW\",\"PoW\",\"Pos\",\"PoS\",\"PoW\",\"PoW/PoS\",\"PoW\",\"PoW\",\"PoS\",\"PoW\",\"PoW\",\"PoW/PoS\",\"PoW\",\"PoW/PoS\",\"PoW\",\"PoS\",\"PoW/PoS\",\"PoW\",\"PoS\",\"PoW/PoS\",\"PoW/PoS\",\"PoW/PoS\",\"PoW/PoS\",\"PoW\",\"PoW\",\"PoW\",\"PoW/PoS\",\"DPoS\",\"PoW/PoS\",\"PoW\",\"PoW/PoS\",\"PoW\",\"PoW/PoS\",\"PoW\",\"PoW/PoS\",\"PoS\",\"PoW/PoS\",\"PoW/PoS\",\"PoW\",\"PoW/PoS\",\"PoW/PoS\",\"PoW/PoS\",\"PoW\",\"PoW/PoS\",\"PoW\",\"PoW/PoS\",\"PoW\",\"PoW/PoS\",\"PoW/PoS\",\"PoS\",\"PoW\",\"PoW\",\"Proof of Trust\",\"PoW/PoS\",\"DPoS\",\"PoS\",\"PoW/PoS\",\"PoW/PoS\",\"PoW\",\"PoW/PoS\",\"PoW\",\"DPoS\",\"PoW\",\"DPoS\",\"PoS\",\"LPoS\",\"PoS\",\"DPoS\",\"PoS/LPoS\",\"DPoS\",\"PoW/PoS\",\"PoW\",\"PoW\",\"PoS\"],\"TotalCoinSupply\":[\"42\",\"532000000\",\"314159265359\",\"21000000\",\"0\",\"84000000\",\"22000000\",\"0\",\"210000000\",\"21000000\",\"3600570502\",\"21000000000\",\"22000000\",\"12500000\",\"21000000\",\"350000000\",\"20000000\",\"64000000\",\"16768584\",\"0\",\"2000000000\",\"384000000000\",\"169795588\",\"250000000\",\"100000000\",\"0\",\"247000000\",\"84000000\",\"48166000\",\"500000\",\"21000000 \",\"1000000\",\"13140000\",\"18000000\",\"40000000000\",\"4380000\",\"16555000000\",\"21000000000\",\"13500000000\",\"21000000 \",\"299792458\",\"32000000\",\"0\",\"0\",\"11235813\",\"336000000\",\"1420609614\",\"70000000\",\"72245700\",\"120000000\",\"0\",\"90600000000\",\"22000000\",\"21000000\",\"265420800\",\"20000000\",\"1350000\",\"100000000\",\"42000000\",\"200000000\",\"0\",\"10000000\",\"2419200000\",\"16180000\",\"0\",\"15000000000\",\"21000000\",\"337000000\",\"0\",\"3770000\",\"420000000\",\"98000000\",\"0\",\"21000000\",\"250000000\",\"51200000\",\"0\",\"1000\",\"888000000\",\"100000000\",\"47011968\",\"2300000000\",\"10000000\",\"42000000\",\"80000000\",\"250000\",\"0\",\"1600000000\",\"100000000\",\"23000000\",\"0\",\"84000000\",\"265420800\",\"5500000\",\"0\",\"45000000\",\"0\",\"1000000000\",\"184467440735\",\"10000000000\",\"2158812800\",\"500000000\",\"105120000\",\"68000000\",\"0\",\"1680000000\",\"0\",\"166386000\",\"12000000\",\"2628000\",\"500000000\",\"160000000\",\"0\",\"10000000\",\"1000000000\",\"1000000000\",\"20000000\",\"0\",\"0\",\"3371337\",\"20000000\",\"10000000000\",\"1840000000\",\"619478\",\"21000000\",\"92000000000\",\"0\",\"78000000\",\"33000000\",\"65789100\",\"53760000\",\"5060000\",\"21000000\",\"0\",\"210240000\",\"250000000\",\"100000000\",\"16906397\",\"50000000\",\"0\",\"1000000000\",\"26298000\",\"16000000\",\"21000000\",\"21000000\",\"210000000\",\"81962100\",\"22000000\",\"26550000000\",\"84000000\",\"10500000\",\"21626280000 \",\"0\",\"42000000\",\"221052632\",\"84000000\",\"30000000\",\"168351300\",\"24000000\",\"384000000\",\" 99000000000\",\"40000000\",\"2147483647\",\"20000000\",\"20000000\",\"25000000\",\"75000000\",\"222725000\",\"525000000\",\"90000000\",\"139000000\",\"616448\",\"33500000\",\"2000000000\",\"44333333\",\"100000000\",\"200000000\",\"25000000\",\"657000000\",\"200000000\",\"50000000\",\"90000000\",\"10000000\",\"21000000\",\"9736000\",\"3000000\",\"21000000\",\"1200000000\",\"0\",\"200000000\",\"0\",\"10638298\",\"3100000000\",\"30000000\",\"20000000000\",\"74000000\",\"0\",\"1500000000\",\"21400000\",\"39999898\",\"2500124\",\"100000000\",\"301000000\",\"7506000000\",\"26205539\",\"21000000\",\"125000000\",\"30000000\",\"10000000000\",\"500000000\",\"850000000\",\"3853326.77707314\",\"50000000\",\"38540000 \",\"42000000\",\"228000000\",\"20000000\",\"60000000\",\"20000000\",\"33000000\",\"76500000\",\"28000000\",\"650659833\",\"5000000\",\"21000000\",\"144000000\",\"32514916898\",\"13000000\",\"3315789\",\"15000000\",\"78835200\",\"2714286\",\"25000000\",\"9999999\",\"500000000\",\"21000000\",\"9354000\",\"20000000\",\"100000000000\",\"21933333\",\"185000000\",\"55000000\",\"110000000\",\"3360000\",\"14524851.4827\",\"1000000000\",\"17000000\",\"1000000000\",\"100000000 \",\"21000000\",\"34426423\",\"2232901\",\"100000000\",\"36900000\",\"110000000\",\"4000000000\",\"110290030\",\"100000000\",\"48252000\",\"400000000\",\"500000000\",\"21212121\",\"28600000\",\"1000000000\",\"75000000000\",\"40000000\",\"35520400\",\"2000000000\",\"2500000000\",\"30000000\",\"105000000\",\"90000000000\",\"200084200\",\"72000000\",\"100000000\",\"105000000\",\"50000000000\",\"0\",\"340282367\",\"30000000\",\"2000000000\",\"10000000\",\"100000000\",\"120000000\",\"100000000\",\"19276800\",\"30000000\",\" 75000000\",\"60000000\",\"18900000\",\"50000000000\",\"54000000\",\"18898187.6216583\",\"21000000\",\"200000000000\",\"5000000000\",\"137500000\",\"1100000000\",\"100000000\",\"21000000\",\"9507271\",\"17405891.19707116\",\"86712634466\",\"10500000000\",\"61599965\",\"0\",\"20000000\",\"84000000\",\"100000000\",\"100000000\",\"48252000\",\"4200000\",\"88888888\",\"91388946\",\"45000000000\",\"27000000\",\"21000000000\",\"400000000\",\"1800000000\",\"15733333\",\"27000000\",\"24000000\",\"21000000\",\"25000000000\",\"100000000\",\"1200000000\",\"60000000\",\"156306732.71\",\"21000000\",\"200000000\",\"100000000\",\"21000000\",\"14788275.991\",\"9000000000\",\"350000000\",\"45000000\",\"280000000\",\"31800000\",\"144000000\",\"500000000\",\"30000000000\",\"210000000\",\"660000000\",\"210000000\",\"85000000000\",\"12500000\",\"10000000000\",\"27716121\",\"20000000\",\"550000000\",\"999481516\",\"50000000000\",\"150000000\",\"4999999999\",\"50000000\",\" 90000000000\",\"19800000\",\"21000000\",\"120000000\",\"500000000\",\"64000000\",\"900000000\",\"4000000\",\"21000000\",\"23000000\",\"20166000\",\"23000000\",\"25000000\",\"1618033\",\"30000000\",\"1000000000000\",\"16600000\",\"232000000\",\"336000000\",\"10000000000\",\"100000000\",\"1100000000\",\"800000000\",\"5200000000\",\"840000000\",\"40000000\",\"18406979840\",\"500000000\",\"19340594\",\"252460800\",\"25000000\",\"60000000\",\"124000000\",\"1000000000\",\"6500000000\",\"1000000000\",\"21000000\",\"25000000\",\"50000000\",\"3000000\",\"5000000\",\"70000000\",\"500000000\",\"300000000\",\"21000000\",\"88000000\",\"30000000\",\"100000000\",\"100000000\",\"200000000\",\"80000000\",\"18400000\",\"45000000\",\"5121951220\",\"21000000\",\"26280000\",\"21000000\",\"18000000\",\"26000000\",\"10500000\",\"600000518\",\"150000000\",\"184000000000\",\"10200000000\",\"44000000\",\"168000000\",\"100000000\",\"1000000000\",\"84000000\",\"90000000\",\"92000000000\",\"650000000 \",\"100262205\",\"18081806 \",\"22075700\",\"21000000\",\"21000000\",\"82546564\",\"21000000\",\"5151000\",\"16880000000\",\"52500000\",\"100000000\",\"22105263\",\"1000000000\",\"1750000000\",\"88188888\",\"210000000\",\"184470000000\",\"55000000\",\"50000000\",\"260000000\",\"210000000\",\"2100000000\",\"366000000\",\"100000000\",\"25000000\",\"18000000000\",\"1000000000\",\"100000000\",\"1000000000\",\"7600000000\",\"50000000\",\"84000000\",\"21000000\",\"70000000000\",\"0\",\"8080000000\",\"54000000\",\"105120001.44\",\"25228800\",\"105000000\",\"21000000\",\"120000000\",\"21000000\",\"262800000\",\"19035999\",\"30886000\",\"13370000\",\"74800000000\",\"100000000\",\"19700000\",\"84000000\",\"500000000\",\"5000000000\",\"420000000\",\"64000000\",\"2100000\",\"168000000\",\"30000000\",\"1000000000\",\"35000000000\",\"98100000000\",\"0\",\"4000000000\",\"200000000\",\"7000000000\",\"54256119\",\"21000000\",\"0\",\"500000000\",\"1000000000\",\"10500000000\",\"190000000\",\"1000000000\",\"42000000\",\"15000000\",\"50000000000\",\"400000000\",\"105000000\",\"208000000\",\"160000000\",\"9000000\",\"5000000\",\"182000000\",\"16504333\",\"105000000\",\"159918400\",\"10008835635\",\"300000000\",\"60168145\",\"2800000\",\"120000\",\"2100000000\",\"0\",\"24487944\",\"0\",\"1000000000\",\"100000000\",\"8634140\",\"990000000000\",\"1000000000\",\"2000000000\",\"250000000\",\"1400222610\",\"21000000\",\"1000000\"],\"TotalCoinsMined\":{\"__ndarray__\":\"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\",\"dtype\":\"float64\",\"order\":\"little\",\"shape\":[532]}},\"selected\":{\"id\":\"2344\"},\"selection_policy\":{\"id\":\"2393\"}},\"id\":\"2343\",\"type\":\"ColumnDataSource\"},{\"attributes\":{\"format\":\"0,0.0[00000]\"},\"id\":\"2370\",\"type\":\"NumberFormatter\"},{\"attributes\":{\"editor\":{\"id\":\"2371\"},\"field\":\"PC_2\",\"formatter\":{\"id\":\"2370\"},\"title\":\"PC 2\"},\"id\":\"2372\",\"type\":\"TableColumn\"},{\"attributes\":{\"editor\":{\"id\":\"2376\"},\"field\":\"PC_3\",\"formatter\":{\"id\":\"2375\"},\"title\":\"PC 3\"},\"id\":\"2377\",\"type\":\"TableColumn\"},{\"attributes\":{},\"id\":\"2381\",\"type\":\"StringEditor\"},{\"attributes\":{},\"id\":\"2376\",\"type\":\"NumberEditor\"},{\"attributes\":{\"editor\":{\"id\":\"2366\"},\"field\":\"PC_1\",\"formatter\":{\"id\":\"2365\"},\"title\":\"PC 1\"},\"id\":\"2367\",\"type\":\"TableColumn\"},{\"attributes\":{},\"id\":\"2385\",\"type\":\"NumberFormatter\"},{\"attributes\":{\"columns\":[{\"id\":\"2347\"},{\"id\":\"2352\"},{\"id\":\"2357\"},{\"id\":\"2362\"},{\"id\":\"2367\"},{\"id\":\"2372\"},{\"id\":\"2377\"},{\"id\":\"2382\"},{\"id\":\"2387\"}],\"height\":300,\"reorderable\":false,\"source\":{\"id\":\"2343\"},\"view\":{\"id\":\"2392\"},\"width\":700},\"id\":\"2390\",\"type\":\"DataTable\"},{\"attributes\":{\"editor\":{\"id\":\"2361\"},\"field\":\"TotalCoinSupply\",\"formatter\":{\"id\":\"2360\"},\"title\":\"TotalCoinSupply\"},\"id\":\"2362\",\"type\":\"TableColumn\"},{\"attributes\":{},\"id\":\"2366\",\"type\":\"NumberEditor\"},{\"attributes\":{},\"id\":\"2346\",\"type\":\"StringEditor\"},{\"attributes\":{},\"id\":\"2360\",\"type\":\"StringFormatter\"},{\"attributes\":{},\"id\":\"2356\",\"type\":\"NumberEditor\"},{\"attributes\":{\"editor\":{\"id\":\"2386\"},\"field\":\"Class\",\"formatter\":{\"id\":\"2385\"},\"title\":\"Class\"},\"id\":\"2387\",\"type\":\"TableColumn\"},{\"attributes\":{},\"id\":\"2371\",\"type\":\"NumberEditor\"},{\"attributes\":{\"editor\":{\"id\":\"2351\"},\"field\":\"ProofType\",\"formatter\":{\"id\":\"2350\"},\"title\":\"ProofType\"},\"id\":\"2352\",\"type\":\"TableColumn\"},{\"attributes\":{\"margin\":[5,5,5,5],\"name\":\"HSpacer02226\",\"sizing_mode\":\"stretch_width\"},\"id\":\"2342\",\"type\":\"Spacer\"},{\"attributes\":{\"format\":\"0,0.0[00000]\"},\"id\":\"2355\",\"type\":\"NumberFormatter\"},{\"attributes\":{},\"id\":\"2344\",\"type\":\"Selection\"},{\"attributes\":{},\"id\":\"2345\",\"type\":\"StringFormatter\"},{\"attributes\":{},\"id\":\"2350\",\"type\":\"StringFormatter\"},{\"attributes\":{\"editor\":{\"id\":\"2346\"},\"field\":\"Algorithm\",\"formatter\":{\"id\":\"2345\"},\"title\":\"Algorithm\"},\"id\":\"2347\",\"type\":\"TableColumn\"},{\"attributes\":{\"format\":\"0,0.0[00000]\"},\"id\":\"2365\",\"type\":\"NumberFormatter\"},{\"attributes\":{\"children\":[{\"id\":\"2342\"},{\"id\":\"2390\"},{\"id\":\"2395\"}],\"margin\":[0,0,0,0],\"name\":\"Row02222\",\"tags\":[\"embedded\"]},\"id\":\"2341\",\"type\":\"Row\"}],\"root_ids\":[\"2341\"]},\"title\":\"Bokeh Application\",\"version\":\"2.4.3\"}};\n    var render_items = [{\"docid\":\"6c2d111d-05cd-4ca5-9402-cd54d924e919\",\"root_ids\":[\"2341\"],\"roots\":{\"2341\":\"71813c6b-1634-4d64-9ef1-4bd9a31ff80a\"}}];\n    root.Bokeh.embed.embed_items_notebook(docs_json, render_items);\n  }\n  if (root.Bokeh !== undefined && root.Bokeh.Panel !== undefined) {\n    embed_document(root);\n  } else {\n    var attempts = 0;\n    var timer = setInterval(function(root) {\n      if (root.Bokeh !== undefined && root.Bokeh.Panel !== undefined) {\n        clearInterval(timer);\n        embed_document(root);\n      } else if (document.readyState == \"complete\") {\n        attempts++;\n        if (attempts > 200) {\n          clearInterval(timer);\n          console.log(\"Bokeh: ERROR: Unable to run BokehJS code because BokehJS library is missing\");\n        }\n      }\n    }, 25, root)\n  }\n})(window);</script>",
      "application/vnd.holoviews_exec.v0+json": "",
      "text/plain": ":Table   [Algorithm,ProofType,TotalCoinsMined,TotalCoinSupply,PC 1,PC 2,PC 3,CoinName,Class]"
     },
     "execution_count": 93,
     "metadata": {
      "application/vnd.holoviews_exec.v0+json": {
       "id": "2341"
      }
     },
     "output_type": "execute_result"
    }
   ],
   "source": [
    "# Create a table with tradable cryptocurrencies.\n",
    "clustered_df.hvplot.table(sortable=True, selectable=True)"
   ]
  },
  {
   "cell_type": "code",
   "execution_count": 94,
   "metadata": {},
   "outputs": [
    {
     "name": "stdout",
     "output_type": "stream",
     "text": [
      "There are 532 tradable cryptocurrencies. \n"
     ]
    }
   ],
   "source": [
    "# Print the total number of tradable cryptocurrencies\n",
    "index_series  = clustered_df.index\n",
    "tradable_str_count = str(len(index_series))\n",
    "print(f\"There are \" + tradable_str_count + \" tradable cryptocurrencies. \")"
   ]
  },
  {
   "cell_type": "code",
   "execution_count": 95,
   "metadata": {},
   "outputs": [
    {
     "data": {
      "text/plain": "numpy.ndarray"
     },
     "execution_count": 95,
     "metadata": {},
     "output_type": "execute_result"
    }
   ],
   "source": [
    "# Scaling data to create the scatter plot with tradable cryptocurrencies.\n",
    "minmax_scaler = MinMaxScaler()\n",
    "scaled_clustered = minmax_scaler.fit_transform(clustered_df[['TotalCoinSupply', 'TotalCoinsMined']])\n",
    "type(scaled_clustered)\n"
   ]
  },
  {
   "cell_type": "code",
   "execution_count": 96,
   "metadata": {},
   "outputs": [
    {
     "data": {
      "text/plain": "      TotalCoinSupply  TotalCoinsMined          CoinName  Class\n                                                               \n42       4.200000e-11         0.000000           42 Coin      0\n404      5.320000e-04         0.001066           404Coin      0\n1337     3.141593e-01         0.029576         EliteCoin      0\nBTC      2.100000e-05         0.000018           Bitcoin      3\nETH      0.000000e+00         0.000109          Ethereum      3\nLTC      8.400000e-05         0.000064          Litecoin      3\nDASH     2.200000e-05         0.000009              Dash      0\nXMR      0.000000e+00         0.000017            Monero      3\nETC      2.100000e-04         0.000115  Ethereum Classic      3\nZEC      2.100000e-05         0.000007             ZCash      3",
      "text/html": "<div>\n<style scoped>\n    .dataframe tbody tr th:only-of-type {\n        vertical-align: middle;\n    }\n\n    .dataframe tbody tr th {\n        vertical-align: top;\n    }\n\n    .dataframe thead th {\n        text-align: right;\n    }\n</style>\n<table border=\"1\" class=\"dataframe\">\n  <thead>\n    <tr style=\"text-align: right;\">\n      <th></th>\n      <th>TotalCoinSupply</th>\n      <th>TotalCoinsMined</th>\n      <th>CoinName</th>\n      <th>Class</th>\n    </tr>\n    <tr>\n      <th></th>\n      <th></th>\n      <th></th>\n      <th></th>\n      <th></th>\n    </tr>\n  </thead>\n  <tbody>\n    <tr>\n      <th>42</th>\n      <td>4.200000e-11</td>\n      <td>0.000000</td>\n      <td>42 Coin</td>\n      <td>0</td>\n    </tr>\n    <tr>\n      <th>404</th>\n      <td>5.320000e-04</td>\n      <td>0.001066</td>\n      <td>404Coin</td>\n      <td>0</td>\n    </tr>\n    <tr>\n      <th>1337</th>\n      <td>3.141593e-01</td>\n      <td>0.029576</td>\n      <td>EliteCoin</td>\n      <td>0</td>\n    </tr>\n    <tr>\n      <th>BTC</th>\n      <td>2.100000e-05</td>\n      <td>0.000018</td>\n      <td>Bitcoin</td>\n      <td>3</td>\n    </tr>\n    <tr>\n      <th>ETH</th>\n      <td>0.000000e+00</td>\n      <td>0.000109</td>\n      <td>Ethereum</td>\n      <td>3</td>\n    </tr>\n    <tr>\n      <th>LTC</th>\n      <td>8.400000e-05</td>\n      <td>0.000064</td>\n      <td>Litecoin</td>\n      <td>3</td>\n    </tr>\n    <tr>\n      <th>DASH</th>\n      <td>2.200000e-05</td>\n      <td>0.000009</td>\n      <td>Dash</td>\n      <td>0</td>\n    </tr>\n    <tr>\n      <th>XMR</th>\n      <td>0.000000e+00</td>\n      <td>0.000017</td>\n      <td>Monero</td>\n      <td>3</td>\n    </tr>\n    <tr>\n      <th>ETC</th>\n      <td>2.100000e-04</td>\n      <td>0.000115</td>\n      <td>Ethereum Classic</td>\n      <td>3</td>\n    </tr>\n    <tr>\n      <th>ZEC</th>\n      <td>2.100000e-05</td>\n      <td>0.000007</td>\n      <td>ZCash</td>\n      <td>3</td>\n    </tr>\n  </tbody>\n</table>\n</div>"
     },
     "execution_count": 96,
     "metadata": {},
     "output_type": "execute_result"
    }
   ],
   "source": [
    "# Create a new DataFrame that has the scaled data with the clustered_df DataFrame index.\n",
    "scaled_clustered_df = pd.DataFrame(\n",
    "        data = scaled_clustered,\n",
    "        columns=['TotalCoinSupply', 'TotalCoinsMined'], index= clustered_df.index)\n",
    "\n",
    "\n",
    "# Add the \"CoinName\" column from the clustered_df DataFrame to the new DataFrame.\n",
    "scaled_clustered_df[\"CoinName\"] = clustered_df[\"CoinName\"]\n",
    "\n",
    "# Add the \"Class\" column from the clustered_df DataFrame to the new DataFrame. \n",
    "scaled_clustered_df[\"Class\"] = clustered_df[\"Class\"]\n",
    "\n",
    "scaled_clustered_df.head(10)"
   ]
  },
  {
   "cell_type": "code",
   "execution_count": 97,
   "metadata": {},
   "outputs": [
    {
     "data": {},
     "metadata": {},
     "output_type": "display_data"
    },
    {
     "data": {
      "text/html": "<div id='2407'>\n  <div class=\"bk-root\" id=\"5db863b4-00d1-4ee4-a4bb-d9f1ea7f5f74\" data-root-id=\"2407\"></div>\n</div>\n<script type=\"application/javascript\">(function(root) {\n  function embed_document(root) {\n    var docs_json = {\"57d696a6-3bb0-4a20-ba3a-fb34e993e421\":{\"defs\":[{\"extends\":null,\"module\":null,\"name\":\"ReactiveHTML1\",\"overrides\":[],\"properties\":[]},{\"extends\":null,\"module\":null,\"name\":\"FlexBox1\",\"overrides\":[],\"properties\":[{\"default\":\"flex-start\",\"kind\":null,\"name\":\"align_content\"},{\"default\":\"flex-start\",\"kind\":null,\"name\":\"align_items\"},{\"default\":\"row\",\"kind\":null,\"name\":\"flex_direction\"},{\"default\":\"wrap\",\"kind\":null,\"name\":\"flex_wrap\"},{\"default\":\"flex-start\",\"kind\":null,\"name\":\"justify_content\"}]},{\"extends\":null,\"module\":null,\"name\":\"GridStack1\",\"overrides\":[],\"properties\":[{\"default\":\"warn\",\"kind\":null,\"name\":\"mode\"},{\"default\":null,\"kind\":null,\"name\":\"ncols\"},{\"default\":null,\"kind\":null,\"name\":\"nrows\"},{\"default\":true,\"kind\":null,\"name\":\"allow_resize\"},{\"default\":true,\"kind\":null,\"name\":\"allow_drag\"},{\"default\":[],\"kind\":null,\"name\":\"state\"}]},{\"extends\":null,\"module\":null,\"name\":\"click1\",\"overrides\":[],\"properties\":[{\"default\":\"\",\"kind\":null,\"name\":\"terminal_output\"},{\"default\":\"\",\"kind\":null,\"name\":\"debug_name\"},{\"default\":0,\"kind\":null,\"name\":\"clears\"}]},{\"extends\":null,\"module\":null,\"name\":\"NotificationAreaBase1\",\"overrides\":[],\"properties\":[{\"default\":\"bottom-right\",\"kind\":null,\"name\":\"position\"},{\"default\":0,\"kind\":null,\"name\":\"_clear\"}]},{\"extends\":null,\"module\":null,\"name\":\"NotificationArea1\",\"overrides\":[],\"properties\":[{\"default\":[],\"kind\":null,\"name\":\"notifications\"},{\"default\":\"bottom-right\",\"kind\":null,\"name\":\"position\"},{\"default\":0,\"kind\":null,\"name\":\"_clear\"},{\"default\":[{\"background\":\"#ffc107\",\"icon\":{\"className\":\"fas fa-exclamation-triangle\",\"color\":\"white\",\"tagName\":\"i\"},\"type\":\"warning\"},{\"background\":\"#007bff\",\"icon\":{\"className\":\"fas fa-info-circle\",\"color\":\"white\",\"tagName\":\"i\"},\"type\":\"info\"}],\"kind\":null,\"name\":\"types\"}]},{\"extends\":null,\"module\":null,\"name\":\"Notification\",\"overrides\":[],\"properties\":[{\"default\":null,\"kind\":null,\"name\":\"background\"},{\"default\":3000,\"kind\":null,\"name\":\"duration\"},{\"default\":null,\"kind\":null,\"name\":\"icon\"},{\"default\":\"\",\"kind\":null,\"name\":\"message\"},{\"default\":null,\"kind\":null,\"name\":\"notification_type\"},{\"default\":false,\"kind\":null,\"name\":\"_destroyed\"}]},{\"extends\":null,\"module\":null,\"name\":\"TemplateActions1\",\"overrides\":[],\"properties\":[{\"default\":0,\"kind\":null,\"name\":\"open_modal\"},{\"default\":0,\"kind\":null,\"name\":\"close_modal\"}]},{\"extends\":null,\"module\":null,\"name\":\"MaterialTemplateActions1\",\"overrides\":[],\"properties\":[{\"default\":0,\"kind\":null,\"name\":\"open_modal\"},{\"default\":0,\"kind\":null,\"name\":\"close_modal\"}]}],\"roots\":{\"references\":[{\"attributes\":{},\"id\":\"2447\",\"type\":\"AllLabels\"},{\"attributes\":{},\"id\":\"2449\",\"type\":\"BasicTickFormatter\"},{\"attributes\":{},\"id\":\"2450\",\"type\":\"AllLabels\"},{\"attributes\":{\"angle\":{\"value\":0.0},\"fill_alpha\":{\"value\":1.0},\"fill_color\":{\"value\":\"#fc4f30\"},\"hatch_alpha\":{\"value\":1.0},\"hatch_color\":{\"value\":\"#fc4f30\"},\"hatch_scale\":{\"value\":12.0},\"hatch_weight\":{\"value\":1.0},\"line_alpha\":{\"value\":1.0},\"line_cap\":{\"value\":\"butt\"},\"line_color\":{\"value\":\"#fc4f30\"},\"line_dash\":{\"value\":[]},\"line_dash_offset\":{\"value\":0},\"line_join\":{\"value\":\"bevel\"},\"line_width\":{\"value\":1},\"marker\":{\"value\":\"circle\"},\"size\":{\"value\":5.477225575051661},\"x\":{\"field\":\"TotalCoinsMined\"},\"y\":{\"field\":\"TotalCoinSupply\"}},\"id\":\"2493\",\"type\":\"Scatter\"},{\"attributes\":{\"end\":1.1,\"reset_end\":1.1,\"reset_start\":-0.1,\"start\":-0.1,\"tags\":[[[\"TotalCoinSupply\",\"TotalCoinSupply\",null]]]},\"id\":\"2410\",\"type\":\"Range1d\"},{\"attributes\":{\"fill_alpha\":{\"value\":0.1},\"fill_color\":{\"value\":\"#e5ae38\"},\"hatch_alpha\":{\"value\":0.1},\"hatch_color\":{\"value\":\"#e5ae38\"},\"line_alpha\":{\"value\":0.1},\"line_color\":{\"value\":\"#e5ae38\"},\"size\":{\"value\":5.477225575051661},\"x\":{\"field\":\"TotalCoinsMined\"},\"y\":{\"field\":\"TotalCoinSupply\"}},\"id\":\"2498\",\"type\":\"Scatter\"},{\"attributes\":{},\"id\":\"2420\",\"type\":\"LinearScale\"},{\"attributes\":{\"label\":{\"value\":\"0\"},\"renderers\":[{\"id\":\"2457\"}]},\"id\":\"2470\",\"type\":\"LegendItem\"},{\"attributes\":{\"label\":{\"value\":\"3\"},\"renderers\":[{\"id\":\"2524\"}]},\"id\":\"2542\",\"type\":\"LegendItem\"},{\"attributes\":{\"click_policy\":\"mute\",\"coordinates\":null,\"group\":null,\"items\":[{\"id\":\"2470\"},{\"id\":\"2492\"},{\"id\":\"2516\"},{\"id\":\"2542\"}],\"location\":[0,0],\"title\":\"Class\"},\"id\":\"2469\",\"type\":\"Legend\"},{\"attributes\":{},\"id\":\"2425\",\"type\":\"BasicTicker\"},{\"attributes\":{},\"id\":\"2513\",\"type\":\"UnionRenderers\"},{\"attributes\":{\"coordinates\":null,\"data_source\":{\"id\":\"2451\"},\"glyph\":{\"id\":\"2454\"},\"group\":null,\"hover_glyph\":null,\"muted_glyph\":{\"id\":\"2456\"},\"nonselection_glyph\":{\"id\":\"2455\"},\"selection_glyph\":{\"id\":\"2471\"},\"view\":{\"id\":\"2458\"}},\"id\":\"2457\",\"type\":\"GlyphRenderer\"},{\"attributes\":{},\"id\":\"2539\",\"type\":\"UnionRenderers\"},{\"attributes\":{\"axis_label\":\"TotalCoinsMined\",\"coordinates\":null,\"formatter\":{\"id\":\"2446\"},\"group\":null,\"major_label_policy\":{\"id\":\"2447\"},\"ticker\":{\"id\":\"2425\"}},\"id\":\"2424\",\"type\":\"LinearAxis\"},{\"attributes\":{\"source\":{\"id\":\"2451\"}},\"id\":\"2458\",\"type\":\"CDSView\"},{\"attributes\":{\"source\":{\"id\":\"2494\"}},\"id\":\"2501\",\"type\":\"CDSView\"},{\"attributes\":{\"below\":[{\"id\":\"2424\"}],\"center\":[{\"id\":\"2427\"},{\"id\":\"2431\"}],\"height\":300,\"left\":[{\"id\":\"2428\"}],\"margin\":[5,5,5,5],\"min_border_bottom\":10,\"min_border_left\":10,\"min_border_right\":10,\"min_border_top\":10,\"renderers\":[{\"id\":\"2457\"},{\"id\":\"2478\"},{\"id\":\"2500\"},{\"id\":\"2524\"}],\"right\":[{\"id\":\"2469\"}],\"sizing_mode\":\"fixed\",\"title\":{\"id\":\"2416\"},\"toolbar\":{\"id\":\"2438\"},\"width\":700,\"x_range\":{\"id\":\"2409\"},\"x_scale\":{\"id\":\"2420\"},\"y_range\":{\"id\":\"2410\"},\"y_scale\":{\"id\":\"2422\"}},\"id\":\"2415\",\"subtype\":\"Figure\",\"type\":\"Plot\"},{\"attributes\":{\"angle\":{\"value\":0.0},\"fill_alpha\":{\"value\":1.0},\"fill_color\":{\"value\":\"#30a2da\"},\"hatch_alpha\":{\"value\":1.0},\"hatch_color\":{\"value\":\"#30a2da\"},\"hatch_scale\":{\"value\":12.0},\"hatch_weight\":{\"value\":1.0},\"line_alpha\":{\"value\":1.0},\"line_cap\":{\"value\":\"butt\"},\"line_color\":{\"value\":\"#30a2da\"},\"line_dash\":{\"value\":[]},\"line_dash_offset\":{\"value\":0},\"line_join\":{\"value\":\"bevel\"},\"line_width\":{\"value\":1},\"marker\":{\"value\":\"circle\"},\"size\":{\"value\":5.477225575051661},\"x\":{\"field\":\"TotalCoinsMined\"},\"y\":{\"field\":\"TotalCoinSupply\"}},\"id\":\"2471\",\"type\":\"Scatter\"},{\"attributes\":{\"fill_alpha\":{\"value\":0.1},\"fill_color\":{\"value\":\"#6d904f\"},\"hatch_alpha\":{\"value\":0.1},\"hatch_color\":{\"value\":\"#6d904f\"},\"line_alpha\":{\"value\":0.1},\"line_color\":{\"value\":\"#6d904f\"},\"size\":{\"value\":5.477225575051661},\"x\":{\"field\":\"TotalCoinsMined\"},\"y\":{\"field\":\"TotalCoinSupply\"}},\"id\":\"2522\",\"type\":\"Scatter\"},{\"attributes\":{\"label\":{\"value\":\"1\"},\"renderers\":[{\"id\":\"2478\"}]},\"id\":\"2492\",\"type\":\"LegendItem\"},{\"attributes\":{},\"id\":\"2422\",\"type\":\"LinearScale\"},{\"attributes\":{\"fill_alpha\":{\"value\":0.1},\"fill_color\":{\"value\":\"#30a2da\"},\"hatch_alpha\":{\"value\":0.1},\"hatch_color\":{\"value\":\"#30a2da\"},\"line_alpha\":{\"value\":0.1},\"line_color\":{\"value\":\"#30a2da\"},\"size\":{\"value\":5.477225575051661},\"x\":{\"field\":\"TotalCoinsMined\"},\"y\":{\"field\":\"TotalCoinSupply\"}},\"id\":\"2455\",\"type\":\"Scatter\"},{\"attributes\":{\"data\":{\"Class\":[2],\"CoinName\":[\"BitTorrent\"],\"TotalCoinSupply\":{\"__ndarray__\":\"rkfhehSu7z8=\",\"dtype\":\"float64\",\"order\":\"little\",\"shape\":[1]},\"TotalCoinsMined\":{\"__ndarray__\":\"AAAAAAAA8D8=\",\"dtype\":\"float64\",\"order\":\"little\",\"shape\":[1]}},\"selected\":{\"id\":\"2495\"},\"selection_policy\":{\"id\":\"2513\"}},\"id\":\"2494\",\"type\":\"ColumnDataSource\"},{\"attributes\":{\"fill_alpha\":{\"value\":0.2},\"fill_color\":{\"value\":\"#30a2da\"},\"hatch_alpha\":{\"value\":0.2},\"hatch_color\":{\"value\":\"#30a2da\"},\"line_alpha\":{\"value\":0.2},\"line_color\":{\"value\":\"#30a2da\"},\"size\":{\"value\":5.477225575051661},\"x\":{\"field\":\"TotalCoinsMined\"},\"y\":{\"field\":\"TotalCoinSupply\"}},\"id\":\"2456\",\"type\":\"Scatter\"},{\"attributes\":{\"fill_color\":{\"value\":\"#6d904f\"},\"hatch_color\":{\"value\":\"#6d904f\"},\"line_color\":{\"value\":\"#6d904f\"},\"size\":{\"value\":5.477225575051661},\"x\":{\"field\":\"TotalCoinsMined\"},\"y\":{\"field\":\"TotalCoinSupply\"}},\"id\":\"2521\",\"type\":\"Scatter\"},{\"attributes\":{\"callback\":null,\"renderers\":[{\"id\":\"2457\"},{\"id\":\"2478\"},{\"id\":\"2500\"},{\"id\":\"2524\"}],\"tags\":[\"hv_created\"],\"tooltips\":[[\"Class\",\"@{Class}\"],[\"TotalCoinsMined\",\"@{TotalCoinsMined}\"],[\"TotalCoinSupply\",\"@{TotalCoinSupply}\"],[\"CoinName\",\"@{CoinName}\"]]},\"id\":\"2411\",\"type\":\"HoverTool\"},{\"attributes\":{},\"id\":\"2495\",\"type\":\"Selection\"},{\"attributes\":{\"coordinates\":null,\"group\":null,\"text_color\":\"black\",\"text_font_size\":\"12pt\"},\"id\":\"2416\",\"type\":\"Title\"},{\"attributes\":{\"coordinates\":null,\"data_source\":{\"id\":\"2472\"},\"glyph\":{\"id\":\"2475\"},\"group\":null,\"hover_glyph\":null,\"muted_glyph\":{\"id\":\"2477\"},\"nonselection_glyph\":{\"id\":\"2476\"},\"selection_glyph\":{\"id\":\"2493\"},\"view\":{\"id\":\"2479\"}},\"id\":\"2478\",\"type\":\"GlyphRenderer\"},{\"attributes\":{\"data\":{\"Class\":[3,3,3,3,3,3,3,3,3,3,3,3,3,3,3,3,3,3,3,3,3,3,3,3,3,3,3,3,3,3,3,3,3,3,3,3,3,3,3,3,3,3,3,3,3,3,3,3,3,3,3,3,3,3,3,3,3,3,3,3,3,3,3,3,3,3,3,3,3,3,3,3,3,3,3,3,3,3,3,3,3,3,3,3,3,3,3,3,3,3,3,3,3,3,3,3,3,3,3,3,3,3,3,3,3,3,3,3,3,3,3,3,3,3,3,3,3,3,3,3,3,3,3,3,3,3,3,3,3,3,3,3,3,3,3,3,3,3,3,3,3,3,3,3,3,3,3,3,3,3,3,3,3,3,3,3,3,3,3,3,3,3,3,3,3,3,3,3,3,3,3,3,3,3,3,3,3,3,3,3,3,3,3,3,3,3,3,3,3,3,3,3,3,3,3,3,3,3,3,3,3,3,3,3,3,3,3,3,3,3,3,3,3,3,3,3,3,3,3,3,3,3,3,3,3,3,3,3,3,3,3,3,3,3,3,3,3,3,3],\"CoinName\":[\"Bitcoin\",\"Ethereum\",\"Litecoin\",\"Monero\",\"Ethereum Classic\",\"ZCash\",\"DigiByte\",\"ProsperCoin\",\"Spreadcoin\",\"Argentum\",\"MyriadCoin\",\"MoonCoin\",\"ZetaCoin\",\"SexCoin\",\"Quatloo\",\"QuarkCoin\",\"Riecoin\",\"Digitalcoin \",\"Catcoin\",\"CannaCoin\",\"CryptCoin\",\"Verge\",\"DevCoin\",\"EarthCoin\",\"E-Gulden\",\"Einsteinium\",\"Emerald\",\"Franko\",\"FeatherCoin\",\"GrandCoin\",\"GlobalCoin\",\"GoldCoin\",\"Infinite Coin\",\"IXcoin\",\"KrugerCoin\",\"LuckyCoin\",\"Litebar \",\"MegaCoin\",\"MediterraneanCoin\",\"MinCoin\",\"NobleCoin\",\"Namecoin\",\"NyanCoin\",\"RonPaulCoin\",\"StableCoin\",\"SmartCoin\",\"SysCoin\",\"TigerCoin\",\"TerraCoin\",\"UnbreakableCoin\",\"Unobtanium\",\"UroCoin\",\"ViaCoin\",\"Vertcoin\",\"WorldCoin\",\"JouleCoin\",\"ByteCoin\",\"DigitalNote \",\"MonaCoin\",\"Gulden\",\"PesetaCoin\",\"Wild Beast Coin\",\"Flo\",\"ArtByte\",\"Folding Coin\",\"Unitus\",\"CypherPunkCoin\",\"OmniCron\",\"GreenCoin\",\"Cryptonite\",\"MasterCoin\",\"SoonCoin\",\"1Credit\",\"MarsCoin \",\"Crypto\",\"Anarchists Prime\",\"BowsCoin\",\"Song Coin\",\"BitZeny\",\"Expanse\",\"Siacoin\",\"MindCoin\",\"I0coin\",\"Revolution VR\",\"HOdlcoin\",\"Gamecredits\",\"CarpeDiemCoin\",\"Adzcoin\",\"SoilCoin\",\"YoCoin\",\"SibCoin\",\"Francs\",\"BolivarCoin\",\"Omni\",\"PizzaCoin\",\"Komodo\",\"Karbo\",\"ZayedCoin\",\"Circuits of Value\",\"DopeCoin\",\"DollarCoin\",\"Shilling\",\"ZCoin\",\"Elementrem\",\"ZClassic\",\"KiloCoin\",\"ArtexCoin\",\"Kurrent\",\"Cannabis Industry Coin\",\"OsmiumCoin\",\"Bikercoins\",\"HexxCoin\",\"PacCoin\",\"Citadel\",\"BeaverCoin\",\"VaultCoin\",\"Zero\",\"Canada eCoin\",\"Zoin\",\"DubaiCoin\",\"EB3coin\",\"Coinonat\",\"BenjiRolls\",\"ILCoin\",\"EquiTrader\",\"Quantum Resistant Ledger\",\"Dynamic\",\"Nano\",\"ChanCoin\",\"Dinastycoin\",\"DigitalPrice\",\"Unify\",\"SocialCoin\",\"ArcticCoin\",\"DAS\",\"LeviarCoin\",\"Bitcore\",\"gCn Coin\",\"SmartCash\",\"Onix\",\"Bitcoin Cash\",\"Sojourn Coin\",\"NewYorkCoin\",\"FrazCoin\",\"Kronecoin\",\"AdCoin\",\"Linx\",\"Sumokoin\",\"BitcoinZ\",\"Elements\",\"VIVO Coin\",\"Bitcoin Gold\",\"Pirl\",\"eBoost\",\"Pura\",\"Innova\",\"Ellaism\",\"GoByte\",\"SHIELD\",\"UltraNote\",\"BitCoal\",\"DaxxCoin\",\"AC3\",\"Lethean\",\"PopularCoin\",\"Photon\",\"Sucre\",\"SparksPay\",\"GunCoin\",\"IrishCoin\",\"Pioneer Coin\",\"UnitedBitcoin\",\"Interzone\",\"TurtleCoin\",\"MUNcoin\",\"Niobio Cash\",\"ShareChain\",\"Travelflex\",\"KREDS\",\"BitFlip\",\"LottoCoin\",\"Crypto Improvement Fund\",\"Callisto Network\",\"BitTube\",\"Poseidon\",\"Aidos Kuneen\",\"Bitrolium\",\"Alpenschillling\",\"FuturoCoin\",\"Monero Classic\",\"Jumpcoin\",\"Infinex\",\"KEYCO\",\"GINcoin\",\"PlatinCoin\",\"Loki\",\"Newton Coin\",\"MassGrid\",\"PluraCoin\",\"Motion\",\"PlusOneCoin\",\"Axe\",\"HexCoin\",\"Webchain\",\"Ryo\",\"Urals Coin\",\"Qwertycoin\",\"Project Pai\",\"Azart\",\"Xchange\",\"CrypticCoin\",\"Actinium\",\"Bitcoin SV\",\"FREDEnergy\",\"Universal Molecule\",\"Lithium\",\"PirateCash\",\"Exosis\",\"Block-Logic\",\"Beam\",\"Bithereum\",\"SLICE\",\"BLAST\",\"Bitcoin Rhodium\",\"GlobalToken\",\"SolarCoin\",\"UFO Coin\",\"BlakeCoin\",\"Crypto Escudo\",\"Crown Coin\",\"SmileyCoin\",\"Groestlcoin\",\"Bata\",\"Pakcoin\",\"JoinCoin\",\"Vollar\",\"Reality Clash\",\"Beldex\",\"Horizen\"],\"TotalCoinSupply\":{\"__ndarray__\":\"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\",\"dtype\":\"float64\",\"order\":\"little\",\"shape\":[239]},\"TotalCoinsMined\":{\"__ndarray__\":\"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\",\"dtype\":\"float64\",\"order\":\"little\",\"shape\":[239]}},\"selected\":{\"id\":\"2519\"},\"selection_policy\":{\"id\":\"2539\"}},\"id\":\"2518\",\"type\":\"ColumnDataSource\"},{\"attributes\":{\"coordinates\":null,\"data_source\":{\"id\":\"2494\"},\"glyph\":{\"id\":\"2497\"},\"group\":null,\"hover_glyph\":null,\"muted_glyph\":{\"id\":\"2499\"},\"nonselection_glyph\":{\"id\":\"2498\"},\"selection_glyph\":{\"id\":\"2517\"},\"view\":{\"id\":\"2501\"}},\"id\":\"2500\",\"type\":\"GlyphRenderer\"},{\"attributes\":{\"axis\":{\"id\":\"2424\"},\"coordinates\":null,\"grid_line_color\":null,\"group\":null,\"ticker\":null},\"id\":\"2427\",\"type\":\"Grid\"},{\"attributes\":{\"fill_color\":{\"value\":\"#30a2da\"},\"hatch_color\":{\"value\":\"#30a2da\"},\"line_color\":{\"value\":\"#30a2da\"},\"size\":{\"value\":5.477225575051661},\"x\":{\"field\":\"TotalCoinsMined\"},\"y\":{\"field\":\"TotalCoinSupply\"}},\"id\":\"2454\",\"type\":\"Scatter\"},{\"attributes\":{},\"id\":\"2433\",\"type\":\"PanTool\"},{\"attributes\":{\"data\":{\"Class\":[0,0,0,0,0,0,0,0,0,0,0,0,0,0,0,0,0,0,0,0,0,0,0,0,0,0,0,0,0,0,0,0,0,0,0,0,0,0,0,0,0,0,0,0,0,0,0,0,0,0,0,0,0,0,0,0,0,0,0,0,0,0,0,0,0,0,0,0,0,0,0,0,0,0,0,0,0,0,0,0,0,0,0,0,0,0,0,0,0,0,0,0,0,0,0,0,0,0,0,0,0,0,0,0,0,0,0,0,0,0,0,0,0,0,0,0,0,0,0,0,0,0,0,0,0,0,0,0,0,0,0,0,0,0,0,0,0,0,0,0,0,0,0,0,0,0,0,0,0,0,0,0,0,0,0,0,0,0,0,0,0,0,0,0,0,0,0,0,0,0,0,0,0,0,0,0,0,0,0,0,0,0,0,0,0,0,0,0,0,0,0,0,0,0,0,0,0,0,0,0,0,0,0,0,0,0,0,0,0,0,0,0,0,0,0,0,0,0,0,0,0,0,0,0,0,0,0,0,0,0,0,0,0,0,0,0,0,0,0,0,0,0,0,0,0,0,0,0,0,0,0,0,0,0,0,0,0,0,0,0,0,0,0,0,0,0,0,0,0,0,0,0,0,0,0,0,0,0,0,0,0,0,0,0,0,0,0],\"CoinName\":[\"42 Coin\",\"404Coin\",\"EliteCoin\",\"Dash\",\"Bitshares\",\"BitcoinDark\",\"PayCoin\",\"KoboCoin\",\"Aurora Coin\",\"BlueCoin\",\"EnergyCoin\",\"BitBar\",\"CryptoBullion\",\"CasinoCoin\",\"Diamond\",\"Exclusive Coin\",\"FlutterCoin\",\"HoboNickels\",\"HyperStake\",\"IOCoin\",\"MaxCoin\",\"MintCoin\",\"MazaCoin\",\"Nautilus Coin\",\"NavCoin\",\"OpalCoin\",\"Orbitcoin\",\"PotCoin\",\"PhoenixCoin\",\"Reddcoin\",\"SuperCoin\",\"SyncCoin\",\"TeslaCoin\",\"TittieCoin\",\"TorCoin\",\"UnitaryStatus Dollar\",\"UltraCoin\",\"VeriCoin\",\"X11 Coin\",\"Crypti\",\"StealthCoin\",\"ZCC Coin\",\"BurstCoin\",\"StorjCoin\",\"Neutron\",\"FairCoin\",\"RubyCoin\",\"Kore\",\"Dnotes\",\"8BIT Coin\",\"Sativa Coin\",\"Ucoin\",\"Vtorrent\",\"IslaCoin\",\"Nexus\",\"Droidz\",\"Squall Coin\",\"Diggits\",\"Paycon\",\"Emercoin\",\"EverGreenCoin\",\"Decred\",\"EDRCoin\",\"Hitcoin\",\"DubaiCoin\",\"PWR Coin\",\"BillaryCoin\",\"GPU Coin\",\"EuropeCoin\",\"ZeitCoin\",\"SwingCoin\",\"SafeExchangeCoin\",\"Nebuchadnezzar\",\"Ratecoin\",\"Revenu\",\"Clockcoin\",\"VIP Tokens\",\"BitSend\",\"Let it Ride\",\"PutinCoin\",\"iBankCoin\",\"Frankywillcoin\",\"MudraCoin\",\"Lutetium Coin\",\"GoldBlocks\",\"CarterCoin\",\"BitTokens\",\"MustangCoin\",\"ZoneCoin\",\"RootCoin\",\"BitCurrency\",\"Swiscoin\",\"BuzzCoin\",\"Opair\",\"PesoBit\",\"Halloween Coin\",\"CoffeeCoin\",\"RoyalCoin\",\"GanjaCoin V2\",\"TeamUP\",\"LanaCoin\",\"ARK\",\"InsaneCoin\",\"EmberCoin\",\"XenixCoin\",\"FreeCoin\",\"PLNCoin\",\"AquariusCoin\",\"Creatio\",\"Eternity\",\"Eurocoin\",\"BitcoinFast\",\"Stakenet\",\"BitConnect Coin\",\"MoneyCoin\",\"Enigma\",\"Russiacoin\",\"PandaCoin\",\"GameUnits\",\"GAKHcoin\",\"Allsafe\",\"LiteCreed\",\"Klingon Empire Darsek\",\"Internet of People\",\"KushCoin\",\"Printerium\",\"Impeach\",\"Zilbercoin\",\"FirstCoin\",\"FindCoin\",\"OpenChat\",\"RenosCoin\",\"VirtacoinPlus\",\"TajCoin\",\"Impact\",\"Atmos\",\"HappyCoin\",\"MacronCoin\",\"Condensate\",\"Independent Money System\",\"ArgusCoin\",\"LomoCoin\",\"ProCurrency\",\"GoldReserve\",\"GrowthCoin\",\"Phreak\",\"Degas Coin\",\"HTML5 Coin\",\"Ultimate Secure Cash\",\"QTUM\",\"Espers\",\"Denarius\",\"Virta Unique Coin\",\"Bitcoin Planet\",\"BritCoin\",\"Linda\",\"DeepOnion\",\"Signatum\",\"Cream\",\"Monoeci\",\"Draftcoin\",\"Vechain\",\"Stakecoin\",\"CoinonatX\",\"Ethereum Dark\",\"Obsidian\",\"Cardano\",\"Regalcoin\",\"TrezarCoin\",\"TerraNovaCoin\",\"Rupee\",\"WomenCoin\",\"Theresa May Coin\",\"NamoCoin\",\"LUXCoin\",\"Xios\",\"Bitcloud 2.0\",\"KekCoin\",\"BlackholeCoin\",\"Infinity Economics\",\"Magnet\",\"Lamden Tau\",\"Electra\",\"Bitcoin Diamond\",\"Cash & Back Coin\",\"Bulwark\",\"Kalkulus\",\"GermanCoin\",\"LiteCoin Ultra\",\"PhantomX\",\"Digiwage\",\"Trollcoin\",\"Litecoin Plus\",\"Monkey Project\",\"TokenPay\",\"1717 Masonic Commemorative Token\",\"My Big Coin\",\"Unified Society USDEX\",\"Tokyo Coin\",\"Stipend\",\"Pushi\",\"Ellerium\",\"Velox\",\"Ontology\",\"Bitspace\",\"Briacoin\",\"Ignition\",\"MedicCoin\",\"Bitcoin Green\",\"Deviant Coin\",\"Abjcoin\",\"Semux\",\"Carebit\",\"Zealium\",\"Proton\",\"iDealCash\",\"Bitcoin Incognito\",\"HollyWoodCoin\",\"Swisscoin\",\"Xt3ch\",\"TheVig\",\"EmaratCoin\",\"Dekado\",\"Lynx\",\"Poseidon Quark\",\"BitcoinWSpectrum\",\"Muse\",\"Trivechain\",\"Dystem\",\"Giant\",\"Peony Coin\",\"Absolute Coin\",\"Vitae\",\"TPCash\",\"ARENON\",\"EUNO\",\"MMOCoin\",\"Ketan\",\"XDNA\",\"PAXEX\",\"ThunderStake\",\"Kcash\",\"Bettex coin\",\"BitMoney\",\"Junson Ming Chan Coin\",\"HerbCoin\",\"Oduwa\",\"Galilel\",\"Crypto Sports\",\"Credit\",\"Dash Platinum\",\"Nasdacoin\",\"Beetle Coin\",\"Titan Coin\",\"Award\",\"Insane Coin\",\"ALAX\",\"LiteDoge\",\"TruckCoin\",\"OrangeCoin\",\"BitstarCoin\",\"NeosCoin\",\"HyperCoin\",\"PinkCoin\",\"AudioCoin\",\"IncaKoin\",\"Piggy Coin\",\"Genstake\",\"XiaoMiCoin\",\"CapriCoin\",\" ClubCoin\",\"Radium\",\"Creditbit \",\"OKCash\",\"Lisk\",\"HiCoin\",\"WhiteCoin\",\"FriendshipCoin\",\"Triangles Coin\",\"EOS\",\"Oxycoin\",\"TigerCash\",\"Particl\",\"Nxt\",\"ZEPHYR\",\"Gapcoin\",\"BitcoinPlus\"],\"TotalCoinSupply\":{\"__ndarray__\":\"NkOMefkWxz3VCP1MvW5BP1XynHYvG9Q/oib6fJQR9z7McLKR8X5tP6Im+nyUEfc+LEMc6+I26j7HuriNBvA2P03ubVFIlfE+AAAAAAAAAAAAAAAAAAAAAI3ttaD3xqA+je21oPfGsD57FK5H4XqkP/WHfzv9XtI+AAAAAAAAAAAAAAAAAAAAAGkdVU0QdR8/AAAAAAAAAACiJvp8lBH3PixDHOviNho/AAAAAAAAAABoTT0cbtFjP8naMiJJ9/A+AAAAAAAAAAAAAAAAAAAAAIF+GWsDoM8+vHmqQ26GOz/AkxYuq7AZPwAAAAAAAAAAAAAAAAAAAACV1iboCy4RPixDHOviNho/SFD8GHPXYj/waOOItfjkPixDHOviNlo/LEMc6+I2Gj8AAAAAAAAAAKIm+nyUEdc+AAAAAAAAAAAAAAAAAAAAAPyp8dJNYlA/UFX5y1uvYT/8qfHSTWJAP2ZMwRpn0xE/AAAAAAAAAAAAAAAAAAAAAFTkEHFzKuk+/Knx0k1iQD8AAAAAAAAAAPBo44i1+OQ+8GjjiLX49D7waOOItfj0PgAAAAAAAAAAhLndy31yFD+V+ok1IjnVPgAAAAAAAAAALEMc6+I2Gj8sQxzr4jYKP/yp8dJNYlA/3JaYzFCT+z7Jx+4CJQX2PqIm+nyUEfc+q8/VVuwvmz/Jx+4CJQXmPgAAAAAAAAAAycfuAiUFBj/1DnimS/ksP1TkEHFzKjk/8tJNYhBYuT/waOOItfgEP966CoGZl2E/8GjjiLX49D5hMlUwKqkTPwDDly5pMS0/FYxK6gQ0QT8O1v85zJcXP/ePhegQOCI/sHQ+PEuQAT/8qfHSTWJgPzFyDblRPgc/LEMc6+I2Gj8sQxzr4jYqP1RzucFQh0U/LEMc6+I2Cj8O1v85zJcXP8nH7gIlBfY+VOQQcXMqyT7Jx+4CJQX2PgAAAAAAAAAAAAAAAAAAAAATYcPTK2VpP3sUrkfhepQ/q1rSUQ5mEz8AAAAAAAAAAPp+arx0k1g/NNSvB7L4BD+CPVa0+fjEPixDHOviNho/T+j1J/G5Mz/xYmGInL5+P/yp8dJNYiA/aR1VTRB1/z5fB84ZUdpLPxF0NWZ6KdA+LEMc6+I2Cj/xbRNRwDQEP8nH7gIlBQY/8GjjiLX49D5pHVVNEHUPP/Bo44i1+PQ++py7XS9NAT/zdRn+0w0UP7dfPlkxXP0+/h0OWiFSRT/waOOItfjUPj+rzJTW3yI/7gprkculoD8FoidlUkPrPqm2xkea0Ms+aR1VTRB17z5t609siqoUP/yp8dJNYkA/ycfuAiUF9j7l2IT4453jPvBo44i1+PQ+Asu1Kq//9j5LsDic+dUMP0uwOJz51Rw/8zIaY/h17j78qfHSTWJQP+I/IeOiDAI/LEMc6+I2Gj9U/IRYolgDP0uwOJz51Rw/kqumSXDpHD8sQxzr4jYaPyxDHOviNjo//Knx0k1iQD9/VgfbFT72PtPL3ghB/f0+/Knx0k1iUD8zMzMzMzOzP/Bo44i1+AQ//Knx0k1iYD9pHVVNEHX/Prx5qkNuhhs/CtejcD0Ktz8pV94wtjkqPyxDHOviNho/mZmZmZmZqT/waOOItfjkPmkdVU0QdR8/LEMc6+I2Gj9pHVVNEHX/PpmZmZmZmak/x+CKkPHQ8z4vbqMBvAUiPyxDHOviNho/FtJpYC3w4z5bLjW8W0DyPvp0LpnMMrY/RwInV+clED/K8IEYRkwJPwfTizW3ndE+edgbIwL1Fz8K16NwPQqnP94AM9/BT/w+LEMc6+I2Oj+PGDxpYn/wPlTkEHFzKvk+mZmZmZmZmT8sQxzr4jYaP2EyVTAqqVM/aR1VTRB1Dz/Jx+4CJQX2PixDHOviNio/ycfuAiUF9j4QCgUtZQPvPjvfT42XboI/P6vMlNbfIj/8qfHSTWJAP7gehetRuJ4/vHmqQ26GKz+8eapDboYrP23BD1X9D/0+8GjjiLX49D6ZmZmZmZmpP2EyVTAqqSM/LEMc6+I2Cj9pHVVNEHUfP5LLf0i/fU0/je21oPfG0D7Jx+4CJQX2PixDHOviNvo+ffj9GGYluz5pHVVNEHX/PpC+SdOgaC4/LEMc6+I2Sj8ohtt/s0f0PixDHOviNvo+aR1VTRB1Dz8hPrDjv0AgP/yp8dJNYlA/LEMc6+I2Cj9U5BBxcyrJPvBo44i1+NQ+/Knx0k1iQD/Jx+4CJQX2PqIm+nyUERc/aR1VTRB1/z4sQxzr4jYaPyxDHOviNio/8GjjiLX4FD8O1v85zJcHP9uptE/B+nQ/ycfuAiUF9j4FoidlUkP7PoeFWtO844Q/oib6fJQRBz8sQxzr4jYaP8nH7gIlBRY/Dtb/OcyXFz9aZDvfT423P5T2Bl+YTEU/CVblkHtIGj8dySs/zPXyPlnHzSuboxU/ycfuAiUF9j56V0IZ2JrVPn5v05/9SJE/vHmqQ26GCz8sQxzr4jYaP/yp8dJNYlA/S7A4nPnVDD8sQxzr4jYKP0PFOH8TCjE/vHmqQ26GKz+gGcQHdvw3PyxDHOviNho/O99PjZdukj/8qfHSTWJQPyxDHOviNgo/61G4HoXrsT8AAAAAAAAAAN4AM9/BTww/ycfuAiUF9j5vBvPj7/XzPhbj0872Cew+EqW9wRcmsz/jMhOxLaj0PsnH7gIlBRY//Knx0k1iQD97FK5H4Xp0P7x5qkNuhjs/aR1VTRB1/z78qfHSTWJQP+tRuB6F66E/AAAAAAAAAAAsQxzr4jYqPxF8vw0icgw/ycfuAiUF9j4AAAAAAAAAAPyp8dJNYkA/Gy/dJAaBhT+dDI6SV+coP/yp8dJNYlA/aR1VTRB17z4sQxzr4jY6PwWiJ2VSQys/8GjjiLX4JD8/q8yU1t/iPnDMrCBZTvE+vHmqQ26GGz/zNZeY+PUkP0VzyS2Df4Q/YTJVMCqpMz94yWS4oYsPPytppCkrG4A+AAAAAAAAAAAAAAAAAAAAAPyp8dJNYlA/U1RtKmsb4j78qfHSTWJQP/yp8dJNYmA//Knx0k1iMD+N7bWg98awPg==\",\"dtype\":\"float64\",\"order\":\"little\",\"shape\":[287]},\"TotalCoinsMined\":{\"__ndarray__\":\"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\",\"dtype\":\"float64\",\"order\":\"little\",\"shape\":[287]}},\"selected\":{\"id\":\"2452\"},\"selection_policy\":{\"id\":\"2466\"}},\"id\":\"2451\",\"type\":\"ColumnDataSource\"},{\"attributes\":{\"axis_label\":\"TotalCoinSupply\",\"coordinates\":null,\"formatter\":{\"id\":\"2449\"},\"group\":null,\"major_label_policy\":{\"id\":\"2450\"},\"ticker\":{\"id\":\"2429\"}},\"id\":\"2428\",\"type\":\"LinearAxis\"},{\"attributes\":{\"axis\":{\"id\":\"2428\"},\"coordinates\":null,\"dimension\":1,\"grid_line_color\":null,\"group\":null,\"ticker\":null},\"id\":\"2431\",\"type\":\"Grid\"},{\"attributes\":{\"label\":{\"value\":\"2\"},\"renderers\":[{\"id\":\"2500\"}]},\"id\":\"2516\",\"type\":\"LegendItem\"},{\"attributes\":{\"fill_alpha\":{\"value\":0.2},\"fill_color\":{\"value\":\"#e5ae38\"},\"hatch_alpha\":{\"value\":0.2},\"hatch_color\":{\"value\":\"#e5ae38\"},\"line_alpha\":{\"value\":0.2},\"line_color\":{\"value\":\"#e5ae38\"},\"size\":{\"value\":5.477225575051661},\"x\":{\"field\":\"TotalCoinsMined\"},\"y\":{\"field\":\"TotalCoinSupply\"}},\"id\":\"2499\",\"type\":\"Scatter\"},{\"attributes\":{},\"id\":\"2429\",\"type\":\"BasicTicker\"},{\"attributes\":{},\"id\":\"2434\",\"type\":\"WheelZoomTool\"},{\"attributes\":{},\"id\":\"2432\",\"type\":\"SaveTool\"},{\"attributes\":{\"overlay\":{\"id\":\"2437\"}},\"id\":\"2435\",\"type\":\"BoxZoomTool\"},{\"attributes\":{\"source\":{\"id\":\"2518\"}},\"id\":\"2525\",\"type\":\"CDSView\"},{\"attributes\":{},\"id\":\"2436\",\"type\":\"ResetTool\"},{\"attributes\":{\"fill_color\":{\"value\":\"#e5ae38\"},\"hatch_color\":{\"value\":\"#e5ae38\"},\"line_color\":{\"value\":\"#e5ae38\"},\"size\":{\"value\":5.477225575051661},\"x\":{\"field\":\"TotalCoinsMined\"},\"y\":{\"field\":\"TotalCoinSupply\"}},\"id\":\"2497\",\"type\":\"Scatter\"},{\"attributes\":{\"fill_alpha\":{\"value\":0.2},\"fill_color\":{\"value\":\"#fc4f30\"},\"hatch_alpha\":{\"value\":0.2},\"hatch_color\":{\"value\":\"#fc4f30\"},\"line_alpha\":{\"value\":0.2},\"line_color\":{\"value\":\"#fc4f30\"},\"size\":{\"value\":5.477225575051661},\"x\":{\"field\":\"TotalCoinsMined\"},\"y\":{\"field\":\"TotalCoinSupply\"}},\"id\":\"2477\",\"type\":\"Scatter\"},{\"attributes\":{\"bottom_units\":\"screen\",\"coordinates\":null,\"fill_alpha\":0.5,\"fill_color\":\"lightgrey\",\"group\":null,\"left_units\":\"screen\",\"level\":\"overlay\",\"line_alpha\":1.0,\"line_color\":\"black\",\"line_dash\":[4,4],\"line_width\":2,\"right_units\":\"screen\",\"syncable\":false,\"top_units\":\"screen\"},\"id\":\"2437\",\"type\":\"BoxAnnotation\"},{\"attributes\":{},\"id\":\"2466\",\"type\":\"UnionRenderers\"},{\"attributes\":{\"margin\":[5,5,5,5],\"name\":\"HSpacer02400\",\"sizing_mode\":\"stretch_width\"},\"id\":\"2408\",\"type\":\"Spacer\"},{\"attributes\":{\"fill_color\":{\"value\":\"#fc4f30\"},\"hatch_color\":{\"value\":\"#fc4f30\"},\"line_color\":{\"value\":\"#fc4f30\"},\"size\":{\"value\":5.477225575051661},\"x\":{\"field\":\"TotalCoinsMined\"},\"y\":{\"field\":\"TotalCoinSupply\"}},\"id\":\"2475\",\"type\":\"Scatter\"},{\"attributes\":{\"angle\":{\"value\":0.0},\"fill_alpha\":{\"value\":1.0},\"fill_color\":{\"value\":\"#6d904f\"},\"hatch_alpha\":{\"value\":1.0},\"hatch_color\":{\"value\":\"#6d904f\"},\"hatch_scale\":{\"value\":12.0},\"hatch_weight\":{\"value\":1.0},\"line_alpha\":{\"value\":1.0},\"line_cap\":{\"value\":\"butt\"},\"line_color\":{\"value\":\"#6d904f\"},\"line_dash\":{\"value\":[]},\"line_dash_offset\":{\"value\":0},\"line_join\":{\"value\":\"bevel\"},\"line_width\":{\"value\":1},\"marker\":{\"value\":\"circle\"},\"size\":{\"value\":5.477225575051661},\"x\":{\"field\":\"TotalCoinsMined\"},\"y\":{\"field\":\"TotalCoinSupply\"}},\"id\":\"2543\",\"type\":\"Scatter\"},{\"attributes\":{\"children\":[{\"id\":\"2408\"},{\"id\":\"2415\"},{\"id\":\"2560\"}],\"margin\":[0,0,0,0],\"name\":\"Row02396\",\"tags\":[\"embedded\"]},\"id\":\"2407\",\"type\":\"Row\"},{\"attributes\":{},\"id\":\"2489\",\"type\":\"UnionRenderers\"},{\"attributes\":{\"fill_alpha\":{\"value\":0.1},\"fill_color\":{\"value\":\"#fc4f30\"},\"hatch_alpha\":{\"value\":0.1},\"hatch_color\":{\"value\":\"#fc4f30\"},\"line_alpha\":{\"value\":0.1},\"line_color\":{\"value\":\"#fc4f30\"},\"size\":{\"value\":5.477225575051661},\"x\":{\"field\":\"TotalCoinsMined\"},\"y\":{\"field\":\"TotalCoinSupply\"}},\"id\":\"2476\",\"type\":\"Scatter\"},{\"attributes\":{},\"id\":\"2446\",\"type\":\"BasicTickFormatter\"},{\"attributes\":{\"margin\":[5,5,5,5],\"name\":\"HSpacer02401\",\"sizing_mode\":\"stretch_width\"},\"id\":\"2560\",\"type\":\"Spacer\"},{\"attributes\":{\"fill_alpha\":{\"value\":0.2},\"fill_color\":{\"value\":\"#6d904f\"},\"hatch_alpha\":{\"value\":0.2},\"hatch_color\":{\"value\":\"#6d904f\"},\"line_alpha\":{\"value\":0.2},\"line_color\":{\"value\":\"#6d904f\"},\"size\":{\"value\":5.477225575051661},\"x\":{\"field\":\"TotalCoinsMined\"},\"y\":{\"field\":\"TotalCoinSupply\"}},\"id\":\"2523\",\"type\":\"Scatter\"},{\"attributes\":{\"coordinates\":null,\"data_source\":{\"id\":\"2518\"},\"glyph\":{\"id\":\"2521\"},\"group\":null,\"hover_glyph\":null,\"muted_glyph\":{\"id\":\"2523\"},\"nonselection_glyph\":{\"id\":\"2522\"},\"selection_glyph\":{\"id\":\"2543\"},\"view\":{\"id\":\"2525\"}},\"id\":\"2524\",\"type\":\"GlyphRenderer\"},{\"attributes\":{},\"id\":\"2473\",\"type\":\"Selection\"},{\"attributes\":{\"source\":{\"id\":\"2472\"}},\"id\":\"2479\",\"type\":\"CDSView\"},{\"attributes\":{},\"id\":\"2452\",\"type\":\"Selection\"},{\"attributes\":{\"tools\":[{\"id\":\"2411\"},{\"id\":\"2432\"},{\"id\":\"2433\"},{\"id\":\"2434\"},{\"id\":\"2435\"},{\"id\":\"2436\"}]},\"id\":\"2438\",\"type\":\"Toolbar\"},{\"attributes\":{\"end\":1.042857142857143,\"reset_end\":1.042857142857143,\"reset_start\":-0.04285714285714286,\"start\":-0.04285714285714286,\"tags\":[[[\"TotalCoinsMined\",\"TotalCoinsMined\",null]]]},\"id\":\"2409\",\"type\":\"Range1d\"},{\"attributes\":{\"data\":{\"Class\":[1,1,1,1,1],\"CoinName\":[\"BiblePay\",\"LitecoinCash\",\"Poa Network\",\"Acute Angle Cloud\",\"Waves\"],\"TotalCoinSupply\":{\"__ndarray__\":\"lPYGX5hMdT+8eapDboZLP4RaKOGWizA//Knx0k1iUD8sQxzr4jYaPw==\",\"dtype\":\"float64\",\"order\":\"little\",\"shape\":[5]},\"TotalCoinsMined\":{\"__ndarray__\":\"j1gNkdpTXT+QpMXySiFFP5wZJXiPEis/ekNDBbiMUD/7RX5gv3oaPw==\",\"dtype\":\"float64\",\"order\":\"little\",\"shape\":[5]}},\"selected\":{\"id\":\"2473\"},\"selection_policy\":{\"id\":\"2489\"}},\"id\":\"2472\",\"type\":\"ColumnDataSource\"},{\"attributes\":{\"angle\":{\"value\":0.0},\"fill_alpha\":{\"value\":1.0},\"fill_color\":{\"value\":\"#e5ae38\"},\"hatch_alpha\":{\"value\":1.0},\"hatch_color\":{\"value\":\"#e5ae38\"},\"hatch_scale\":{\"value\":12.0},\"hatch_weight\":{\"value\":1.0},\"line_alpha\":{\"value\":1.0},\"line_cap\":{\"value\":\"butt\"},\"line_color\":{\"value\":\"#e5ae38\"},\"line_dash\":{\"value\":[]},\"line_dash_offset\":{\"value\":0},\"line_join\":{\"value\":\"bevel\"},\"line_width\":{\"value\":1},\"marker\":{\"value\":\"circle\"},\"size\":{\"value\":5.477225575051661},\"x\":{\"field\":\"TotalCoinsMined\"},\"y\":{\"field\":\"TotalCoinSupply\"}},\"id\":\"2517\",\"type\":\"Scatter\"},{\"attributes\":{},\"id\":\"2519\",\"type\":\"Selection\"}],\"root_ids\":[\"2407\"]},\"title\":\"Bokeh Application\",\"version\":\"2.4.3\"}};\n    var render_items = [{\"docid\":\"57d696a6-3bb0-4a20-ba3a-fb34e993e421\",\"root_ids\":[\"2407\"],\"roots\":{\"2407\":\"5db863b4-00d1-4ee4-a4bb-d9f1ea7f5f74\"}}];\n    root.Bokeh.embed.embed_items_notebook(docs_json, render_items);\n  }\n  if (root.Bokeh !== undefined && root.Bokeh.Panel !== undefined) {\n    embed_document(root);\n  } else {\n    var attempts = 0;\n    var timer = setInterval(function(root) {\n      if (root.Bokeh !== undefined && root.Bokeh.Panel !== undefined) {\n        clearInterval(timer);\n        embed_document(root);\n      } else if (document.readyState == \"complete\") {\n        attempts++;\n        if (attempts > 200) {\n          clearInterval(timer);\n          console.log(\"Bokeh: ERROR: Unable to run BokehJS code because BokehJS library is missing\");\n        }\n      }\n    }, 25, root)\n  }\n})(window);</script>",
      "application/vnd.holoviews_exec.v0+json": "",
      "text/plain": ":NdOverlay   [Class]\n   :Scatter   [TotalCoinsMined]   (TotalCoinSupply,CoinName)"
     },
     "execution_count": 97,
     "metadata": {
      "application/vnd.holoviews_exec.v0+json": {
       "id": "2407"
      }
     },
     "output_type": "execute_result"
    }
   ],
   "source": [
    "# Create a hvplot.scatter plot using x=\"TotalCoinsMined\" and y=\"TotalCoinSupply\".\n",
    "scaled_clustered_df.hvplot.scatter(x=\"TotalCoinsMined\", y=\"TotalCoinSupply\",by=\"Class\", hover_cols=[\"CoinName\"])"
   ]
  }
 ],
 "metadata": {
  "file_extension": ".py",
  "kernelspec": {
   "display_name": "Python 3",
   "language": "python",
   "name": "python3"
  },
  "language_info": {
   "codemirror_mode": {
    "name": "ipython",
    "version": 3
   },
   "file_extension": ".py",
   "mimetype": "text/x-python",
   "name": "python",
   "nbconvert_exporter": "python",
   "pygments_lexer": "ipython3",
   "version": "3.7.4"
  },
  "latex_envs": {
   "LaTeX_envs_menu_present": true,
   "autoclose": false,
   "autocomplete": true,
   "bibliofile": "biblio.bib",
   "cite_by": "apalike",
   "current_citInitial": 1,
   "eqLabelWithNumbers": true,
   "eqNumInitial": 1,
   "hotkeys": {
    "equation": "Ctrl-E",
    "itemize": "Ctrl-I"
   },
   "labels_anchors": false,
   "latex_user_defs": false,
   "report_style_numbering": false,
   "user_envs_cfg": false
  },
  "mimetype": "text/x-python",
  "name": "python",
  "npconvert_exporter": "python",
  "pygments_lexer": "ipython3",
  "version": 3
 },
 "nbformat": 4,
 "nbformat_minor": 2
}
